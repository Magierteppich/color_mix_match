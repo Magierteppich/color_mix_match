{
 "cells": [
  {
   "cell_type": "markdown",
   "metadata": {},
   "source": [
    "# 03_category_prediction"
   ]
  },
  {
   "cell_type": "code",
   "execution_count": null,
   "metadata": {},
   "outputs": [],
   "source": [
    "# source: https://medium.com/nybles/create-your-first-image-recognition-classifier-using-cnn-keras-and-tensorflow-backend-6eaab98d14dd"
   ]
  },
  {
   "cell_type": "code",
   "execution_count": 11,
   "metadata": {},
   "outputs": [],
   "source": [
    "# worked in the env_ml environment\n",
    "\n",
    "import tensorflow as tf\n",
    "from tensorflow import keras\n",
    "from tensorflow.keras import layers\n",
    "from tensorflow.keras import models\n",
    "from tensorflow.keras import preprocessing\n",
    "from tensorflow.keras.preprocessing.image import load_img\n",
    "from os.path import isfile, join\n",
    "from os import listdir\n",
    "import pandas as pd"
   ]
  },
  {
   "cell_type": "code",
   "execution_count": 13,
   "metadata": {},
   "outputs": [
    {
     "name": "stdout",
     "output_type": "stream",
     "text": [
      "Loaded model from disk\n"
     ]
    }
   ],
   "source": [
    "# later...\n",
    "\n",
    "# load json and create model\n",
    "json_file = open('model/model.json', 'r')\n",
    "loaded_model_json = json_file.read()\n",
    "json_file.close()\n",
    "loaded_model = tf.keras.models.model_from_json(loaded_model_json)\n",
    "# load weights into new model\n",
    "loaded_model.load_weights(\"model/model.h5\")\n",
    "print(\"Loaded model from disk\")"
   ]
  },
  {
   "cell_type": "code",
   "execution_count": 133,
   "metadata": {},
   "outputs": [
    {
     "data": {
      "text/plain": [
       "array([[0., 0., 0., 0., 0., 0., 0., 1., 0., 0.]], dtype=float32)"
      ]
     },
     "execution_count": 133,
     "metadata": {},
     "output_type": "execute_result"
    }
   ],
   "source": [
    "from  tensorflow.keras.preprocessing import image\n",
    "import numpy as np\n",
    "\n",
    "test_image = image.load_img(\"/Users/Tianwang/IRONHACK/GIT/06_color_mix_match/00_data/00_test_pic/horse.jpg\", target_size = (32, 32))\n",
    "test_image = image.img_to_array(test_image)\n",
    "test_image = np.expand_dims(test_image, axis = 0)\n",
    "results = loaded_model.predict(test_image)\n",
    "results"
   ]
  },
  {
   "cell_type": "code",
   "execution_count": 134,
   "metadata": {},
   "outputs": [],
   "source": [
    "category_dict = {\"airplane\" : 0,\n",
    "                  \"automobile\" : 1,\n",
    "                  \"bird\" : 2,\n",
    "                  \"cat\" : 3,\n",
    "                  \"deer\" : 4,\n",
    "                  \"dog\" : 5,\n",
    "                  \"frog\" : 6 ,\n",
    "                  \"horse\" : 7,\n",
    "                  \"ship\" : 8 ,\n",
    "                  \"truck\" : 9}"
   ]
  },
  {
   "cell_type": "code",
   "execution_count": 135,
   "metadata": {},
   "outputs": [
    {
     "data": {
      "text/plain": [
       "7"
      ]
     },
     "execution_count": 135,
     "metadata": {},
     "output_type": "execute_result"
    }
   ],
   "source": [
    "index_max = np.argmax(results)\n",
    "index_max"
   ]
  },
  {
   "cell_type": "code",
   "execution_count": 136,
   "metadata": {},
   "outputs": [],
   "source": [
    "category_list = list(category_dict)"
   ]
  },
  {
   "cell_type": "code",
   "execution_count": 137,
   "metadata": {},
   "outputs": [
    {
     "data": {
      "text/plain": [
       "'horse'"
      ]
     },
     "execution_count": 137,
     "metadata": {},
     "output_type": "execute_result"
    }
   ],
   "source": [
    "predicted_object = category_list[index_max]\n",
    "predicted_object"
   ]
  },
  {
   "cell_type": "markdown",
   "metadata": {},
   "source": [
    "# Write a function, that takes in test pictures and return a dataframe"
   ]
  },
  {
   "cell_type": "code",
   "execution_count": 103,
   "metadata": {},
   "outputs": [],
   "source": [
    "def image_processing (file_path):\n",
    "\n",
    "    input_image = image.load_img(file_path, target_size = (32, 32))\n",
    "    input_image = image.img_to_array(input_image)\n",
    "    input_image = np.expand_dims(input_image, axis = 0)\n",
    "    \n",
    "    return input_image"
   ]
  },
  {
   "cell_type": "code",
   "execution_count": 45,
   "metadata": {},
   "outputs": [],
   "source": [
    "def load_model (model_path, model_weight_path):\n",
    "    json_file = open(model_path, 'r')\n",
    "    loaded_model_json = json_file.read()\n",
    "    json_file.close()\n",
    "    loaded_model = tf.keras.models.model_from_json(loaded_model_json)\n",
    "    # load weights into new model\n",
    "    loaded_model.load_weights(model_weight_path)\n",
    "    \n",
    "    return loaded_model"
   ]
  },
  {
   "cell_type": "code",
   "execution_count": 139,
   "metadata": {},
   "outputs": [],
   "source": [
    "def predicted_object (input_image, loaded_model, category_dict):\n",
    "\n",
    "    results = loaded_model.predict(input_image)\n",
    "    results_index = np.where(results.max())\n",
    "    index_max = np.argmax(results)\n",
    "    category_list = list(category_dict)\n",
    "    predicted_object = category_list[index_max]\n",
    "    \n",
    "    return predicted_object"
   ]
  },
  {
   "cell_type": "markdown",
   "metadata": {},
   "source": [
    "### Combine into 1 function"
   ]
  },
  {
   "cell_type": "code",
   "execution_count": 159,
   "metadata": {},
   "outputs": [
    {
     "data": {
      "text/plain": [
       "'dog'"
      ]
     },
     "execution_count": 159,
     "metadata": {},
     "output_type": "execute_result"
    }
   ],
   "source": [
    "file_path = \"/Users/Tianwang/IRONHACK/GIT/06_color_mix_match/00_data/00_test_pic/dog.jpg\"\n",
    "model_path = \"/Users/Tianwang/IRONHACK/GIT/06_color_mix_match/01_notebook/model/model.json\"\n",
    "model_weight_path = \"/Users/Tianwang/IRONHACK/GIT/06_color_mix_match/01_notebook/model/model.h5\"\n",
    "category_dict = {\"airplane\" : 0,\n",
    "                  \"automobile\" : 1,\n",
    "                  \"bird\" : 2,\n",
    "                  \"cat\" : 3,\n",
    "                  \"deer\" : 4,\n",
    "                  \"dog\" : 5,\n",
    "                  \"frog\" : 6 ,\n",
    "                  \"horse\" : 7,\n",
    "                  \"ship\" : 8 ,\n",
    "                  \"truck\" : 9}\n",
    "\n",
    "predicted_object (image_processing(file_path), load_model (model_path, model_weight_path), category_dict)"
   ]
  },
  {
   "cell_type": "code",
   "execution_count": 155,
   "metadata": {},
   "outputs": [],
   "source": [
    "#####################################\n",
    "\n",
    "# The function takes the file_path of 1 image to be predicted and returns the prediction."
   ]
  },
  {
   "cell_type": "code",
   "execution_count": 157,
   "metadata": {},
   "outputs": [],
   "source": [
    "def prediction (file_path, model_path, model_weight_path, category_dict):\n",
    "    \n",
    "    return predicted_object (image_processing(file_path), load_model (model_path, model_weight_path), category_dict)"
   ]
  },
  {
   "cell_type": "code",
   "execution_count": null,
   "metadata": {},
   "outputs": [],
   "source": [
    "#####################################"
   ]
  },
  {
   "cell_type": "code",
   "execution_count": 158,
   "metadata": {},
   "outputs": [
    {
     "data": {
      "text/plain": [
       "'ship'"
      ]
     },
     "execution_count": 158,
     "metadata": {},
     "output_type": "execute_result"
    }
   ],
   "source": [
    "prediction (file_path, model_path, model_weight_path, category_dict)"
   ]
  },
  {
   "cell_type": "markdown",
   "metadata": {},
   "source": [
    "### Modify the function, such that it takes as many pictures as given and return a df with all files and the predicted objects"
   ]
  },
  {
   "cell_type": "code",
   "execution_count": 163,
   "metadata": {},
   "outputs": [],
   "source": [
    "path_to_library = \"/Users/Tianwang/IRONHACK/GIT/06_color_mix_match/00_data/00_test_pic\"\n",
    "files = [f for f in listdir(path_to_library) if isfile(join(path_to_library, f))]"
   ]
  },
  {
   "cell_type": "code",
   "execution_count": 171,
   "metadata": {},
   "outputs": [],
   "source": [
    "predicted_object_list = []\n",
    "\n",
    "for f in files: \n",
    "    predicted_object_list.append(prediction (path_to_library + \"/\" + f, model_path, model_weight_path, category_dict))\n"
   ]
  },
  {
   "cell_type": "code",
   "execution_count": 172,
   "metadata": {},
   "outputs": [
    {
     "data": {
      "text/plain": [
       "['dog', 'horse', 'ship', 'airplane', 'ship', 'airplane', 'horse', 'ship']"
      ]
     },
     "execution_count": 172,
     "metadata": {},
     "output_type": "execute_result"
    }
   ],
   "source": [
    "predicted_object_list"
   ]
  },
  {
   "cell_type": "code",
   "execution_count": 175,
   "metadata": {},
   "outputs": [],
   "source": [
    "###############\n",
    "# Function takes all files within a folder and return a list of predicted objects "
   ]
  },
  {
   "cell_type": "code",
   "execution_count": 187,
   "metadata": {},
   "outputs": [],
   "source": [
    "def predicted_object_df (path_to_library):\n",
    "    \n",
    "    files = [f for f in listdir(path_to_library) if isfile(join(path_to_library, f))]\n",
    "    predicted_object_list = []\n",
    "\n",
    "    for f in files: \n",
    "        predicted_object_list.append(prediction (path_to_library + \"/\" + f, model_path, model_weight_path, category_dict))\n",
    "\n",
    "    prediction_df = pd.DataFrame(zip(files, predicted_object_list))\n",
    "    \n",
    "    return prediction_df"
   ]
  },
  {
   "cell_type": "code",
   "execution_count": 176,
   "metadata": {},
   "outputs": [],
   "source": [
    "##############"
   ]
  },
  {
   "cell_type": "code",
   "execution_count": 190,
   "metadata": {},
   "outputs": [
    {
     "data": {
      "text/html": [
       "<div>\n",
       "<style scoped>\n",
       "    .dataframe tbody tr th:only-of-type {\n",
       "        vertical-align: middle;\n",
       "    }\n",
       "\n",
       "    .dataframe tbody tr th {\n",
       "        vertical-align: top;\n",
       "    }\n",
       "\n",
       "    .dataframe thead th {\n",
       "        text-align: right;\n",
       "    }\n",
       "</style>\n",
       "<table border=\"1\" class=\"dataframe\">\n",
       "  <thead>\n",
       "    <tr style=\"text-align: right;\">\n",
       "      <th></th>\n",
       "      <th>0</th>\n",
       "      <th>1</th>\n",
       "    </tr>\n",
       "  </thead>\n",
       "  <tbody>\n",
       "    <tr>\n",
       "      <th>0</th>\n",
       "      <td>dog.jpg</td>\n",
       "      <td>dog</td>\n",
       "    </tr>\n",
       "    <tr>\n",
       "      <th>1</th>\n",
       "      <td>horse.jpg</td>\n",
       "      <td>horse</td>\n",
       "    </tr>\n",
       "    <tr>\n",
       "      <th>2</th>\n",
       "      <td>frog_2.jpg</td>\n",
       "      <td>ship</td>\n",
       "    </tr>\n",
       "    <tr>\n",
       "      <th>3</th>\n",
       "      <td>airplane.jpg</td>\n",
       "      <td>airplane</td>\n",
       "    </tr>\n",
       "    <tr>\n",
       "      <th>4</th>\n",
       "      <td>frog.jpg</td>\n",
       "      <td>ship</td>\n",
       "    </tr>\n",
       "    <tr>\n",
       "      <th>5</th>\n",
       "      <td>tree.jpg</td>\n",
       "      <td>airplane</td>\n",
       "    </tr>\n",
       "    <tr>\n",
       "      <th>6</th>\n",
       "      <td>flower.jpg</td>\n",
       "      <td>horse</td>\n",
       "    </tr>\n",
       "    <tr>\n",
       "      <th>7</th>\n",
       "      <td>horse_2.jpg</td>\n",
       "      <td>bird</td>\n",
       "    </tr>\n",
       "    <tr>\n",
       "      <th>8</th>\n",
       "      <td>mila.jpeg</td>\n",
       "      <td>ship</td>\n",
       "    </tr>\n",
       "  </tbody>\n",
       "</table>\n",
       "</div>"
      ],
      "text/plain": [
       "              0         1\n",
       "0       dog.jpg       dog\n",
       "1     horse.jpg     horse\n",
       "2    frog_2.jpg      ship\n",
       "3  airplane.jpg  airplane\n",
       "4      frog.jpg      ship\n",
       "5      tree.jpg  airplane\n",
       "6    flower.jpg     horse\n",
       "7   horse_2.jpg      bird\n",
       "8     mila.jpeg      ship"
      ]
     },
     "execution_count": 190,
     "metadata": {},
     "output_type": "execute_result"
    }
   ],
   "source": [
    "predicted_object_list(\"/Users/Tianwang/IRONHACK/GIT/06_color_mix_match/00_data/00_test_pic\")"
   ]
  }
 ],
 "metadata": {
  "kernelspec": {
   "display_name": "Python 3",
   "language": "python",
   "name": "python3"
  },
  "language_info": {
   "codemirror_mode": {
    "name": "ipython",
    "version": 3
   },
   "file_extension": ".py",
   "mimetype": "text/x-python",
   "name": "python",
   "nbconvert_exporter": "python",
   "pygments_lexer": "ipython3",
   "version": "3.7.7"
  }
 },
 "nbformat": 4,
 "nbformat_minor": 4
}
