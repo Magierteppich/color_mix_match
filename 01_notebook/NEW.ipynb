{
 "cells": [
  {
   "cell_type": "code",
   "execution_count": 1,
   "metadata": {},
   "outputs": [],
   "source": [
    "from img_preprocess import *\n",
    "from img_feature import *"
   ]
  },
  {
   "cell_type": "code",
   "execution_count": 4,
   "metadata": {},
   "outputs": [
    {
     "data": {
      "text/plain": [
       "['../00_data/00_test_pic//.DS_Store',\n",
       " '../00_data/00_test_pic//frog_2.jpg',\n",
       " '../00_data/00_test_pic//test.jpg',\n",
       " '../00_data/00_test_pic//red.jpg']"
      ]
     },
     "execution_count": 4,
     "metadata": {},
     "output_type": "execute_result"
    }
   ],
   "source": [
    "file_list = get_file_path(\"../00_data/00_test_pic/\")\n",
    "file_list"
   ]
  },
  {
   "cell_type": "code",
   "execution_count": 5,
   "metadata": {},
   "outputs": [
    {
     "name": "stdout",
     "output_type": "stream",
     "text": [
      "File ../00_data/00_test_pic//.DS_Store is not readable.\n"
     ]
    }
   ],
   "source": [
    "img_list, valid_path = img_read(file_list)"
   ]
  },
  {
   "cell_type": "code",
   "execution_count": 6,
   "metadata": {},
   "outputs": [
    {
     "data": {
      "text/plain": [
       "[array([[[ 39,  97,  43],\n",
       "         [ 39,  97,  43],\n",
       "         [ 39,  97,  43],\n",
       "         ..., \n",
       "         [ 23,  56,  22],\n",
       "         [ 23,  54,  23],\n",
       "         [115, 139, 115]],\n",
       " \n",
       "        [[ 39,  97,  43],\n",
       "         [ 39,  97,  43],\n",
       "         [ 39,  97,  43],\n",
       "         ..., \n",
       "         [ 23,  56,  22],\n",
       "         [ 22,  53,  22],\n",
       "         [115, 139, 115]],\n",
       " \n",
       "        [[ 39,  97,  43],\n",
       "         [ 39,  97,  43],\n",
       "         [ 39,  97,  43],\n",
       "         ..., \n",
       "         [ 23,  56,  22],\n",
       "         [ 22,  53,  22],\n",
       "         [115, 140, 114]],\n",
       " \n",
       "        ..., \n",
       "        [[ 15, 110,  36],\n",
       "         [ 15, 110,  36],\n",
       "         [ 16, 111,  37],\n",
       "         ..., \n",
       "         [ 26, 130,  53],\n",
       "         [ 26, 131,  58],\n",
       "         [118, 182, 136]],\n",
       " \n",
       "        [[ 18, 109,  34],\n",
       "         [ 16, 109,  34],\n",
       "         [ 14, 109,  34],\n",
       "         ..., \n",
       "         [ 27, 132,  59],\n",
       "         [ 25, 133,  61],\n",
       "         [117, 183, 134]],\n",
       " \n",
       "        [[ 18, 109,  34],\n",
       "         [ 16, 109,  34],\n",
       "         [ 14, 109,  34],\n",
       "         ..., \n",
       "         [ 27, 132,  59],\n",
       "         [ 25, 133,  60],\n",
       "         [117, 183, 134]]], dtype=uint8),\n",
       " array([[[255, 255, 255],\n",
       "         [255, 255, 255],\n",
       "         [255, 255, 255],\n",
       "         ..., \n",
       "         [255, 255, 255],\n",
       "         [255, 255, 255],\n",
       "         [255, 255, 255]],\n",
       " \n",
       "        [[255, 255, 255],\n",
       "         [255, 255, 255],\n",
       "         [255, 255, 255],\n",
       "         ..., \n",
       "         [255, 255, 255],\n",
       "         [255, 255, 255],\n",
       "         [255, 255, 255]],\n",
       " \n",
       "        [[255, 255, 255],\n",
       "         [255, 255, 255],\n",
       "         [255, 255, 255],\n",
       "         ..., \n",
       "         [255, 255, 255],\n",
       "         [255, 255, 255],\n",
       "         [255, 255, 255]],\n",
       " \n",
       "        ..., \n",
       "        [[ 79,  75,  74],\n",
       "         [ 71,  67,  66],\n",
       "         [ 97,  93,  92],\n",
       "         ..., \n",
       "         [ 68,  63,  62],\n",
       "         [ 66,  61,  60],\n",
       "         [ 76,  71,  70]],\n",
       " \n",
       "        [[ 80,  76,  75],\n",
       "         [ 67,  63,  62],\n",
       "         [ 70,  66,  65],\n",
       "         ..., \n",
       "         [ 67,  62,  61],\n",
       "         [ 71,  66,  65],\n",
       "         [ 75,  70,  69]],\n",
       " \n",
       "        [[ 78,  74,  73],\n",
       "         [ 81,  77,  76],\n",
       "         [ 78,  74,  73],\n",
       "         ..., \n",
       "         [ 75,  70,  69],\n",
       "         [ 74,  69,  68],\n",
       "         [ 75,  70,  69]]], dtype=uint8),\n",
       " array([[[ 63,  40, 125],\n",
       "         [ 61,  38, 123],\n",
       "         [ 59,  35, 123],\n",
       "         ..., \n",
       "         [ 57,  39, 132],\n",
       "         [ 11,   0,  86],\n",
       "         [ 11,   0,  85]],\n",
       " \n",
       "        [[ 63,  40, 125],\n",
       "         [ 62,  38, 126],\n",
       "         [ 62,  38, 126],\n",
       "         ..., \n",
       "         [ 64,  46, 139],\n",
       "         [ 11,   0,  85],\n",
       "         [ 11,   0,  85]],\n",
       " \n",
       "        [[ 75,  51, 139],\n",
       "         [ 72,  48, 136],\n",
       "         [ 64,  39, 129],\n",
       "         ..., \n",
       "         [ 80,  62, 155],\n",
       "         [ 39,  22, 113],\n",
       "         [ 39,  22, 113]],\n",
       " \n",
       "        ..., \n",
       "        [[ 17,   0,  93],\n",
       "         [ 18,   0,  94],\n",
       "         [ 18,   0,  93],\n",
       "         ..., \n",
       "         [  0,   0,  14],\n",
       "         [  0,   0,  13],\n",
       "         [  0,   0,  12]],\n",
       " \n",
       "        [[ 68,  50, 143],\n",
       "         [ 25,   7, 100],\n",
       "         [ 20,   3,  94],\n",
       "         ..., \n",
       "         [  0,   0,  13],\n",
       "         [ 14,  16,  27],\n",
       "         [ 70,  72,  82]],\n",
       " \n",
       "        [[ 68,  51, 142],\n",
       "         [ 25,   8,  99],\n",
       "         [ 20,   3,  94],\n",
       "         ..., \n",
       "         [  0,   0,  11],\n",
       "         [ 14,  16,  26],\n",
       "         [ 70,  73,  81]]], dtype=uint8)]"
      ]
     },
     "execution_count": 6,
     "metadata": {},
     "output_type": "execute_result"
    }
   ],
   "source": [
    "img_list"
   ]
  },
  {
   "cell_type": "code",
   "execution_count": 8,
   "metadata": {},
   "outputs": [],
   "source": [
    "list_resize = img_resize(img_list, height=220, width=220)"
   ]
  },
  {
   "cell_type": "code",
   "execution_count": 10,
   "metadata": {},
   "outputs": [],
   "source": [
    "list_denoise = img_denoise(list_resize)"
   ]
  },
  {
   "cell_type": "code",
   "execution_count": 11,
   "metadata": {},
   "outputs": [
    {
     "data": {
      "text/plain": [
       "[array([[[ 39,  97,  43],\n",
       "         [ 39,  97,  43],\n",
       "         [ 39,  97,  43],\n",
       "         ..., \n",
       "         [ 22,  62,  23],\n",
       "         [ 24,  60,  24],\n",
       "         [ 25,  60,  25]],\n",
       " \n",
       "        [[ 39,  97,  43],\n",
       "         [ 39,  97,  43],\n",
       "         [ 39,  97,  43],\n",
       "         ..., \n",
       "         [ 22,  62,  23],\n",
       "         [ 24,  60,  24],\n",
       "         [ 25,  60,  25]],\n",
       " \n",
       "        [[ 39,  97,  43],\n",
       "         [ 39,  97,  43],\n",
       "         [ 39,  97,  43],\n",
       "         ..., \n",
       "         [ 22,  62,  23],\n",
       "         [ 24,  60,  24],\n",
       "         [ 26,  60,  25]],\n",
       " \n",
       "        ..., \n",
       "        [[ 15, 112,  37],\n",
       "         [ 15, 112,  37],\n",
       "         [ 15, 113,  37],\n",
       "         ..., \n",
       "         [ 27, 127,  53],\n",
       "         [ 29, 129,  55],\n",
       "         [ 30, 131,  57]],\n",
       " \n",
       "        [[ 15, 111,  37],\n",
       "         [ 15, 111,  37],\n",
       "         [ 14, 111,  37],\n",
       "         ..., \n",
       "         [ 26, 127,  53],\n",
       "         [ 28, 129,  56],\n",
       "         [ 30, 131,  58]],\n",
       " \n",
       "        [[ 15, 110,  36],\n",
       "         [ 15, 111,  36],\n",
       "         [ 14, 111,  36],\n",
       "         ..., \n",
       "         [ 26, 127,  53],\n",
       "         [ 28, 130,  56],\n",
       "         [ 29, 131,  58]]], dtype=uint8),\n",
       " array([[[255, 255, 255],\n",
       "         [255, 255, 255],\n",
       "         [255, 255, 255],\n",
       "         ..., \n",
       "         [255, 255, 255],\n",
       "         [255, 255, 255],\n",
       "         [255, 255, 255]],\n",
       " \n",
       "        [[255, 255, 255],\n",
       "         [255, 255, 255],\n",
       "         [255, 255, 255],\n",
       "         ..., \n",
       "         [255, 255, 255],\n",
       "         [255, 255, 255],\n",
       "         [255, 255, 255]],\n",
       " \n",
       "        [[255, 255, 255],\n",
       "         [255, 255, 255],\n",
       "         [255, 255, 255],\n",
       "         ..., \n",
       "         [255, 255, 255],\n",
       "         [255, 255, 255],\n",
       "         [255, 255, 255]],\n",
       " \n",
       "        ..., \n",
       "        [[ 83,  78,  77],\n",
       "         [ 82,  77,  76],\n",
       "         [ 82,  77,  76],\n",
       "         ..., \n",
       "         [ 75,  70,  69],\n",
       "         [ 76,  71,  70],\n",
       "         [ 76,  71,  70]],\n",
       " \n",
       "        [[ 83,  78,  77],\n",
       "         [ 82,  77,  76],\n",
       "         [ 82,  77,  76],\n",
       "         ..., \n",
       "         [ 77,  72,  71],\n",
       "         [ 77,  72,  71],\n",
       "         [ 77,  72,  71]],\n",
       " \n",
       "        [[ 83,  78,  77],\n",
       "         [ 82,  77,  76],\n",
       "         [ 82,  77,  76],\n",
       "         ..., \n",
       "         [ 78,  73,  72],\n",
       "         [ 79,  74,  73],\n",
       "         [ 79,  74,  73]]], dtype=uint8),\n",
       " array([[[ 65,  40, 129],\n",
       "         [ 65,  40, 131],\n",
       "         [ 64,  38, 131],\n",
       "         ..., \n",
       "         [ 57,  39, 132],\n",
       "         [ 51,  34, 126],\n",
       "         [ 47,  31, 122]],\n",
       " \n",
       "        [[ 64,  40, 129],\n",
       "         [ 64,  39, 130],\n",
       "         [ 62,  36, 129],\n",
       "         ..., \n",
       "         [ 61,  44, 136],\n",
       "         [ 56,  39, 131],\n",
       "         [ 53,  37, 128]],\n",
       " \n",
       "        [[ 62,  37, 128],\n",
       "         [ 61,  35, 128],\n",
       "         [ 57,  31, 126],\n",
       "         ..., \n",
       "         [ 65,  48, 138],\n",
       "         [ 63,  46, 137],\n",
       "         [ 62,  45, 137]],\n",
       " \n",
       "        ..., \n",
       "        [[ 28,  11, 104],\n",
       "         [ 30,  13, 104],\n",
       "         [ 33,  17, 105],\n",
       "         ..., \n",
       "         [ 17,  14,  50],\n",
       "         [ 16,  14,  42],\n",
       "         [ 14,  14,  37]],\n",
       " \n",
       "        [[ 26,  10, 100],\n",
       "         [ 26,  11, 100],\n",
       "         [ 27,  12,  99],\n",
       "         ..., \n",
       "         [ 19,  16,  50],\n",
       "         [ 16,  15,  39],\n",
       "         [ 14,  14,  33]],\n",
       " \n",
       "        [[ 26,  10, 100],\n",
       "         [ 26,  10,  99],\n",
       "         [ 25,  10,  98],\n",
       "         ..., \n",
       "         [ 21,  18,  50],\n",
       "         [ 17,  16,  38],\n",
       "         [ 15,  15,  33]]], dtype=uint8)]"
      ]
     },
     "execution_count": 11,
     "metadata": {},
     "output_type": "execute_result"
    }
   ],
   "source": [
    "list_denoise"
   ]
  },
  {
   "cell_type": "code",
   "execution_count": 13,
   "metadata": {},
   "outputs": [
    {
     "name": "stdout",
     "output_type": "stream",
     "text": [
      "File ../00_data/00_test_pic//.DS_Store is not readable.\n"
     ]
    },
    {
     "ename": "TypeError",
     "evalue": "Expected Ptr<cv::UMat> for argument 'src'",
     "output_type": "error",
     "traceback": [
      "\u001b[0;31m---------------------------------------------------------------------------\u001b[0m",
      "\u001b[0;31mTypeError\u001b[0m                                 Traceback (most recent call last)",
      "\u001b[0;32m<ipython-input-13-b498b7b13bc7>\u001b[0m in \u001b[0;36m<module>\u001b[0;34m\u001b[0m\n\u001b[0;32m----> 1\u001b[0;31m \u001b[0mimg_ready\u001b[0m\u001b[0;34m(\u001b[0m\u001b[0;34m\"../00_data/00_test_pic/\"\u001b[0m\u001b[0;34m)\u001b[0m\u001b[0;34m\u001b[0m\u001b[0;34m\u001b[0m\u001b[0m\n\u001b[0m",
      "\u001b[0;32m~/IRONHACK/GIT/06_color_mix_match/01_notebook/img_preprocess.py\u001b[0m in \u001b[0;36mimg_ready\u001b[0;34m(path_to_library, height, width)\u001b[0m\n\u001b[1;32m     59\u001b[0m         \u001b[0mfile_list\u001b[0m \u001b[0;34m=\u001b[0m \u001b[0mget_file_path\u001b[0m\u001b[0;34m(\u001b[0m\u001b[0mpath_to_library\u001b[0m\u001b[0;34m)\u001b[0m\u001b[0;34m\u001b[0m\u001b[0;34m\u001b[0m\u001b[0m\n\u001b[1;32m     60\u001b[0m         \u001b[0mimg_list\u001b[0m \u001b[0;34m=\u001b[0m \u001b[0mimg_read\u001b[0m\u001b[0;34m(\u001b[0m\u001b[0mfile_list\u001b[0m\u001b[0;34m)\u001b[0m\u001b[0;34m\u001b[0m\u001b[0;34m\u001b[0m\u001b[0m\n\u001b[0;32m---> 61\u001b[0;31m         \u001b[0mlist_resize\u001b[0m \u001b[0;34m=\u001b[0m \u001b[0mimg_resize\u001b[0m\u001b[0;34m(\u001b[0m\u001b[0mimg_list\u001b[0m\u001b[0;34m,\u001b[0m \u001b[0mheight\u001b[0m \u001b[0;34m=\u001b[0m \u001b[0mheight\u001b[0m\u001b[0;34m,\u001b[0m \u001b[0mwidth\u001b[0m \u001b[0;34m=\u001b[0m \u001b[0mwidth\u001b[0m\u001b[0;34m)\u001b[0m\u001b[0;34m\u001b[0m\u001b[0;34m\u001b[0m\u001b[0m\n\u001b[0m\u001b[1;32m     62\u001b[0m         \u001b[0mlist_denoise\u001b[0m \u001b[0;34m=\u001b[0m \u001b[0mimg_denoise\u001b[0m\u001b[0;34m(\u001b[0m\u001b[0mlist_resize\u001b[0m\u001b[0;34m)\u001b[0m\u001b[0;34m\u001b[0m\u001b[0;34m\u001b[0m\u001b[0m\n\u001b[1;32m     63\u001b[0m         \u001b[0mimage_ready\u001b[0m \u001b[0;34m=\u001b[0m \u001b[0mlist_denoise\u001b[0m\u001b[0;34m.\u001b[0m\u001b[0mcopy\u001b[0m\u001b[0;34m(\u001b[0m\u001b[0;34m)\u001b[0m\u001b[0;34m\u001b[0m\u001b[0;34m\u001b[0m\u001b[0m\n",
      "\u001b[0;32m~/IRONHACK/GIT/06_color_mix_match/01_notebook/img_preprocess.py\u001b[0m in \u001b[0;36mimg_resize\u001b[0;34m(img_list, height, width)\u001b[0m\n\u001b[1;32m     39\u001b[0m \u001b[0;34m\u001b[0m\u001b[0m\n\u001b[1;32m     40\u001b[0m     \u001b[0;32mfor\u001b[0m \u001b[0mi\u001b[0m \u001b[0;32min\u001b[0m \u001b[0mrange\u001b[0m\u001b[0;34m(\u001b[0m\u001b[0mlen\u001b[0m\u001b[0;34m(\u001b[0m\u001b[0mimg_list\u001b[0m\u001b[0;34m)\u001b[0m\u001b[0;34m)\u001b[0m\u001b[0;34m:\u001b[0m\u001b[0;34m\u001b[0m\u001b[0;34m\u001b[0m\u001b[0m\n\u001b[0;32m---> 41\u001b[0;31m         \u001b[0mres\u001b[0m \u001b[0;34m=\u001b[0m \u001b[0mcv2\u001b[0m\u001b[0;34m.\u001b[0m\u001b[0mresize\u001b[0m\u001b[0;34m(\u001b[0m\u001b[0mimg_list\u001b[0m\u001b[0;34m[\u001b[0m\u001b[0mi\u001b[0m\u001b[0;34m]\u001b[0m\u001b[0;34m,\u001b[0m \u001b[0mdim\u001b[0m\u001b[0;34m,\u001b[0m \u001b[0minterpolation\u001b[0m \u001b[0;34m=\u001b[0m \u001b[0mcv2\u001b[0m\u001b[0;34m.\u001b[0m\u001b[0mINTER_LINEAR\u001b[0m\u001b[0;34m)\u001b[0m\u001b[0;34m\u001b[0m\u001b[0;34m\u001b[0m\u001b[0m\n\u001b[0m\u001b[1;32m     42\u001b[0m         \u001b[0mlist_resize\u001b[0m\u001b[0;34m.\u001b[0m\u001b[0mappend\u001b[0m\u001b[0;34m(\u001b[0m\u001b[0mres\u001b[0m\u001b[0;34m)\u001b[0m\u001b[0;34m\u001b[0m\u001b[0;34m\u001b[0m\u001b[0m\n\u001b[1;32m     43\u001b[0m \u001b[0;34m\u001b[0m\u001b[0m\n",
      "\u001b[0;31mTypeError\u001b[0m: Expected Ptr<cv::UMat> for argument 'src'"
     ]
    }
   ],
   "source": [
    "img_ready(\"../00_data/00_test_pic/\")"
   ]
  },
  {
   "cell_type": "code",
   "execution_count": null,
   "metadata": {},
   "outputs": [],
   "source": [
    "list_colorfulness = img_colorfulness(image_ready)\n",
    "list_colorfulness"
   ]
  },
  {
   "cell_type": "code",
   "execution_count": null,
   "metadata": {},
   "outputs": [],
   "source": [
    "img_list, valid_path = img_read(file_list)"
   ]
  },
  {
   "cell_type": "code",
   "execution_count": null,
   "metadata": {},
   "outputs": [],
   "source": [
    "list_hsv = img_hsv(image_ready)\n",
    "list_hsv"
   ]
  },
  {
   "cell_type": "code",
   "execution_count": null,
   "metadata": {},
   "outputs": [],
   "source": [
    "list_contrast = img_contrast(image_ready)\n",
    "list_contrast"
   ]
  },
  {
   "cell_type": "code",
   "execution_count": null,
   "metadata": {},
   "outputs": [],
   "source": [
    "list_dominant_color = img_dominant_color(image_ready)"
   ]
  },
  {
   "cell_type": "code",
   "execution_count": null,
   "metadata": {},
   "outputs": [],
   "source": [
    "list_average_RGB = average_RGB(image_ready)\n",
    "list_average_RGB"
   ]
  },
  {
   "cell_type": "code",
   "execution_count": null,
   "metadata": {},
   "outputs": [],
   "source": [
    "list_kelvin = convert_RGB_to_kelvin(list_average_RGB)\n",
    "list_kelvin"
   ]
  },
  {
   "cell_type": "code",
   "execution_count": null,
   "metadata": {},
   "outputs": [],
   "source": [
    "list_kelvin[0]"
   ]
  },
  {
   "cell_type": "code",
   "execution_count": null,
   "metadata": {},
   "outputs": [],
   "source": [
    "len(valid_path)"
   ]
  },
  {
   "cell_type": "code",
   "execution_count": null,
   "metadata": {},
   "outputs": [],
   "source": [
    "features = [\"H\", \"S\", \"V\", \"colorfulness\", \"contrast\", \"R\", \"G\", \"B\", \"kelvin\"]\n",
    "\n",
    "feature_list = []\n",
    "\n",
    "for i in range(len(valid_path)):\n",
    "    print(i)\n",
    "    temp = list_hsv[i] + list_colorfulness[i] + list_contrast[i] + list_dominant_color[i] + list_kelvin[i]\n",
    "    print(temp)\n",
    "    # feature_list.append(temp)\n",
    "    "
   ]
  },
  {
   "cell_type": "code",
   "execution_count": null,
   "metadata": {},
   "outputs": [],
   "source": [
    "list_hsv[2]"
   ]
  },
  {
   "cell_type": "code",
   "execution_count": null,
   "metadata": {},
   "outputs": [],
   "source": [
    "list_colorfulness[2]"
   ]
  },
  {
   "cell_type": "code",
   "execution_count": null,
   "metadata": {},
   "outputs": [],
   "source": [
    "list_hsv[2] + list_colorfulness[2]"
   ]
  },
  {
   "cell_type": "code",
   "execution_count": null,
   "metadata": {},
   "outputs": [],
   "source": [
    "test_list = list_hsv[2] + list_colorfulness[2] + list_contrast[2] + list_dominant_color[2] \n",
    "test_list"
   ]
  },
  {
   "cell_type": "code",
   "execution_count": null,
   "metadata": {},
   "outputs": [],
   "source": [
    "list_kelvin"
   ]
  },
  {
   "cell_type": "code",
   "execution_count": null,
   "metadata": {},
   "outputs": [],
   "source": [
    "test_list + list_kelvin[2]"
   ]
  },
  {
   "cell_type": "code",
   "execution_count": null,
   "metadata": {},
   "outputs": [],
   "source": [
    "img_get_feature(\"../00_data/00_test_pic/\")"
   ]
  },
  {
   "cell_type": "code",
   "execution_count": null,
   "metadata": {},
   "outputs": [],
   "source": [
    "for i in range(3):\n",
    "    print(i)"
   ]
  },
  {
   "cell_type": "code",
   "execution_count": null,
   "metadata": {},
   "outputs": [],
   "source": [
    "img_kelvin = []\n",
    "    \n",
    "for image in list_average_RGB: \n",
    "\n",
    "    RGB = np.array(image)\n",
    "\n",
    "        # Conversion to tristimulus values.\n",
    "    XYZ = colour.sRGB_to_XYZ(RGB / 255)\n",
    "\n",
    "        # Conversion to chromaticity coordinates.\n",
    "    xy = colour.XYZ_to_xy(XYZ)\n",
    "\n",
    "        # Conversion to correlated colour temperature in K.\n",
    "    CCT = [colour.xy_to_CCT(xy, 'hernandez1999')]\n",
    "        \n",
    "    img_kelvin.append(CCT)"
   ]
  },
  {
   "cell_type": "code",
   "execution_count": null,
   "metadata": {},
   "outputs": [],
   "source": [
    "img_kelvin"
   ]
  },
  {
   "cell_type": "code",
   "execution_count": null,
   "metadata": {},
   "outputs": [],
   "source": []
  }
 ],
 "metadata": {
  "kernelspec": {
   "display_name": "Python 3",
   "language": "python",
   "name": "python3"
  },
  "language_info": {
   "codemirror_mode": {
    "name": "ipython",
    "version": 3
   },
   "file_extension": ".py",
   "mimetype": "text/x-python",
   "name": "python",
   "nbconvert_exporter": "python",
   "pygments_lexer": "ipython3",
   "version": "3.7.7"
  }
 },
 "nbformat": 4,
 "nbformat_minor": 4
}
