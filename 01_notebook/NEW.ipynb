{
 "cells": [
  {
   "cell_type": "code",
   "execution_count": null,
   "metadata": {},
   "outputs": [],
   "source": [
    "from img_preprocess import *\n",
    "from img_feature import *"
   ]
  },
  {
   "cell_type": "code",
   "execution_count": null,
   "metadata": {},
   "outputs": [],
   "source": [
    "file_list = get_file_path(\"../00_data/00_test_pic/\")\n",
    "file_list"
   ]
  },
  {
   "cell_type": "code",
   "execution_count": null,
   "metadata": {},
   "outputs": [],
   "source": [
    "img_list, valid_path = img_read(file_list)"
   ]
  },
  {
   "cell_type": "code",
   "execution_count": null,
   "metadata": {},
   "outputs": [],
   "source": [
    "img_list"
   ]
  },
  {
   "cell_type": "code",
   "execution_count": null,
   "metadata": {},
   "outputs": [],
   "source": [
    "valid_path"
   ]
  },
  {
   "cell_type": "code",
   "execution_count": null,
   "metadata": {},
   "outputs": [],
   "source": [
    "list_resize = img_resize(img_list, height=220, width=220)\n",
    "list_resize"
   ]
  },
  {
   "cell_type": "code",
   "execution_count": null,
   "metadata": {},
   "outputs": [],
   "source": [
    "list_denoise = img_denoise(list_resize)"
   ]
  },
  {
   "cell_type": "code",
   "execution_count": null,
   "metadata": {},
   "outputs": [],
   "source": [
    "list_denoise"
   ]
  },
  {
   "cell_type": "code",
   "execution_count": null,
   "metadata": {},
   "outputs": [],
   "source": [
    "img_ready(\"../00_data/00_test_pic/\")"
   ]
  },
  {
   "cell_type": "code",
   "execution_count": null,
   "metadata": {},
   "outputs": [],
   "source": [
    "list_colorfulness = img_colorfulness(image_ready)\n",
    "list_colorfulness"
   ]
  },
  {
   "cell_type": "code",
   "execution_count": null,
   "metadata": {},
   "outputs": [],
   "source": [
    "img_list, valid_path = img_read(file_list)"
   ]
  },
  {
   "cell_type": "code",
   "execution_count": null,
   "metadata": {},
   "outputs": [],
   "source": [
    "list_hsv = img_hsv(image_ready)\n",
    "list_hsv"
   ]
  },
  {
   "cell_type": "code",
   "execution_count": null,
   "metadata": {},
   "outputs": [],
   "source": [
    "list_contrast = img_contrast(image_ready)\n",
    "list_contrast"
   ]
  },
  {
   "cell_type": "code",
   "execution_count": null,
   "metadata": {},
   "outputs": [],
   "source": [
    "list_dominant_color = img_dominant_color(image_ready)"
   ]
  },
  {
   "cell_type": "code",
   "execution_count": null,
   "metadata": {},
   "outputs": [],
   "source": [
    "list_average_RGB = average_RGB(image_ready)\n",
    "list_average_RGB"
   ]
  },
  {
   "cell_type": "code",
   "execution_count": null,
   "metadata": {},
   "outputs": [],
   "source": [
    "list_kelvin = convert_RGB_to_kelvin(list_average_RGB)\n",
    "list_kelvin"
   ]
  },
  {
   "cell_type": "code",
   "execution_count": null,
   "metadata": {},
   "outputs": [],
   "source": [
    "list_kelvin[0]"
   ]
  },
  {
   "cell_type": "code",
   "execution_count": null,
   "metadata": {},
   "outputs": [],
   "source": [
    "len(valid_path)"
   ]
  },
  {
   "cell_type": "code",
   "execution_count": null,
   "metadata": {},
   "outputs": [],
   "source": [
    "features = [\"H\", \"S\", \"V\", \"colorfulness\", \"contrast\", \"R\", \"G\", \"B\", \"kelvin\"]\n",
    "\n",
    "feature_list = []\n",
    "\n",
    "for i in range(len(valid_path)):\n",
    "    print(i)\n",
    "    temp = list_hsv[i] + list_colorfulness[i] + list_contrast[i] + list_dominant_color[i] + list_kelvin[i]\n",
    "    print(temp)\n",
    "    # feature_list.append(temp)\n",
    "    "
   ]
  },
  {
   "cell_type": "code",
   "execution_count": null,
   "metadata": {},
   "outputs": [],
   "source": [
    "list_hsv[2]"
   ]
  },
  {
   "cell_type": "code",
   "execution_count": null,
   "metadata": {},
   "outputs": [],
   "source": [
    "list_colorfulness[2]"
   ]
  },
  {
   "cell_type": "code",
   "execution_count": null,
   "metadata": {},
   "outputs": [],
   "source": [
    "list_hsv[2] + list_colorfulness[2]"
   ]
  },
  {
   "cell_type": "code",
   "execution_count": null,
   "metadata": {},
   "outputs": [],
   "source": [
    "test_list = list_hsv[2] + list_colorfulness[2] + list_contrast[2] + list_dominant_color[2] \n",
    "test_list"
   ]
  },
  {
   "cell_type": "code",
   "execution_count": null,
   "metadata": {},
   "outputs": [],
   "source": [
    "list_kelvin"
   ]
  },
  {
   "cell_type": "code",
   "execution_count": null,
   "metadata": {},
   "outputs": [],
   "source": [
    "test_list + list_kelvin[2]"
   ]
  },
  {
   "cell_type": "code",
   "execution_count": null,
   "metadata": {},
   "outputs": [],
   "source": [
    "img_get_feature(\"../00_data/00_test_pic/\")"
   ]
  },
  {
   "cell_type": "code",
   "execution_count": null,
   "metadata": {},
   "outputs": [],
   "source": [
    "for i in range(3):\n",
    "    print(i)"
   ]
  },
  {
   "cell_type": "code",
   "execution_count": null,
   "metadata": {},
   "outputs": [],
   "source": [
    "img_kelvin = []\n",
    "    \n",
    "for image in list_average_RGB: \n",
    "\n",
    "    RGB = np.array(image)\n",
    "\n",
    "        # Conversion to tristimulus values.\n",
    "    XYZ = colour.sRGB_to_XYZ(RGB / 255)\n",
    "\n",
    "        # Conversion to chromaticity coordinates.\n",
    "    xy = colour.XYZ_to_xy(XYZ)\n",
    "\n",
    "        # Conversion to correlated colour temperature in K.\n",
    "    CCT = [colour.xy_to_CCT(xy, 'hernandez1999')]\n",
    "        \n",
    "    img_kelvin.append(CCT)"
   ]
  },
  {
   "cell_type": "code",
   "execution_count": null,
   "metadata": {},
   "outputs": [],
   "source": [
    "img_kelvin"
   ]
  },
  {
   "cell_type": "code",
   "execution_count": 1,
   "metadata": {},
   "outputs": [],
   "source": [
    "from img_feature import *"
   ]
  },
  {
   "cell_type": "code",
   "execution_count": 2,
   "metadata": {},
   "outputs": [],
   "source": [
    "from img_preprocess import *"
   ]
  },
  {
   "cell_type": "code",
   "execution_count": 3,
   "metadata": {},
   "outputs": [
    {
     "name": "stdout",
     "output_type": "stream",
     "text": [
      "File ../00_data/00_test_pic_full/.DS_Store is not readable.\n"
     ]
    }
   ],
   "source": [
    "image_ready, valid_path = img_ready(\"../00_data/00_test_pic_full\")"
   ]
  },
  {
   "cell_type": "code",
   "execution_count": 5,
   "metadata": {},
   "outputs": [],
   "source": [
    "valid_path, features, feature_list  = img_get_feature(image_ready, valid_path)"
   ]
  },
  {
   "cell_type": "code",
   "execution_count": 6,
   "metadata": {},
   "outputs": [
    {
     "data": {
      "text/plain": [
       "[[53.945599999999999,\n",
       "  184.01929999999999,\n",
       "  139.62620000000001,\n",
       "  104.00922051944494,\n",
       "  27.959908221473604,\n",
       "  51.891254343483887,\n",
       "  119.73929427886134,\n",
       "  109.72862526307148,\n",
       "  3817.6381579750705],\n",
       " [33.395400000000002,\n",
       "  105.133,\n",
       "  139.9589,\n",
       "  43.10774883255165,\n",
       "  60.060202618251608,\n",
       "  108.78973181674411,\n",
       "  110.85907335907999,\n",
       "  70.50219138056849,\n",
       "  4555.7261309532714],\n",
       " [55.740099999999998,\n",
       "  123.43989999999999,\n",
       "  38.244199999999999,\n",
       "  17.558230436247342,\n",
       "  44.015709225084471,\n",
       "  6.9370001580461782,\n",
       "  13.573352299652424,\n",
       "  5.2069227121951727,\n",
       "  5812.2301644895924],\n",
       " [76.734499999999997,\n",
       "  141.2243,\n",
       "  121.0788,\n",
       "  64.645675631334356,\n",
       "  61.43287535768723,\n",
       "  43.241134751790412,\n",
       "  41.73924172130657,\n",
       "  17.018397056486648,\n",
       "  3726.0424516952139],\n",
       " [80.546599999999998,\n",
       "  105.49169999999999,\n",
       "  84.821700000000007,\n",
       "  33.927606953287487,\n",
       "  71.687542252364054,\n",
       "  21.230658421781811,\n",
       "  22.103998313513969,\n",
       "  13.285362940085989,\n",
       "  5713.0467938817019],\n",
       " [0.0,\n",
       "  0.0,\n",
       "  28.908799999999999,\n",
       "  0.0,\n",
       "  36.204048751965296,\n",
       "  4.9504802724787531,\n",
       "  4.9504802724787531,\n",
       "  4.9504802724787531,\n",
       "  6499.8782057809203],\n",
       " [39.920299999999997,\n",
       "  169.97030000000001,\n",
       "  95.295100000000005,\n",
       "  106.79324953720543,\n",
       "  75.394990635082195,\n",
       "  20.230810291438814,\n",
       "  26.827443863186815,\n",
       "  9.4015515462089212,\n",
       "  4223.9596704320866],\n",
       " [11.645,\n",
       "  1.3053999999999999,\n",
       "  114.9409,\n",
       "  1.0952843015895717,\n",
       "  73.968306180587376,\n",
       "  23.778036916128997,\n",
       "  23.777370560388704,\n",
       "  23.762177650423027,\n",
       "  6446.47520284863],\n",
       " [63.194800000000001,\n",
       "  157.19970000000001,\n",
       "  62.3947,\n",
       "  50.243934382533894,\n",
       "  44.950260502167744,\n",
       "  18.008235919226131,\n",
       "  14.986350956442145,\n",
       "  6.4983395323995481,\n",
       "  3676.3586611697469],\n",
       " [59.904899999999998,\n",
       "  58.4983,\n",
       "  171.7749,\n",
       "  29.941843201077937,\n",
       "  79.440941660742396,\n",
       "  203.59619881585243,\n",
       "  218.15985869943563,\n",
       "  185.77396885418736,\n",
       "  5832.736203042643],\n",
       " [0.0,\n",
       "  0.0,\n",
       "  175.44739999999999,\n",
       "  0.0,\n",
       "  97.619644101448898,\n",
       "  251.92388412651582,\n",
       "  251.92388412651582,\n",
       "  251.92388412651582,\n",
       "  6499.8782057809194],\n",
       " [92.424199999999999,\n",
       "  114.9641,\n",
       "  118.78919999999999,\n",
       "  38.974423950878673,\n",
       "  57.337531445453628,\n",
       "  10.223167679658175,\n",
       "  38.148015731146394,\n",
       "  7.5043260636257259,\n",
       "  6644.9090793992063],\n",
       " [49.7562,\n",
       "  154.87719999999999,\n",
       "  135.9965,\n",
       "  50.704544146258954,\n",
       "  37.9766408829949,\n",
       "  47.692557022804358,\n",
       "  93.47851140454452,\n",
       "  35.241056422574232,\n",
       "  5453.2908663354019],\n",
       " [30.186800000000002,\n",
       "  170.48769999999999,\n",
       "  94.8416,\n",
       "  66.777907479293077,\n",
       "  75.694324561113433,\n",
       "  35.012352140656965,\n",
       "  15.108656966433394,\n",
       "  6.7109110575916517,\n",
       "  3869.4066797452679],\n",
       " [92.424199999999999,\n",
       "  114.9641,\n",
       "  118.78919999999999,\n",
       "  38.974423950878673,\n",
       "  57.337531445453628,\n",
       "  10.360158966717179,\n",
       "  38.411610247681729,\n",
       "  7.5928606912073207,\n",
       "  6644.9090793992063],\n",
       " [25.5169,\n",
       "  2.5503,\n",
       "  76.550200000000004,\n",
       "  1.2675709998019398,\n",
       "  55.489800421911646,\n",
       "  29.601845386544049,\n",
       "  29.883790523710381,\n",
       "  29.707830423931114,\n",
       "  6508.5977747178185],\n",
       " [50.437800000000003,\n",
       "  121.3982,\n",
       "  143.92140000000001,\n",
       "  85.972652968241078,\n",
       "  48.447255037419097,\n",
       "  58.488137142862612,\n",
       "  84.810651428579575,\n",
       "  58.740434285711913,\n",
       "  4197.683820735745],\n",
       " [43.127400000000002,\n",
       "  127.02509999999999,\n",
       "  46.027200000000001,\n",
       "  33.093406637839315,\n",
       "  41.968978888321217,\n",
       "  6.3277615266835525,\n",
       "  8.6914612063143579,\n",
       "  4.215524446314376,\n",
       "  4940.4704208707617],\n",
       " [69.774299999999997,\n",
       "  124.1661,\n",
       "  122.5087,\n",
       "  93.598915653742012,\n",
       "  68.580300856957194,\n",
       "  26.772658333751423,\n",
       "  17.427435803571356,\n",
       "  13.195073479434846,\n",
       "  3202.2625997214568],\n",
       " [45.6188,\n",
       "  96.118600000000001,\n",
       "  85.070999999999998,\n",
       "  46.479627730067939,\n",
       "  71.349200984943138,\n",
       "  23.918136589804035,\n",
       "  33.95104895103723,\n",
       "  18.832933235938611,\n",
       "  5057.7838445984999],\n",
       " [20.046299999999999,\n",
       "  157.59960000000001,\n",
       "  134.82480000000001,\n",
       "  107.88645261642694,\n",
       "  39.891158838925662,\n",
       "  68.466882913034766,\n",
       "  54.877158104003499,\n",
       "  36.093230093125428,\n",
       "  2561.442467786218],\n",
       " [20.8004,\n",
       "  13.0322,\n",
       "  101.85550000000001,\n",
       "  28.522674372592121,\n",
       "  55.998836541559186,\n",
       "  30.595083993903316,\n",
       "  30.454876009030698,\n",
       "  30.406225001817184,\n",
       "  6060.5995988457089],\n",
       " [0.0,\n",
       "  0.0,\n",
       "  109.6657,\n",
       "  0.0,\n",
       "  81.531880064736001,\n",
       "  82.30839059445529,\n",
       "  82.30839059445529,\n",
       "  82.30839059445529,\n",
       "  6499.8782057809203],\n",
       " [31.9528,\n",
       "  134.1677,\n",
       "  146.29589999999999,\n",
       "  61.173280176263567,\n",
       "  48.635808634386294,\n",
       "  127.05301306809012,\n",
       "  122.50156076398162,\n",
       "  47.845140468742976,\n",
       "  4054.3713321683117],\n",
       " [53.536499999999997,\n",
       "  12.988899999999999,\n",
       "  178.8828,\n",
       "  6.923195255127685,\n",
       "  87.362339173039118,\n",
       "  250.03625469305163,\n",
       "  250.03538245671524,\n",
       "  250.06355948275785,\n",
       "  6619.731998339952],\n",
       " [54.613799999999998,\n",
       "  124.4269,\n",
       "  179.45959999999999,\n",
       "  73.605758714247173,\n",
       "  61.302211485866081,\n",
       "  233.59927960379164,\n",
       "  178.81134624046047,\n",
       "  142.9128208014335,\n",
       "  3200.2047684865047],\n",
       " [38.877400000000002,\n",
       "  103.3228,\n",
       "  123.25369999999999,\n",
       "  40.965398553210392,\n",
       "  40.061989070769663,\n",
       "  100.97106312923839,\n",
       "  104.5862723991641,\n",
       "  66.104476666872827,\n",
       "  4833.8666369986013],\n",
       " [50.341900000000003,\n",
       "  35.825699999999998,\n",
       "  145.12379999999999,\n",
       "  18.858836723152393,\n",
       "  36.348507848408566,\n",
       "  178.59290652239753,\n",
       "  173.70273519687782,\n",
       "  155.82242260294873,\n",
       "  5809.4380191708287],\n",
       " [53.135399999999997,\n",
       "  192.0061,\n",
       "  158.34289999999999,\n",
       "  111.63317534989618,\n",
       "  31.050293476839563,\n",
       "  54.824909834095536,\n",
       "  145.75022842029648,\n",
       "  112.20692474153969,\n",
       "  4911.019851704229],\n",
       " [85.342200000000005,\n",
       "  136.31710000000001,\n",
       "  191.31450000000001,\n",
       "  64.566104271847053,\n",
       "  34.592191523763084,\n",
       "  127.34812303956741,\n",
       "  184.43751897196464,\n",
       "  211.1331073560591,\n",
       "  12769.424140282354],\n",
       " [22.694600000000001,\n",
       "  188.541,\n",
       "  148.7928,\n",
       "  114.82285152905565,\n",
       "  31.361431878441707,\n",
       "  71.212327975024351,\n",
       "  81.136983925060491,\n",
       "  26.0147449982674,\n",
       "  2028.2712249947097],\n",
       " [62.547899999999998,\n",
       "  83.805400000000006,\n",
       "  199.60659999999999,\n",
       "  50.469960172801088,\n",
       "  47.508419600579508,\n",
       "  195.44380675626635,\n",
       "  138.91928804939556,\n",
       "  128.47773338177316,\n",
       "  5283.2023935459501],\n",
       " [97.166200000000003,\n",
       "  103.37730000000001,\n",
       "  198.2124,\n",
       "  58.711997664617684,\n",
       "  31.785474454725126,\n",
       "  79.719393866793553,\n",
       "  159.42513176807924,\n",
       "  171.47095112601389,\n",
       "  11493.198657061132],\n",
       " [31.9879,\n",
       "  160.66540000000001,\n",
       "  78.838200000000001,\n",
       "  30.751373476173033,\n",
       "  48.915495905167965,\n",
       "  68.955091685951786,\n",
       "  74.14821078867746,\n",
       "  20.047623286454513,\n",
       "  4436.9739169715594],\n",
       " [21.329699999999999,\n",
       "  110.3353,\n",
       "  164.9742,\n",
       "  51.018109201192331,\n",
       "  49.949258473246473,\n",
       "  157.67709870311293,\n",
       "  110.53296575288668,\n",
       "  70.380989360871951,\n",
       "  3841.9992054982358],\n",
       " [171.26689999999999,\n",
       "  209.45580000000001,\n",
       "  111.55410000000001,\n",
       "  60.786030256525137,\n",
       "  12.412051788676655,\n",
       "  110.44098625707359,\n",
       "  17.268441794664152,\n",
       "  26.262833468067718,\n",
       "  174.84384918757485],\n",
       " [38.2166,\n",
       "  134.43020000000001,\n",
       "  146.0565,\n",
       "  66.239501464989772,\n",
       "  52.220076090481754,\n",
       "  72.101209289527702,\n",
       "  45.817782053062302,\n",
       "  28.173835371728096,\n",
       "  3819.8828239463892]]"
      ]
     },
     "execution_count": 6,
     "metadata": {},
     "output_type": "execute_result"
    }
   ],
   "source": [
    "feature_list"
   ]
  },
  {
   "cell_type": "code",
   "execution_count": 7,
   "metadata": {},
   "outputs": [
    {
     "data": {
      "text/plain": [
       "['../00_data/01_demo//kelly-sikkema-4W1wo0U7Vuc-unsplash.jpg',\n",
       " '../00_data/01_demo//pietro-jeng-0Sd2qqU5soQ-unsplash.jpg',\n",
       " '../00_data/01_demo//simone-mascellari-7QK_VsynTRA-unsplash.jpg',\n",
       " '../00_data/01_demo//matthew-henry-nvFpb_MMRj8-unsplash.jpg',\n",
       " '../00_data/01_demo//dusan-smetana-ZXuDkw7Be7E-unsplash.jpg',\n",
       " '../00_data/01_demo//kristopher-roller-PC_lbSSxCZE-unsplash.jpg',\n",
       " '../00_data/01_demo//boris-smokrovic-DPXytK8Z59Y-unsplash.jpg',\n",
       " '../00_data/01_demo//jonathan-borba-aaLyHWE9WA8-unsplash.jpg',\n",
       " '../00_data/01_demo//angello-pro-KxqEoimZPsM-unsplash.jpg',\n",
       " '../00_data/01_demo//patrick-keller-lEOKaF1WvVU-unsplash.jpg',\n",
       " '../00_data/01_demo//denys-nevozhai-7nrsVjvALnA-unsplash.jpg',\n",
       " '../00_data/01_demo//klara-kulikova-LeMpBbkdxFs-unsplash.jpg',\n",
       " '../00_data/01_demo//ugur-peker-AkX0_cZQ6PI-unsplash.jpg',\n",
       " '../00_data/01_demo//.DS_Store',\n",
       " '../00_data/01_demo//patrick-fore-YS_51ncQL5o-unsplash.jpg',\n",
       " '../00_data/01_demo//andrew-ridley-jR4Zf-riEjI-unsplash.jpg',\n",
       " '../00_data/01_demo//wells-chan-EyxzK4Xx4mw-unsplash.jpg',\n",
       " '../00_data/01_demo//ray-hennessy-mpw37yXc_WQ-unsplash.jpg',\n",
       " '../00_data/01_demo//nathan-de-fortunato-EGW2IaqK_IU-unsplash.jpg',\n",
       " '../00_data/01_demo//kelly-sikkema-r077pfFsdaU-unsplash.jpg',\n",
       " '../00_data/01_demo//ian-dooley-k8OCHhEymME-unsplash.jpg',\n",
       " '../00_data/01_demo//sahil-sorathiya-YW3F-C5e8SE-unsplash.jpg',\n",
       " '../00_data/01_demo//dyana-wing-so-5_yAP8OtYNc-unsplash.jpg',\n",
       " '../00_data/01_demo//drew-beamer-LOrLKQOS498-unsplash.jpg',\n",
       " '../00_data/01_demo//kelly-sikkema-jumNGn7kBl0-unsplash.jpg',\n",
       " '../00_data/01_demo//ryoji-iwata-n31JPLu8_Pw-unsplash.jpg',\n",
       " '../00_data/01_demo//joakim-honkasalo-65qc9pfDSyY-unsplash.jpg',\n",
       " '../00_data/01_demo//linnea-sandbakk-HQqIOc8oYro-unsplash.jpg',\n",
       " '../00_data/01_demo//swabdesign-0HgPViWeIb8-unsplash.jpg',\n",
       " '../00_data/01_demo//larisa-birta-kHVQFQFBufo-unsplash.jpg',\n",
       " '../00_data/01_demo//eric-prouzet-LhsJAB4Wpu4-unsplash.jpg',\n",
       " '../00_data/01_demo//ehimetalor-akhere-unuabona-5GcXfGEXBgI-unsplash.jpg',\n",
       " '../00_data/01_demo//aditya-saxena-tP7CtZ_2QK8-unsplash.jpg',\n",
       " '../00_data/01_demo//pedro-lastra-Nyvq2juw4_o-unsplash.jpg',\n",
       " '../00_data/01_demo//sunyu-tIfrzHxhPYQ-unsplash.jpg',\n",
       " '../00_data/01_demo//carson-arias-7Z03R1wOdmI-unsplash.jpg',\n",
       " '../00_data/01_demo//jean-wimmerlin-YxDENE4HgMM-unsplash.jpg',\n",
       " '../00_data/01_demo//claudio-schwarz-purzlbaum-g6-KkK2MuAE-unsplash.jpg',\n",
       " '../00_data/01_demo//max-bender-VmX3vmBecFE-unsplash.jpg',\n",
       " '../00_data/01_demo//evgeni-tcherkasski-v41Z5HCahzo-unsplash.jpg',\n",
       " '../00_data/01_demo//eric-muhr-ZE0Mz3K46L8-unsplash.jpg',\n",
       " '../00_data/01_demo//eric-prouzet-dIqIgw6UFLk-unsplash.jpg',\n",
       " '../00_data/01_demo//davisco-5E5N49RWtbA-unsplash.jpg',\n",
       " '../00_data/01_demo//john-cameron-dus1vufqJPc-unsplash.jpg',\n",
       " '../00_data/01_demo//jf-brou-915UJQaxtrk-unsplash.jpg',\n",
       " '../00_data/01_demo//adam-thomas-f_UBYuOuMJw-unsplash.jpg',\n",
       " '../00_data/01_demo//vicko-mozara-m82uh_vamhg-unsplash.jpg',\n",
       " '../00_data/01_demo//pop-zebra-An-pjE9n0Uo-unsplash.jpg',\n",
       " '../00_data/01_demo//danielle-macinnes-IuLgi9PWETU-unsplash.jpg',\n",
       " '../00_data/01_demo//efe-kurnaz-RnCPiXixooY-unsplash.jpg',\n",
       " '../00_data/01_demo//hipster-mum-XookgCxFw6Q-unsplash.jpg',\n",
       " '../00_data/01_demo//johnson-wang-iI4sR_nkkbc-unsplash.jpg',\n",
       " '../00_data/01_demo//henning-witzel-ukvgqriuOgo-unsplash.jpg',\n",
       " '../00_data/01_demo//olga-serjantu-Nn1Yu2uCmwg-unsplash.jpg',\n",
       " '../00_data/01_demo//alex-avalos-sv9ZdVnbzAc-unsplash.jpg',\n",
       " '../00_data/01_demo//gary-bendig-6GMq7AGxNbE-unsplash.jpg',\n",
       " '../00_data/01_demo//ryan-walton-AbNO2iejoXA-unsplash.jpg',\n",
       " '../00_data/01_demo//josephine-menge-h7VBJRBcieM-unsplash.jpg',\n",
       " '../00_data/01_demo//kae-ng-jyNcew0NfW0-unsplash.jpg',\n",
       " '../00_data/01_demo//giorgio-trovato-czw_E5nK28Y-unsplash.jpg',\n",
       " '../00_data/01_demo//anton-van-der-weijst-a4eax-dOpkk-unsplash.jpg',\n",
       " '../00_data/01_demo//jc-gellidon-Khqmo4T-rs0-unsplash.jpg',\n",
       " '../00_data/01_demo//anna-onishchuk-Yq9ciqbhBug-unsplash.jpg',\n",
       " '../00_data/01_demo//moritz-kindler-nbUg6WY-PZI-unsplash.jpg',\n",
       " '../00_data/01_demo//charles-deluvio-Mv9hjnEUHR4-unsplash.jpg',\n",
       " '../00_data/01_demo//firdaus-roslan-BJVp39S3TrA-unsplash.jpg',\n",
       " '../00_data/01_demo//irene-strong-ZGnuuOA94n0-unsplash.jpg',\n",
       " '../00_data/01_demo//patrick-sheehan-yP4QJaw9Mog-unsplash.jpg',\n",
       " '../00_data/01_demo//rodion-kutsaev-IJ25m7fXqtk-unsplash.jpg',\n",
       " '../00_data/01_demo//angello-pro-rnRz0dmn1SI-unsplash.jpg',\n",
       " '../00_data/01_demo//jason-leung-Xaanw0s0pMk-unsplash.jpg',\n",
       " '../00_data/01_demo//omid-armin-2GHCdtW45Uw-unsplash.jpg',\n",
       " '../00_data/01_demo//surface-aYUnrtYnG88-unsplash.jpg',\n",
       " '../00_data/01_demo//pineapple-supply-co-iDwGYbnCvss-unsplash.jpg',\n",
       " '../00_data/01_demo//david-kovalenko-G85VuTpw6jg-unsplash.jpg',\n",
       " '../00_data/01_demo//samuel-girven-68OGld-YHTQ-unsplash.jpg',\n",
       " '../00_data/01_demo//claudio-schwarz-purzlbaum-QL187M4_9fQ-unsplash.jpg',\n",
       " '../00_data/01_demo//joshua-newton-7qjqQjt7zXQ-unsplash.jpg',\n",
       " '../00_data/01_demo//sandra-seitamaa-QyOWEGOp-lQ-unsplash.jpg',\n",
       " '../00_data/01_demo//anna-onishchuk-UOiHPTEXT3Q-unsplash.jpg',\n",
       " '../00_data/01_demo//michael-dziedzic-becs5wiAnSA-unsplash.jpg',\n",
       " '../00_data/01_demo//maksym-ivashchenko-7P9cPzWKnCo-unsplash.jpg',\n",
       " '../00_data/01_demo//pawel-nolbert-4u2U8EO9OzY-unsplash.jpg',\n",
       " '../00_data/01_demo//smit-patel-dGMcpbzcq1I-unsplash.jpg',\n",
       " '../00_data/01_demo//gift-habeshaw-7TFnOJxay0Y-unsplash.jpg']"
      ]
     },
     "execution_count": 7,
     "metadata": {},
     "output_type": "execute_result"
    }
   ],
   "source": [
    "get_file_path(\"../00_data/01_demo/\")"
   ]
  },
  {
   "cell_type": "code",
   "execution_count": null,
   "metadata": {},
   "outputs": [],
   "source": []
  }
 ],
 "metadata": {
  "kernelspec": {
   "display_name": "Python 3",
   "language": "python",
   "name": "python3"
  },
  "language_info": {
   "codemirror_mode": {
    "name": "ipython",
    "version": 3
   },
   "file_extension": ".py",
   "mimetype": "text/x-python",
   "name": "python",
   "nbconvert_exporter": "python",
   "pygments_lexer": "ipython3",
   "version": "3.7.7"
  }
 },
 "nbformat": 4,
 "nbformat_minor": 4
}
