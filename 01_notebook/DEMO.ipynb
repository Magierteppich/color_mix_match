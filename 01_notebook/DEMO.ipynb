{
 "cells": [
  {
   "cell_type": "code",
   "execution_count": 2,
   "metadata": {},
   "outputs": [],
   "source": [
    "from mix_n_match_knn import *\n",
    "from mix_n_match_cluster import *"
   ]
  },
  {
   "cell_type": "code",
   "execution_count": 3,
   "metadata": {},
   "outputs": [],
   "source": [
    "from PIL import Image\n",
    "Image.MAX_IMAGE_PIXELS = None"
   ]
  },
  {
   "cell_type": "code",
   "execution_count": null,
   "metadata": {},
   "outputs": [
    {
     "name": "stdout",
     "output_type": "stream",
     "text": [
      "File ../00_data/00_test_pic_full//.DS_Store is not readable.\n",
      "File ../00_data/00_test_pic_full//.DS_Store is not readable.\n",
      "File ../00_data/00_test_pic_full//.DS_Store is not readable.\n",
      "File ../00_data/00_test_pic_full//.DS_Store is not readable.\n",
      "File ../00_data/00_test_pic_full//.DS_Store is not readable.\n",
      "File ../00_data/00_test_pic_full//.DS_Store is not readable.\n"
     ]
    }
   ],
   "source": [
    "mix_n_match_cluster(\"../00_data/00_test_pic_full/\")"
   ]
  },
  {
   "cell_type": "code",
   "execution_count": null,
   "metadata": {},
   "outputs": [],
   "source": [
    "mix_n_match_knn(\"../00_data/01_demo\", \"carson-arias-7Z03R1wOdmI-unsplash.jpg\", 5)"
   ]
  },
  {
   "cell_type": "code",
   "execution_count": null,
   "metadata": {},
   "outputs": [],
   "source": []
  }
 ],
 "metadata": {
  "kernelspec": {
   "display_name": "Python 3",
   "language": "python",
   "name": "python3"
  },
  "language_info": {
   "codemirror_mode": {
    "name": "ipython",
    "version": 3
   },
   "file_extension": ".py",
   "mimetype": "text/x-python",
   "name": "python",
   "nbconvert_exporter": "python",
   "pygments_lexer": "ipython3",
   "version": "3.7.7"
  }
 },
 "nbformat": 4,
 "nbformat_minor": 4
}
