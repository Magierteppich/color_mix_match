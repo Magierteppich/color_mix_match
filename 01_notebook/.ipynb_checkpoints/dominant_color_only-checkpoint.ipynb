{
 "cells": [
  {
   "cell_type": "markdown",
   "metadata": {},
   "source": [
    "# Function to extract 3 dominant colors of an image"
   ]
  },
  {
   "cell_type": "code",
   "execution_count": 11,
   "metadata": {},
   "outputs": [],
   "source": [
    "from img_preprocess import * \n",
    "import cv2\n",
    "from sklearn.cluster import KMeans\n",
    "from sklearn.preprocessing import StandardScaler\n",
    "import pandas as pd\n",
    "from matplotlib import image as img\n",
    "from collections import Counter\n",
    "from matplotlib import pyplot as plt"
   ]
  },
  {
   "cell_type": "code",
   "execution_count": 2,
   "metadata": {},
   "outputs": [
    {
     "data": {
      "text/plain": [
       "array([[[150, 208, 250],\n",
       "        [150, 208, 250],\n",
       "        [150, 208, 250],\n",
       "        ...,\n",
       "        [158, 214, 249],\n",
       "        [158, 214, 249],\n",
       "        [158, 214, 249]],\n",
       "\n",
       "       [[150, 208, 250],\n",
       "        [150, 208, 250],\n",
       "        [149, 207, 249],\n",
       "        ...,\n",
       "        [158, 214, 249],\n",
       "        [158, 214, 249],\n",
       "        [158, 214, 249]],\n",
       "\n",
       "       [[150, 208, 250],\n",
       "        [149, 207, 249],\n",
       "        [149, 207, 249],\n",
       "        ...,\n",
       "        [159, 215, 250],\n",
       "        [159, 215, 250],\n",
       "        [158, 214, 249]],\n",
       "\n",
       "       ...,\n",
       "\n",
       "       [[ 96, 162, 180],\n",
       "        [ 95, 161, 179],\n",
       "        [ 91, 160, 175],\n",
       "        ...,\n",
       "        [117, 189, 201],\n",
       "        [116, 188, 200],\n",
       "        [116, 188, 200]],\n",
       "\n",
       "       [[ 98, 164, 182],\n",
       "        [ 95, 161, 179],\n",
       "        [ 89, 158, 173],\n",
       "        ...,\n",
       "        [117, 189, 201],\n",
       "        [116, 188, 200],\n",
       "        [115, 187, 199]],\n",
       "\n",
       "       [[ 98, 164, 182],\n",
       "        [ 95, 161, 179],\n",
       "        [ 89, 158, 173],\n",
       "        ...,\n",
       "        [117, 189, 201],\n",
       "        [116, 188, 200],\n",
       "        [114, 186, 198]]], dtype=uint8)"
      ]
     },
     "execution_count": 2,
     "metadata": {},
     "output_type": "execute_result"
    }
   ],
   "source": [
    "image = cv2.imread(\"../00_data/01_demo/boris-smokrovic-DPXytK8Z59Y-unsplash.jpg\")\n",
    "image"
   ]
  },
  {
   "cell_type": "code",
   "execution_count": null,
   "metadata": {},
   "outputs": [],
   "source": [
    "b = []\n",
    "g = []\n",
    "r = []\n",
    "\n",
    "for line in image:\n",
    "    for pixel in line:\n",
    "        temp_b, temp_g, temp_r = pixel\n",
    "        b.append(temp_b)\n",
    "        g.append(temp_g)\n",
    "        r.append(temp_r)\n"
   ]
  },
  {
   "cell_type": "code",
   "execution_count": null,
   "metadata": {},
   "outputs": [],
   "source": [
    "df = pd.DataFrame({\"blue\" : b, \"green\" : g, \"red\" : r})"
   ]
  },
  {
   "cell_type": "code",
   "execution_count": null,
   "metadata": {},
   "outputs": [],
   "source": [
    "df"
   ]
  },
  {
   "cell_type": "code",
   "execution_count": null,
   "metadata": {},
   "outputs": [],
   "source": [
    "model = KMeans(n_clusters=3, init=\"random\")\n",
    "clusters = model.fit(df)"
   ]
  },
  {
   "cell_type": "code",
   "execution_count": null,
   "metadata": {},
   "outputs": [],
   "source": [
    "clusters.predict(df)"
   ]
  },
  {
   "cell_type": "code",
   "execution_count": null,
   "metadata": {},
   "outputs": [],
   "source": [
    "clusters.cluster_centers_"
   ]
  },
  {
   "cell_type": "code",
   "execution_count": null,
   "metadata": {},
   "outputs": [],
   "source": [
    "colors = []\n",
    "\n",
    "for cluster_center in clusters.cluster_centers_:\n",
    "    scaled_b, scaled_g, scaled_r = cluster_center\n",
    "    colors.append((\n",
    "                    scaled_b / 255,\n",
    "                    scaled_g / 255,\n",
    "                    scaled_r / 255\n",
    "                  ))\n",
    "    \n",
    "plt.imshow([colors])\n",
    "plt.show()"
   ]
  },
  {
   "cell_type": "code",
   "execution_count": 57,
   "metadata": {},
   "outputs": [],
   "source": [
    "def img_dominant_color(image_ready, k=3):\n",
    "    \n",
    "    img_dominant_color = []\n",
    "    \n",
    "    for img in image_ready: \n",
    "    \n",
    "        img = cv2.cvtColor(img, cv2.COLOR_BGR2RGB) #convert to RGB to get the right order\n",
    "        img = img.reshape((img.shape[0] * img.shape[1], 3))\n",
    "    \n",
    "        #cluster and assign labels to the pixels \n",
    "        clt = KMeans(n_clusters = k)\n",
    "        labels = clt.fit_predict(img)\n",
    "        \n",
    "        #count labels to find most popular\n",
    "        label_counts = Counter(labels)\n",
    "        \n",
    "        \n",
    "        dominant_color = [] #for each image, the list of all k dominant colors. [(r,g,b), (r,g,b), (r,g,b)]\n",
    "        \n",
    "        for cluster_center in clt.cluster_centers_:\n",
    "            b, g, r = cluster_center\n",
    "            dominant_color.append((\n",
    "                    b / 255,\n",
    "                    g / 255,\n",
    "                    r / 255\n",
    "                  ))\n",
    "        plt.imshow([dominant_color])\n",
    "        plt.show()\n",
    "        \n",
    "        \n",
    "        img_dominant_color.append(dominant_color)\n",
    "            \n",
    "    return img_dominant_color \n",
    "\n",
    "#result is a list of sub-lists. Each sub-list contains all k dominant colors for each image. \n",
    "# [[(r,g,b), (r,g,b), (r,g,b)],[(r,g,b), (r,g,b), (r,g,b)]] - img_dominant_color for 2 images with respectively 2 dominant colors each."
   ]
  },
  {
   "cell_type": "code",
   "execution_count": 58,
   "metadata": {},
   "outputs": [
    {
     "name": "stdout",
     "output_type": "stream",
     "text": [
      "File ../00_data/00_test_pic//.DS_Store is not readable.\n"
     ]
    }
   ],
   "source": [
    "image_ready, valid_path = img_ready(\"../00_data/00_test_pic/\")"
   ]
  },
  {
   "cell_type": "code",
   "execution_count": 59,
   "metadata": {},
   "outputs": [
    {
     "data": {
      "text/plain": [
       "[['../00_data/00_test_pic//boris-smokrovic-DPXytK8Z59Y-unsplash.jpg'],\n",
       " ['../00_data/00_test_pic//frog_2.jpg'],\n",
       " ['../00_data/00_test_pic//test.jpg'],\n",
       " ['../00_data/00_test_pic//red.jpg']]"
      ]
     },
     "execution_count": 59,
     "metadata": {},
     "output_type": "execute_result"
    }
   ],
   "source": [
    "valid_path"
   ]
  },
  {
   "cell_type": "code",
   "execution_count": 60,
   "metadata": {},
   "outputs": [
    {
     "data": {
      "text/plain": [
       "[[(0.7765783029915782, 0.721710020464411, 0.4074666922732434),\n",
       "  (0.908443702591502, 0.8262409027492271, 0.6094342998856108),\n",
       "  (0.3100672585418396, 0.44532117931916954, 0.4121862982481183)],\n",
       " [(0.21557633915252775, 0.42648684866165876, 0.14738707454985245),\n",
       "  (0.4303396914886637, 0.6414444053965402, 0.25510359730521015),\n",
       "  (0.7452328598561007, 0.7877858919829872, 0.6120375571784168)],\n",
       " [(0.9723171196366716, 0.9724242053817643, 0.972703000045168),\n",
       "  (0.19364724998648944, 0.19727319897333367, 0.21475094215966326),\n",
       "  (0.4819518105670943, 0.483898741401018, 0.4993091869248148)],\n",
       " [(0.4365674791744392, 0.07143441979356509, 0.10894865978426783),\n",
       "  (0.5459124108789501, 0.09647533167797441, 0.15373279897001596),\n",
       "  (0.27344418843517393, 0.05495600033311701, 0.07492324348333854)]]"
      ]
     },
     "execution_count": 60,
     "metadata": {},
     "output_type": "execute_result"
    }
   ],
   "source": [
    "img_dominant_color(image_ready, k=3)"
   ]
  },
  {
   "cell_type": "code",
   "execution_count": null,
   "metadata": {},
   "outputs": [],
   "source": []
  }
 ],
 "metadata": {
  "kernelspec": {
   "display_name": "Python 3",
   "language": "python",
   "name": "python3"
  },
  "language_info": {
   "codemirror_mode": {
    "name": "ipython",
    "version": 3
   },
   "file_extension": ".py",
   "mimetype": "text/x-python",
   "name": "python",
   "nbconvert_exporter": "python",
   "pygments_lexer": "ipython3",
   "version": "3.7.7"
  }
 },
 "nbformat": 4,
 "nbformat_minor": 4
}
