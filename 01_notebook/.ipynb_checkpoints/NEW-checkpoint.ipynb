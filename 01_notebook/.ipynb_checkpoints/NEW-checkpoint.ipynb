{
 "cells": [
  {
   "cell_type": "code",
   "execution_count": 1,
   "metadata": {},
   "outputs": [],
   "source": [
    "from img_preprocess import *\n",
    "from img_feature import *"
   ]
  },
  {
   "cell_type": "code",
   "execution_count": 2,
   "metadata": {},
   "outputs": [
    {
     "name": "stdout",
     "output_type": "stream",
     "text": [
      "File ../00_data/00_test_pic//.DS_Store is not readable.\n"
     ]
    }
   ],
   "source": [
    "image_ready = img_ready(\"../00_data/00_test_pic/\")"
   ]
  },
  {
   "cell_type": "code",
   "execution_count": 3,
   "metadata": {},
   "outputs": [
    {
     "data": {
      "text/plain": [
       "[array([[[ 39,  97,  43],\n",
       "         [ 39,  97,  43],\n",
       "         [ 39,  97,  43],\n",
       "         ..., \n",
       "         [ 22,  62,  23],\n",
       "         [ 24,  60,  24],\n",
       "         [ 25,  60,  25]],\n",
       " \n",
       "        [[ 39,  97,  43],\n",
       "         [ 39,  97,  43],\n",
       "         [ 39,  97,  43],\n",
       "         ..., \n",
       "         [ 22,  62,  23],\n",
       "         [ 24,  60,  24],\n",
       "         [ 25,  60,  25]],\n",
       " \n",
       "        [[ 39,  97,  43],\n",
       "         [ 39,  97,  43],\n",
       "         [ 39,  97,  43],\n",
       "         ..., \n",
       "         [ 22,  62,  23],\n",
       "         [ 24,  60,  24],\n",
       "         [ 26,  60,  25]],\n",
       " \n",
       "        ..., \n",
       "        [[ 15, 112,  37],\n",
       "         [ 15, 112,  37],\n",
       "         [ 15, 113,  37],\n",
       "         ..., \n",
       "         [ 27, 127,  53],\n",
       "         [ 29, 129,  55],\n",
       "         [ 30, 131,  57]],\n",
       " \n",
       "        [[ 15, 111,  37],\n",
       "         [ 15, 111,  37],\n",
       "         [ 14, 111,  37],\n",
       "         ..., \n",
       "         [ 26, 127,  53],\n",
       "         [ 28, 129,  56],\n",
       "         [ 30, 131,  58]],\n",
       " \n",
       "        [[ 15, 110,  36],\n",
       "         [ 15, 111,  36],\n",
       "         [ 14, 111,  36],\n",
       "         ..., \n",
       "         [ 26, 127,  53],\n",
       "         [ 28, 130,  56],\n",
       "         [ 29, 131,  58]]], dtype=uint8),\n",
       " array([[[255, 255, 255],\n",
       "         [255, 255, 255],\n",
       "         [255, 255, 255],\n",
       "         ..., \n",
       "         [255, 255, 255],\n",
       "         [255, 255, 255],\n",
       "         [255, 255, 255]],\n",
       " \n",
       "        [[255, 255, 255],\n",
       "         [255, 255, 255],\n",
       "         [255, 255, 255],\n",
       "         ..., \n",
       "         [255, 255, 255],\n",
       "         [255, 255, 255],\n",
       "         [255, 255, 255]],\n",
       " \n",
       "        [[255, 255, 255],\n",
       "         [255, 255, 255],\n",
       "         [255, 255, 255],\n",
       "         ..., \n",
       "         [255, 255, 255],\n",
       "         [255, 255, 255],\n",
       "         [255, 255, 255]],\n",
       " \n",
       "        ..., \n",
       "        [[ 83,  78,  77],\n",
       "         [ 82,  77,  76],\n",
       "         [ 82,  77,  76],\n",
       "         ..., \n",
       "         [ 75,  70,  69],\n",
       "         [ 76,  71,  70],\n",
       "         [ 76,  71,  70]],\n",
       " \n",
       "        [[ 83,  78,  77],\n",
       "         [ 82,  77,  76],\n",
       "         [ 82,  77,  76],\n",
       "         ..., \n",
       "         [ 77,  72,  71],\n",
       "         [ 77,  72,  71],\n",
       "         [ 77,  72,  71]],\n",
       " \n",
       "        [[ 83,  78,  77],\n",
       "         [ 82,  77,  76],\n",
       "         [ 82,  77,  76],\n",
       "         ..., \n",
       "         [ 78,  73,  72],\n",
       "         [ 79,  74,  73],\n",
       "         [ 79,  74,  73]]], dtype=uint8),\n",
       " array([[[ 65,  40, 129],\n",
       "         [ 65,  40, 131],\n",
       "         [ 64,  38, 131],\n",
       "         ..., \n",
       "         [ 57,  39, 132],\n",
       "         [ 51,  34, 126],\n",
       "         [ 47,  31, 122]],\n",
       " \n",
       "        [[ 64,  40, 129],\n",
       "         [ 64,  39, 130],\n",
       "         [ 62,  36, 129],\n",
       "         ..., \n",
       "         [ 61,  44, 136],\n",
       "         [ 56,  39, 131],\n",
       "         [ 53,  37, 128]],\n",
       " \n",
       "        [[ 62,  37, 128],\n",
       "         [ 61,  35, 128],\n",
       "         [ 57,  31, 126],\n",
       "         ..., \n",
       "         [ 65,  48, 138],\n",
       "         [ 63,  46, 137],\n",
       "         [ 62,  45, 137]],\n",
       " \n",
       "        ..., \n",
       "        [[ 28,  11, 104],\n",
       "         [ 30,  13, 104],\n",
       "         [ 33,  17, 105],\n",
       "         ..., \n",
       "         [ 17,  14,  50],\n",
       "         [ 16,  14,  42],\n",
       "         [ 14,  14,  37]],\n",
       " \n",
       "        [[ 26,  10, 100],\n",
       "         [ 26,  11, 100],\n",
       "         [ 27,  12,  99],\n",
       "         ..., \n",
       "         [ 19,  16,  50],\n",
       "         [ 16,  15,  39],\n",
       "         [ 14,  14,  33]],\n",
       " \n",
       "        [[ 26,  10, 100],\n",
       "         [ 26,  10,  99],\n",
       "         [ 25,  10,  98],\n",
       "         ..., \n",
       "         [ 21,  18,  50],\n",
       "         [ 17,  16,  38],\n",
       "         [ 15,  15,  33]]], dtype=uint8)]"
      ]
     },
     "execution_count": 3,
     "metadata": {},
     "output_type": "execute_result"
    }
   ],
   "source": [
    "image_ready"
   ]
  },
  {
   "cell_type": "code",
   "execution_count": 13,
   "metadata": {},
   "outputs": [],
   "source": [
    "list_colorfulness = img_colorfulness(image_ready)"
   ]
  },
  {
   "cell_type": "code",
   "execution_count": 14,
   "metadata": {},
   "outputs": [],
   "source": [
    "file_list = get_file_path(\"../00_data/00_test_pic\")"
   ]
  },
  {
   "cell_type": "code",
   "execution_count": 21,
   "metadata": {},
   "outputs": [
    {
     "name": "stdout",
     "output_type": "stream",
     "text": [
      "File ../00_data/00_test_pic/.DS_Store is not readable.\n"
     ]
    }
   ],
   "source": [
    "img_list, valid_path = img_read(file_list)"
   ]
  },
  {
   "cell_type": "code",
   "execution_count": 15,
   "metadata": {},
   "outputs": [],
   "source": [
    "list_hsv = img_hsv(image_ready)"
   ]
  },
  {
   "cell_type": "code",
   "execution_count": 16,
   "metadata": {},
   "outputs": [],
   "source": [
    "list_contrast = img_contrast(image_ready)"
   ]
  },
  {
   "cell_type": "code",
   "execution_count": 23,
   "metadata": {},
   "outputs": [],
   "source": [
    "list_dominant_color = img_dominant_color(image_ready)"
   ]
  },
  {
   "cell_type": "code",
   "execution_count": 11,
   "metadata": {},
   "outputs": [],
   "source": [
    "average_RGB = average_RGB(image_ready)"
   ]
  },
  {
   "cell_type": "code",
   "execution_count": 18,
   "metadata": {},
   "outputs": [],
   "source": [
    "list_kelvin = convert_RGB_to_kelvin(average_RGB)"
   ]
  },
  {
   "cell_type": "code",
   "execution_count": 24,
   "metadata": {},
   "outputs": [
    {
     "ename": "NameError",
     "evalue": "name 'list_kelvin' is not defined",
     "output_type": "error",
     "traceback": [
      "\u001b[0;31m---------------------------------------------------------------------------\u001b[0m",
      "\u001b[0;31mNameError\u001b[0m                                 Traceback (most recent call last)",
      "\u001b[0;32m<ipython-input-24-32897bfd7a3c>\u001b[0m in \u001b[0;36m<module>\u001b[0;34m\u001b[0m\n\u001b[1;32m      2\u001b[0m \u001b[0mfeatures\u001b[0m \u001b[0;34m=\u001b[0m \u001b[0;34m[\u001b[0m\u001b[0;34m\"H\"\u001b[0m\u001b[0;34m,\u001b[0m \u001b[0;34m\"S\"\u001b[0m\u001b[0;34m,\u001b[0m \u001b[0;34m\"V\"\u001b[0m\u001b[0;34m,\u001b[0m \u001b[0;34m\"colorfulness\"\u001b[0m\u001b[0;34m,\u001b[0m \u001b[0;34m\"contrast\"\u001b[0m\u001b[0;34m,\u001b[0m \u001b[0;34m\"R\"\u001b[0m\u001b[0;34m,\u001b[0m \u001b[0;34m\"G\"\u001b[0m\u001b[0;34m,\u001b[0m \u001b[0;34m\"B\"\u001b[0m\u001b[0;34m,\u001b[0m \u001b[0;34m\"kelvin\"\u001b[0m\u001b[0;34m]\u001b[0m\u001b[0;34m\u001b[0m\u001b[0;34m\u001b[0m\u001b[0m\n\u001b[1;32m      3\u001b[0m \u001b[0;32mfor\u001b[0m \u001b[0mi\u001b[0m \u001b[0;32min\u001b[0m \u001b[0mrange\u001b[0m\u001b[0;34m(\u001b[0m\u001b[0mlen\u001b[0m\u001b[0;34m(\u001b[0m\u001b[0mvalid_path\u001b[0m\u001b[0;34m)\u001b[0m\u001b[0;34m)\u001b[0m\u001b[0;34m:\u001b[0m\u001b[0;34m\u001b[0m\u001b[0;34m\u001b[0m\u001b[0m\n\u001b[0;32m----> 4\u001b[0;31m     \u001b[0mtemp\u001b[0m \u001b[0;34m=\u001b[0m \u001b[0mlist_hsv\u001b[0m\u001b[0;34m[\u001b[0m\u001b[0mi\u001b[0m\u001b[0;34m]\u001b[0m \u001b[0;34m+\u001b[0m \u001b[0mlist_colorfulness\u001b[0m\u001b[0;34m[\u001b[0m\u001b[0mi\u001b[0m\u001b[0;34m]\u001b[0m \u001b[0;34m+\u001b[0m \u001b[0mlist_contrast\u001b[0m\u001b[0;34m[\u001b[0m\u001b[0mi\u001b[0m\u001b[0;34m]\u001b[0m \u001b[0;34m+\u001b[0m \u001b[0mlist_dominant_color\u001b[0m\u001b[0;34m[\u001b[0m\u001b[0mi\u001b[0m\u001b[0;34m]\u001b[0m \u001b[0;34m+\u001b[0m \u001b[0mlist_kelvin\u001b[0m\u001b[0;34m[\u001b[0m\u001b[0mi\u001b[0m\u001b[0;34m]\u001b[0m\u001b[0;34m\u001b[0m\u001b[0;34m\u001b[0m\u001b[0m\n\u001b[0m\u001b[1;32m      5\u001b[0m     \u001b[0mfeature_list\u001b[0m\u001b[0;34m.\u001b[0m\u001b[0mappend\u001b[0m\u001b[0;34m(\u001b[0m\u001b[0mtemp\u001b[0m\u001b[0;34m)\u001b[0m\u001b[0;34m\u001b[0m\u001b[0;34m\u001b[0m\u001b[0m\n",
      "\u001b[0;31mNameError\u001b[0m: name 'list_kelvin' is not defined"
     ]
    }
   ],
   "source": [
    "feature_list = []\n",
    "features = [\"H\", \"S\", \"V\", \"colorfulness\", \"contrast\", \"R\", \"G\", \"B\", \"kelvin\"]\n",
    "for i in range(len(valid_path)):\n",
    "    temp = list_hsv[i] + list_colorfulness[i] + list_contrast[i] + list_dominant_color[i] + list_kelvin[i]\n",
    "    feature_list.append(temp)"
   ]
  },
  {
   "cell_type": "code",
   "execution_count": null,
   "metadata": {},
   "outputs": [],
   "source": []
  }
 ],
 "metadata": {
  "kernelspec": {
   "display_name": "Python 3",
   "language": "python",
   "name": "python3"
  },
  "language_info": {
   "codemirror_mode": {
    "name": "ipython",
    "version": 3
   },
   "file_extension": ".py",
   "mimetype": "text/x-python",
   "name": "python",
   "nbconvert_exporter": "python",
   "pygments_lexer": "ipython3",
   "version": "3.7.7"
  }
 },
 "nbformat": 4,
 "nbformat_minor": 4
}
