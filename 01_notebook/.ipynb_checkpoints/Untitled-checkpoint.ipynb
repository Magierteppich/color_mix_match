{
 "cells": [
  {
   "cell_type": "code",
   "execution_count": 3,
   "metadata": {},
   "outputs": [],
   "source": [
    "from img_feature import *"
   ]
  },
  {
   "cell_type": "code",
   "execution_count": 4,
   "metadata": {},
   "outputs": [
    {
     "name": "stdout",
     "output_type": "stream",
     "text": [
      "File ../00_data/00_test_pic//.DS_Store is not readable.\n"
     ]
    },
    {
     "data": {
      "text/plain": [
       "([['../00_data/00_test_pic//frog_2.jpg'],\n",
       "  ['../00_data/00_test_pic//test.jpg'],\n",
       "  ['../00_data/00_test_pic//red.jpg']],\n",
       " ['H', 'S', 'V', 'colorfulness', 'contrast', 'R', 'G', 'B', 'kelvin'],\n",
       " [array([ 5503.04706634,  5608.16806634,  5589.28736634,  5503.99541048,\n",
       "          5491.26750722,  5522.88425038,  5586.85370589,  5496.41630398]),\n",
       "  array([ 6673.26849834,  6632.72089834,  6798.61479834,  6626.6551936 ,\n",
       "          6707.09433751,  6869.74962533,  6869.74966324,  6869.77805596]),\n",
       "  array([ 346.11074919,  384.29964919,  286.39794919,  235.62987944,\n",
       "          187.25590098,  284.58887528,  192.08905615,  200.98916468])])"
      ]
     },
     "execution_count": 4,
     "metadata": {},
     "output_type": "execute_result"
    }
   ],
   "source": [
    "img_get_feature(\"../00_data/00_test_pic/\")"
   ]
  },
  {
   "cell_type": "code",
   "execution_count": 6,
   "metadata": {},
   "outputs": [],
   "source": [
    "from img_cluster import *"
   ]
  },
  {
   "cell_type": "code",
   "execution_count": null,
   "metadata": {},
   "outputs": [],
   "source": []
  }
 ],
 "metadata": {
  "kernelspec": {
   "display_name": "Python 3",
   "language": "python",
   "name": "python3"
  },
  "language_info": {
   "codemirror_mode": {
    "name": "ipython",
    "version": 3
   },
   "file_extension": ".py",
   "mimetype": "text/x-python",
   "name": "python",
   "nbconvert_exporter": "python",
   "pygments_lexer": "ipython3",
   "version": "3.7.7"
  }
 },
 "nbformat": 4,
 "nbformat_minor": 4
}
