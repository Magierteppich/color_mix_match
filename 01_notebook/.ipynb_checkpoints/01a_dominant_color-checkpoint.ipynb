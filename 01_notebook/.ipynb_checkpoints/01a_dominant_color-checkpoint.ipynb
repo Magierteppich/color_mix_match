{
 "cells": [
  {
   "cell_type": "markdown",
   "metadata": {},
   "source": [
    "# 01a_dominant_color\n",
    "\n",
    "### Looking for a less expensive calculation\n",
    "\n",
    "source: https://adamspannbauer.github.io/2018/03/02/app-icon-dominant-colors/"
   ]
  },
  {
   "cell_type": "code",
   "execution_count": 144,
   "metadata": {},
   "outputs": [],
   "source": [
    "from sklearn.cluster import KMeans\n",
    "from collections import Counter\n",
    "import cv2 #for resizing image\n",
    "import matplotlib.pyplot as plt\n",
    "\n",
    "def get_dominant_color(image, k=4):\n",
    "    \n",
    "    image = cv2.imread(image)\n",
    "    image = cv2.cvtColor(image, cv2.COLOR_BGR2RGB) #convert to RGB to get the right order\n",
    "    image = image.reshape((image.shape[0] * image.shape[1], 3))\n",
    "    \n",
    "   \n",
    "    #cluster and assign labels to the pixels \n",
    "    clt = KMeans(n_clusters = k)\n",
    "    labels = clt.fit_predict(image)\n",
    "\n",
    "    #count labels to find most popular\n",
    "    label_counts = Counter(labels)\n",
    "\n",
    "    #subset out most popular centroid\n",
    "    dominant_color = clt.cluster_centers_[label_counts.most_common(1)[0][0]]\n",
    "\n",
    "    return dominant_color"
   ]
  },
  {
   "cell_type": "markdown",
   "metadata": {},
   "source": [
    "## Decompose and understand the code"
   ]
  },
  {
   "cell_type": "code",
   "execution_count": 98,
   "metadata": {},
   "outputs": [
    {
     "data": {
      "text/plain": [
       "array([[[ 39,  97,  43],\n",
       "        [ 39,  97,  43],\n",
       "        [ 39,  97,  43],\n",
       "        ...,\n",
       "        [ 23,  56,  22],\n",
       "        [ 23,  54,  23],\n",
       "        [115, 139, 115]],\n",
       "\n",
       "       [[ 39,  97,  43],\n",
       "        [ 39,  97,  43],\n",
       "        [ 39,  97,  43],\n",
       "        ...,\n",
       "        [ 23,  56,  22],\n",
       "        [ 22,  53,  22],\n",
       "        [115, 139, 115]],\n",
       "\n",
       "       [[ 39,  97,  43],\n",
       "        [ 39,  97,  43],\n",
       "        [ 39,  97,  43],\n",
       "        ...,\n",
       "        [ 23,  56,  22],\n",
       "        [ 22,  53,  22],\n",
       "        [115, 140, 114]],\n",
       "\n",
       "       ...,\n",
       "\n",
       "       [[ 15, 110,  36],\n",
       "        [ 15, 110,  36],\n",
       "        [ 16, 111,  37],\n",
       "        ...,\n",
       "        [ 26, 130,  53],\n",
       "        [ 26, 131,  58],\n",
       "        [118, 182, 136]],\n",
       "\n",
       "       [[ 18, 109,  34],\n",
       "        [ 16, 109,  34],\n",
       "        [ 14, 109,  34],\n",
       "        ...,\n",
       "        [ 27, 132,  59],\n",
       "        [ 25, 133,  61],\n",
       "        [117, 183, 134]],\n",
       "\n",
       "       [[ 18, 109,  34],\n",
       "        [ 16, 109,  34],\n",
       "        [ 14, 109,  34],\n",
       "        ...,\n",
       "        [ 27, 132,  59],\n",
       "        [ 25, 133,  60],\n",
       "        [117, 183, 134]]], dtype=uint8)"
      ]
     },
     "execution_count": 98,
     "metadata": {},
     "output_type": "execute_result"
    }
   ],
   "source": [
    "image = cv2.imread(\"../00_data/00_test_pic/frog_2.jpg\")\n",
    "image"
   ]
  },
  {
   "cell_type": "code",
   "execution_count": 100,
   "metadata": {},
   "outputs": [
    {
     "data": {
      "text/plain": [
       "(410, 618, 3)"
      ]
     },
     "execution_count": 100,
     "metadata": {},
     "output_type": "execute_result"
    }
   ],
   "source": [
    "image.shape"
   ]
  },
  {
   "cell_type": "code",
   "execution_count": 101,
   "metadata": {},
   "outputs": [
    {
     "data": {
      "text/plain": [
       "410"
      ]
     },
     "execution_count": 101,
     "metadata": {},
     "output_type": "execute_result"
    }
   ],
   "source": [
    "image.shape[0]"
   ]
  },
  {
   "cell_type": "code",
   "execution_count": 102,
   "metadata": {},
   "outputs": [
    {
     "data": {
      "text/plain": [
       "618"
      ]
     },
     "execution_count": 102,
     "metadata": {},
     "output_type": "execute_result"
    }
   ],
   "source": [
    "image.shape[1]"
   ]
  },
  {
   "cell_type": "code",
   "execution_count": 103,
   "metadata": {},
   "outputs": [],
   "source": [
    "image = image.reshape((image.shape[0] * image.shape[1], 3))"
   ]
  },
  {
   "cell_type": "code",
   "execution_count": 105,
   "metadata": {},
   "outputs": [
    {
     "data": {
      "text/plain": [
       "(2742336, 3)"
      ]
     },
     "execution_count": 105,
     "metadata": {},
     "output_type": "execute_result"
    }
   ],
   "source": [
    "image.shape"
   ]
  },
  {
   "cell_type": "code",
   "execution_count": 106,
   "metadata": {},
   "outputs": [],
   "source": [
    "clt = KMeans(n_clusters = 4)\n",
    "labels = clt.fit_predict(image)"
   ]
  },
  {
   "cell_type": "code",
   "execution_count": 107,
   "metadata": {},
   "outputs": [
    {
     "data": {
      "text/plain": [
       "array([1, 1, 1, ..., 3, 3, 3], dtype=int32)"
      ]
     },
     "execution_count": 107,
     "metadata": {},
     "output_type": "execute_result"
    }
   ],
   "source": [
    "labels"
   ]
  },
  {
   "cell_type": "code",
   "execution_count": 108,
   "metadata": {},
   "outputs": [
    {
     "data": {
      "text/plain": [
       "Counter({1: 1542343, 0: 212668, 3: 612656, 2: 374669})"
      ]
     },
     "execution_count": 108,
     "metadata": {},
     "output_type": "execute_result"
    }
   ],
   "source": [
    "label_counts = Counter(labels)\n",
    "label_counts"
   ]
  },
  {
   "cell_type": "code",
   "execution_count": 109,
   "metadata": {},
   "outputs": [
    {
     "data": {
      "text/plain": [
       "array([[164.08289089, 161.21790927, 160.25827361],\n",
       "       [250.63096287, 250.61660534, 250.5981324 ],\n",
       "       [ 29.67049664,  25.4899273 ,  24.45517994],\n",
       "       [ 92.92694591,  88.13540934,  87.71181998]])"
      ]
     },
     "execution_count": 109,
     "metadata": {},
     "output_type": "execute_result"
    }
   ],
   "source": [
    "clt.cluster_centers_"
   ]
  },
  {
   "cell_type": "code",
   "execution_count": 110,
   "metadata": {},
   "outputs": [
    {
     "data": {
      "text/plain": [
       "[(1, 1542343)]"
      ]
     },
     "execution_count": 110,
     "metadata": {},
     "output_type": "execute_result"
    }
   ],
   "source": [
    "label_counts.most_common(1)"
   ]
  },
  {
   "cell_type": "code",
   "execution_count": 111,
   "metadata": {},
   "outputs": [
    {
     "data": {
      "text/plain": [
       "1"
      ]
     },
     "execution_count": 111,
     "metadata": {},
     "output_type": "execute_result"
    }
   ],
   "source": [
    "label_counts.most_common()[0][0]"
   ]
  },
  {
   "cell_type": "code",
   "execution_count": 112,
   "metadata": {},
   "outputs": [
    {
     "data": {
      "text/plain": [
       "[(1, 1542343)]"
      ]
     },
     "execution_count": 112,
     "metadata": {},
     "output_type": "execute_result"
    }
   ],
   "source": [
    "label_counts.most_common(1)"
   ]
  },
  {
   "cell_type": "code",
   "execution_count": 113,
   "metadata": {},
   "outputs": [
    {
     "data": {
      "text/plain": [
       "1"
      ]
     },
     "execution_count": 113,
     "metadata": {},
     "output_type": "execute_result"
    }
   ],
   "source": [
    "label_counts.most_common(1)[0][0]"
   ]
  },
  {
   "cell_type": "code",
   "execution_count": 132,
   "metadata": {},
   "outputs": [
    {
     "data": {
      "text/plain": [
       "array([164.08289089, 161.21790927, 160.25827361])"
      ]
     },
     "execution_count": 132,
     "metadata": {},
     "output_type": "execute_result"
    }
   ],
   "source": [
    "clt.cluster_centers_[0]"
   ]
  },
  {
   "cell_type": "code",
   "execution_count": 136,
   "metadata": {},
   "outputs": [],
   "source": [
    "dominant_color = clt.cluster_centers_[label_counts.most_common(1)[0][0]]"
   ]
  },
  {
   "cell_type": "markdown",
   "metadata": {},
   "source": [
    "### Use Matplotlib to plot the color based on the R,G,B values passed\n",
    "\n",
    "! Attention: Matplot lib read arrays in the order R, G, B. So in combination with using cv2.imread, the order needs to be swapped first !"
   ]
  },
  {
   "cell_type": "code",
   "execution_count": 146,
   "metadata": {},
   "outputs": [],
   "source": [
    "import numpy as np\n",
    "\n",
    "test_color = np.array([111.59875899,  15.93127865,  26.88711661])"
   ]
  },
  {
   "cell_type": "code",
   "execution_count": 147,
   "metadata": {},
   "outputs": [
    {
     "data": {
      "text/plain": [
       "[0.43764219211764704, 0.062475602549019606, 0.10543967298039215]"
      ]
     },
     "execution_count": 147,
     "metadata": {},
     "output_type": "execute_result"
    }
   ],
   "source": [
    "colors_scaled = []\n",
    "for color in test_color: \n",
    "    color_scaled = color / 255 \n",
    "    colors_scaled.append(color_scaled)\n",
    "    \n",
    "colors_scaled"
   ]
  },
  {
   "cell_type": "code",
   "execution_count": 148,
   "metadata": {},
   "outputs": [
    {
     "data": {
      "image/png": "[encoded data removed]",
      "text/plain": [
       "<Figure size 432x288 with 1 Axes>"
      ]
     },
     "metadata": {
      "needs_background": "light"
     },
     "output_type": "display_data"
    }
   ],
   "source": [
    "plt.imshow([[colors_scaled]])\n",
    "plt.show()"
   ]
  },
  {
   "cell_type": "markdown",
   "metadata": {},
   "source": [
    "#### The current function returns a np.array containing the B,G,R value"
   ]
  },
  {
   "cell_type": "code",
   "execution_count": 145,
   "metadata": {},
   "outputs": [
    {
     "data": {
      "text/plain": [
       "array([111.59875899,  15.93127865,  26.88711661])"
      ]
     },
     "execution_count": 145,
     "metadata": {},
     "output_type": "execute_result"
    }
   ],
   "source": [
    "get_dominant_color(\"../00_data/00_test_pic/red.jpg\", k=4)"
   ]
  },
  {
   "cell_type": "markdown",
   "metadata": {},
   "source": [
    "    #resize image if new dims provided\n",
    "    if image_processing_size is not None:\n",
    "        image = cv2.resize(image, image_processing_size, \n",
    "                            interpolation = cv2.INTER_AREA)\n",
    "    \n",
    "    #reshape the image to be a list of pixels\n",
    "    image = image.reshape((image.shape[0] * image.shape[1], 3))"
   ]
  },
  {
   "cell_type": "markdown",
   "metadata": {},
   "source": [
    "### Update the function to take more than 1 file"
   ]
  },
  {
   "cell_type": "code",
   "execution_count": 190,
   "metadata": {},
   "outputs": [],
   "source": [
    "from os.path import isfile, join\n",
    "from os import listdir\n",
    "import pandas as pd\n",
    "\n",
    "def get_dominant_color(path_to_library, k=4):\n",
    "    \n",
    "    result = []\n",
    "    \n",
    "    file_list = [f for f in listdir(path_to_library) if isfile(join(path_to_library, f))] \n",
    "\n",
    "    for file_path in file_list: \n",
    "        image = cv2.imread(path_to_library + \"/\" + file_path) # CV2 reads the array in BGR! \n",
    "        \n",
    "        if image is None: \n",
    "            print(f\"The image {file_path} is not readable.\")\n",
    "        \n",
    "        else: \n",
    "            image = cv2.cvtColor(image, cv2.COLOR_BGR2RGB) #convert to RGB to get the right order\n",
    "            image = image.reshape((image.shape[0] * image.shape[1], 3))\n",
    "    \n",
    "            #cluster and assign labels to the pixels \n",
    "            clt = KMeans(n_clusters = k)\n",
    "            labels = clt.fit_predict(image)\n",
    "        \n",
    "            #count labels to find most popular\n",
    "            label_counts = Counter(labels)\n",
    "        \n",
    "            #subset out most popular centroid\n",
    "            dominant_color = clt.cluster_centers_[label_counts.most_common(1)[0][0]]\n",
    "            image_result = list([file_path]) + list(dominant_color)\n",
    "            result.append(image_result)\n",
    "            \n",
    "    return result #result is a list of sub-lists. Each sub-list contains 4 elements: file_path, r,g,b"
   ]
  },
  {
   "cell_type": "code",
   "execution_count": 188,
   "metadata": {},
   "outputs": [
    {
     "name": "stdout",
     "output_type": "stream",
     "text": [
      "The image .DS_Store is not readable.\n"
     ]
    },
    {
     "data": {
      "text/plain": [
       "[['test.jpg', 250.59813240417515, 250.61660534295163, 250.6309628723714],\n",
       " ['airplane.jpg', 233.64661037482563, 178.6402284775873, 142.73197763744676],\n",
       " ['red.jpg', 111.64653018607548, 15.949919826973751, 26.91374874147073]]"
      ]
     },
     "execution_count": 188,
     "metadata": {},
     "output_type": "execute_result"
    }
   ],
   "source": [
    "get_dominant_color(\"../00_data/00_test_pic/\")"
   ]
  },
  {
   "cell_type": "code",
   "execution_count": null,
   "metadata": {},
   "outputs": [],
   "source": []
  }
 ],
 "metadata": {
  "kernelspec": {
   "display_name": "Python 3",
   "language": "python",
   "name": "python3"
  },
  "language_info": {
   "codemirror_mode": {
    "name": "ipython",
    "version": 3
   },
   "file_extension": ".py",
   "mimetype": "text/x-python",
   "name": "python",
   "nbconvert_exporter": "python",
   "pygments_lexer": "ipython3",
   "version": "3.7.7"
  }
 },
 "nbformat": 4,
 "nbformat_minor": 4
}
