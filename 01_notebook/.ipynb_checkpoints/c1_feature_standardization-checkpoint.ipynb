{
 "cells": [
  {
   "cell_type": "markdown",
   "metadata": {},
   "source": [
    "# Standardizing all image features "
   ]
  },
  {
   "cell_type": "code",
   "execution_count": 1,
   "metadata": {},
   "outputs": [],
   "source": [
    "import image_all_features as iaf\n",
    "import pandas as pd\n",
    "from sklearn.preprocessing import StandardScaler\n",
    "import numpy as np"
   ]
  },
  {
   "cell_type": "code",
   "execution_count": 3,
   "metadata": {},
   "outputs": [
    {
     "name": "stdout",
     "output_type": "stream",
     "text": [
      "File ../00_data/00_test_pic//.DS_Store is not readable.\n",
      "File ../00_data/00_test_pic//.DS_Store is not readable.\n"
     ]
    }
   ],
   "source": [
    "valid_path, features, feature_list = iaf.img_get_feature(\"../00_data/00_test_pic/\")"
   ]
  },
  {
   "cell_type": "code",
   "execution_count": 4,
   "metadata": {},
   "outputs": [
    {
     "data": {
      "text/plain": [
       "[['../00_data/00_test_pic//frog_2.jpg'],\n",
       " ['../00_data/00_test_pic//test.jpg'],\n",
       " ['../00_data/00_test_pic//red.jpg']]"
      ]
     },
     "execution_count": 4,
     "metadata": {},
     "output_type": "execute_result"
    }
   ],
   "source": [
    "valid_path"
   ]
  },
  {
   "cell_type": "code",
   "execution_count": 5,
   "metadata": {},
   "outputs": [
    {
     "data": {
      "text/plain": [
       "['H', 'S', 'V', 'colorfulness', 'contrast', 'R', 'G', 'B']"
      ]
     },
     "execution_count": 5,
     "metadata": {},
     "output_type": "execute_result"
    }
   ],
   "source": [
    "features"
   ]
  },
  {
   "cell_type": "code",
   "execution_count": 6,
   "metadata": {},
   "outputs": [
    {
     "data": {
      "text/plain": [
       "[[49.7562,\n",
       "  154.8772,\n",
       "  135.9965,\n",
       "  50.704544146258954,\n",
       "  37.9766408829949,\n",
       "  47.69255702280436,\n",
       "  93.47851140454452,\n",
       "  35.24105642257423],\n",
       " [53.5365,\n",
       "  12.9889,\n",
       "  178.8828,\n",
       "  6.923195255127685,\n",
       "  87.36233917303912,\n",
       "  250.01762699018497,\n",
       "  250.01766489769238,\n",
       "  250.0460576194406],\n",
       " [171.2669,\n",
       "  209.4558,\n",
       "  111.5541,\n",
       "  60.78603025652514,\n",
       "  12.412051788676655,\n",
       "  109.90856701826604,\n",
       "  17.24466169282189,\n",
       "  26.167790069462175]]"
      ]
     },
     "execution_count": 6,
     "metadata": {},
     "output_type": "execute_result"
    }
   ],
   "source": [
    "feature_list"
   ]
  },
  {
   "cell_type": "code",
   "execution_count": 7,
   "metadata": {},
   "outputs": [],
   "source": [
    "df = feature_list.copy()\n",
    "df = pd.DataFrame(df)"
   ]
  },
  {
   "cell_type": "code",
   "execution_count": 8,
   "metadata": {},
   "outputs": [
    {
     "data": {
      "text/html": [
       "<div>\n",
       "<style scoped>\n",
       "    .dataframe tbody tr th:only-of-type {\n",
       "        vertical-align: middle;\n",
       "    }\n",
       "\n",
       "    .dataframe tbody tr th {\n",
       "        vertical-align: top;\n",
       "    }\n",
       "\n",
       "    .dataframe thead th {\n",
       "        text-align: right;\n",
       "    }\n",
       "</style>\n",
       "<table border=\"1\" class=\"dataframe\">\n",
       "  <thead>\n",
       "    <tr style=\"text-align: right;\">\n",
       "      <th></th>\n",
       "      <th>0</th>\n",
       "      <th>1</th>\n",
       "      <th>2</th>\n",
       "      <th>3</th>\n",
       "      <th>4</th>\n",
       "      <th>5</th>\n",
       "      <th>6</th>\n",
       "      <th>7</th>\n",
       "    </tr>\n",
       "  </thead>\n",
       "  <tbody>\n",
       "    <tr>\n",
       "      <th>0</th>\n",
       "      <td>49.7562</td>\n",
       "      <td>154.8772</td>\n",
       "      <td>135.9965</td>\n",
       "      <td>50.704544</td>\n",
       "      <td>37.976641</td>\n",
       "      <td>47.692557</td>\n",
       "      <td>93.478511</td>\n",
       "      <td>35.241056</td>\n",
       "    </tr>\n",
       "    <tr>\n",
       "      <th>1</th>\n",
       "      <td>53.5365</td>\n",
       "      <td>12.9889</td>\n",
       "      <td>178.8828</td>\n",
       "      <td>6.923195</td>\n",
       "      <td>87.362339</td>\n",
       "      <td>250.017627</td>\n",
       "      <td>250.017665</td>\n",
       "      <td>250.046058</td>\n",
       "    </tr>\n",
       "    <tr>\n",
       "      <th>2</th>\n",
       "      <td>171.2669</td>\n",
       "      <td>209.4558</td>\n",
       "      <td>111.5541</td>\n",
       "      <td>60.786030</td>\n",
       "      <td>12.412052</td>\n",
       "      <td>109.908567</td>\n",
       "      <td>17.244662</td>\n",
       "      <td>26.167790</td>\n",
       "    </tr>\n",
       "  </tbody>\n",
       "</table>\n",
       "</div>"
      ],
      "text/plain": [
       "          0         1         2          3          4           5           6  \\\n",
       "0   49.7562  154.8772  135.9965  50.704544  37.976641   47.692557   93.478511   \n",
       "1   53.5365   12.9889  178.8828   6.923195  87.362339  250.017627  250.017665   \n",
       "2  171.2669  209.4558  111.5541  60.786030  12.412052  109.908567   17.244662   \n",
       "\n",
       "            7  \n",
       "0   35.241056  \n",
       "1  250.046058  \n",
       "2   26.167790  "
      ]
     },
     "execution_count": 8,
     "metadata": {},
     "output_type": "execute_result"
    }
   ],
   "source": [
    "df"
   ]
  },
  {
   "cell_type": "code",
   "execution_count": 9,
   "metadata": {},
   "outputs": [],
   "source": [
    "# df incl only all numerical columns: \n",
    "num_df = df.iloc[:,1:]"
   ]
  },
  {
   "cell_type": "code",
   "execution_count": 10,
   "metadata": {},
   "outputs": [],
   "source": [
    "num_np = np.array(num_df)"
   ]
  },
  {
   "cell_type": "code",
   "execution_count": 11,
   "metadata": {},
   "outputs": [
    {
     "data": {
      "text/plain": [
       "array([[ 0.35146612, -0.22092354,  0.4804643 , -0.25524185, -1.04214006,\n",
       "        -0.27625966, -0.66280644],\n",
       "       [-1.36205244,  1.32017024, -1.39212865,  1.33225311,  1.34899398,\n",
       "         1.33927947,  1.41330697],\n",
       "       [ 1.01058632, -1.0992467 ,  0.91166435, -1.07701126, -0.30685392,\n",
       "        -1.06301981, -0.75050053]])"
      ]
     },
     "execution_count": 11,
     "metadata": {},
     "output_type": "execute_result"
    }
   ],
   "source": [
    "scaler = StandardScaler()\n",
    "scaled_fit = scaler.fit(num_df)\n",
    "scaled_fit.transform(num_df)"
   ]
  },
  {
   "cell_type": "code",
   "execution_count": 12,
   "metadata": {},
   "outputs": [
    {
     "data": {
      "text/plain": [
       "array([[ 0.35146612, -0.22092354,  0.4804643 , -0.25524185, -1.04214006,\n",
       "        -0.27625966, -0.66280644],\n",
       "       [-1.36205244,  1.32017024, -1.39212865,  1.33225311,  1.34899398,\n",
       "         1.33927947,  1.41330697],\n",
       "       [ 1.01058632, -1.0992467 ,  0.91166435, -1.07701126, -0.30685392,\n",
       "        -1.06301981, -0.75050053]])"
      ]
     },
     "execution_count": 12,
     "metadata": {},
     "output_type": "execute_result"
    }
   ],
   "source": [
    "# the numpy approach gets the same results as the panda approach. Keep everything in np to make it faster. \n",
    "scaler_np = StandardScaler()\n",
    "scaled_fit_np = scaler_np.fit(num_np)\n",
    "scaled_fit_np.transform(num_np)"
   ]
  },
  {
   "cell_type": "code",
   "execution_count": 20,
   "metadata": {},
   "outputs": [],
   "source": [
    "def scale_feature(feature_list):\n",
    "    \n",
    "    scaler = StandardScaler()\n",
    "    scaled_fit = scaler.fit(feature_list)\n",
    "    scaled_feature_list = scaled_fit.transform(feature_list)\n",
    "    \n",
    "    return scaled_feature_list\n",
    "    "
   ]
  },
  {
   "cell_type": "code",
   "execution_count": 21,
   "metadata": {},
   "outputs": [
    {
     "data": {
      "text/plain": [
       "array([[-0.740349  ,  0.35146612, -0.22092354,  0.4804643 , -0.25524185,\n",
       "        -1.04214006, -0.27625966, -0.66280644],\n",
       "       [-0.67333521, -1.36205244,  1.32017024, -1.39212865,  1.33225311,\n",
       "         1.34899398,  1.33927947,  1.41330697],\n",
       "       [ 1.41368421,  1.01058632, -1.0992467 ,  0.91166435, -1.07701126,\n",
       "        -0.30685392, -1.06301981, -0.75050053]])"
      ]
     },
     "execution_count": 21,
     "metadata": {},
     "output_type": "execute_result"
    }
   ],
   "source": [
    "scale_feature(feature_list)"
   ]
  },
  {
   "cell_type": "code",
   "execution_count": null,
   "metadata": {},
   "outputs": [],
   "source": []
  }
 ],
 "metadata": {
  "kernelspec": {
   "display_name": "Python 3",
   "language": "python",
   "name": "python3"
  },
  "language_info": {
   "codemirror_mode": {
    "name": "ipython",
    "version": 3
   },
   "file_extension": ".py",
   "mimetype": "text/x-python",
   "name": "python",
   "nbconvert_exporter": "python",
   "pygments_lexer": "ipython3",
   "version": "3.7.7"
  }
 },
 "nbformat": 4,
 "nbformat_minor": 4
}
