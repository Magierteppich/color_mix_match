{
 "cells": [
  {
   "cell_type": "code",
   "execution_count": 1,
   "metadata": {},
   "outputs": [],
   "source": [
    "# source: https://stackabuse.com/image-recognition-in-python-with-tensorflow-and-keras/ --> Tutorial used\n",
    "# https://www.cs.toronto.edu/~kriz/cifar.html --> Dataset used\n",
    "# https://keras.io/examples/vision/image_classification_from_scratch/ --> Keras' own tutorial on image segmentation\n",
    "# https://machinelearningmastery.com/save-load-keras-deep-learning-models/ --> how to save the model\n",
    "\n",
    "# written in the environment \"mix_n_match\""
   ]
  },
  {
   "cell_type": "code",
   "execution_count": 15,
   "metadata": {},
   "outputs": [],
   "source": [
    "import tensorflow as tf"
   ]
  },
  {
   "cell_type": "code",
   "execution_count": 16,
   "metadata": {},
   "outputs": [
    {
     "name": "stdout",
     "output_type": "stream",
     "text": [
      "TensorFlow version: 2.2.0\n"
     ]
    }
   ],
   "source": [
    "print(\"TensorFlow version: \" + tf.__version__)\n"
   ]
  },
  {
   "cell_type": "code",
   "execution_count": 23,
   "metadata": {},
   "outputs": [],
   "source": [
    "from tensorflow import keras\n",
    "from tensorflow.keras import layers"
   ]
  },
  {
   "cell_type": "code",
   "execution_count": 24,
   "metadata": {},
   "outputs": [],
   "source": [
    "seed = 21"
   ]
  },
  {
   "cell_type": "code",
   "execution_count": 27,
   "metadata": {},
   "outputs": [],
   "source": [
    "from tensorflow.keras.datasets import cifar10"
   ]
  },
  {
   "cell_type": "code",
   "execution_count": 28,
   "metadata": {},
   "outputs": [
    {
     "name": "stdout",
     "output_type": "stream",
     "text": [
      "Downloading data from https://www.cs.toronto.edu/~kriz/cifar-10-python.tar.gz\n",
      "170500096/170498071 [==============================] - 19s 0us/step\n"
     ]
    }
   ],
   "source": [
    "(X_train, y_train), (X_test, y_test) = cifar10.load_data()"
   ]
  },
  {
   "cell_type": "code",
   "execution_count": 31,
   "metadata": {},
   "outputs": [],
   "source": [
    "X_train = X_train.astype('float32')\n",
    "X_test = X_test.astype('float32')\n",
    "X_train = X_train / 255.0\n",
    "X_test = X_test / 255.0"
   ]
  },
  {
   "cell_type": "code",
   "execution_count": 73,
   "metadata": {},
   "outputs": [
    {
     "data": {
      "text/plain": [
       "array([[[0.6039216 , 0.69411767, 0.73333335],\n",
       "        [0.49411765, 0.5372549 , 0.53333336],\n",
       "        [0.4117647 , 0.40784314, 0.37254903],\n",
       "        ...,\n",
       "        [0.35686275, 0.37254903, 0.2784314 ],\n",
       "        [0.34117648, 0.3529412 , 0.2784314 ],\n",
       "        [0.30980393, 0.31764707, 0.27450982]],\n",
       "\n",
       "       [[0.54901963, 0.627451  , 0.6627451 ],\n",
       "        [0.5686275 , 0.6       , 0.6039216 ],\n",
       "        [0.49019608, 0.49019608, 0.4627451 ],\n",
       "        ...,\n",
       "        [0.3764706 , 0.3882353 , 0.30588236],\n",
       "        [0.3019608 , 0.3137255 , 0.24313726],\n",
       "        [0.2784314 , 0.28627452, 0.23921569]],\n",
       "\n",
       "       [[0.54901963, 0.60784316, 0.6431373 ],\n",
       "        [0.54509807, 0.57254905, 0.58431375],\n",
       "        [0.4509804 , 0.4509804 , 0.4392157 ],\n",
       "        ...,\n",
       "        [0.30980393, 0.32156864, 0.2509804 ],\n",
       "        [0.26666668, 0.27450982, 0.21568628],\n",
       "        [0.2627451 , 0.27058825, 0.21568628]],\n",
       "\n",
       "       ...,\n",
       "\n",
       "       [[0.6862745 , 0.654902  , 0.6509804 ],\n",
       "        [0.6117647 , 0.6039216 , 0.627451  ],\n",
       "        [0.6039216 , 0.627451  , 0.6666667 ],\n",
       "        ...,\n",
       "        [0.16470589, 0.13333334, 0.14117648],\n",
       "        [0.23921569, 0.20784314, 0.22352941],\n",
       "        [0.3647059 , 0.3254902 , 0.35686275]],\n",
       "\n",
       "       [[0.64705884, 0.6039216 , 0.5019608 ],\n",
       "        [0.6117647 , 0.59607846, 0.50980395],\n",
       "        [0.62352943, 0.6313726 , 0.5568628 ],\n",
       "        ...,\n",
       "        [0.40392157, 0.3647059 , 0.3764706 ],\n",
       "        [0.48235294, 0.44705883, 0.47058824],\n",
       "        [0.5137255 , 0.4745098 , 0.5137255 ]],\n",
       "\n",
       "       [[0.6392157 , 0.5803922 , 0.47058824],\n",
       "        [0.61960787, 0.5803922 , 0.47843137],\n",
       "        [0.6392157 , 0.6117647 , 0.52156866],\n",
       "        ...,\n",
       "        [0.56078434, 0.52156866, 0.54509807],\n",
       "        [0.56078434, 0.5254902 , 0.5568628 ],\n",
       "        [0.56078434, 0.52156866, 0.5647059 ]]], dtype=float32)"
      ]
     },
     "execution_count": 73,
     "metadata": {},
     "output_type": "execute_result"
    }
   ],
   "source": [
    "X_train[1]"
   ]
  },
  {
   "cell_type": "code",
   "execution_count": 37,
   "metadata": {},
   "outputs": [],
   "source": [
    "from tensorflow.keras import utils\n",
    "from tensorflow.keras.utils import to_categorical"
   ]
  },
  {
   "cell_type": "code",
   "execution_count": 39,
   "metadata": {},
   "outputs": [],
   "source": [
    "y_train = to_categorical(y_train)\n",
    "y_test = to_categorical(y_test)\n",
    "class_num = y_test.shape[1]"
   ]
  },
  {
   "cell_type": "code",
   "execution_count": 40,
   "metadata": {},
   "outputs": [],
   "source": [
    "# designing the Model \n",
    "\n",
    "model = Sequential()"
   ]
  },
  {
   "cell_type": "code",
   "execution_count": 42,
   "metadata": {},
   "outputs": [],
   "source": [
    "model.add(layers.Conv2D(32, (3, 3), input_shape=X_train.shape[1:], padding='same'))\n",
    "model.add(layers.Activation('relu'))"
   ]
  },
  {
   "cell_type": "code",
   "execution_count": 47,
   "metadata": {},
   "outputs": [],
   "source": [
    "model.add(Dropout(0.2))"
   ]
  },
  {
   "cell_type": "code",
   "execution_count": 48,
   "metadata": {},
   "outputs": [],
   "source": [
    "model.add(BatchNormalization())"
   ]
  },
  {
   "cell_type": "code",
   "execution_count": 49,
   "metadata": {},
   "outputs": [],
   "source": [
    "model.add(layers.Conv2D(64, (3, 3), padding='same'))\n",
    "model.add(layers.Activation('relu'))"
   ]
  },
  {
   "cell_type": "code",
   "execution_count": 51,
   "metadata": {},
   "outputs": [],
   "source": [
    "model.add(layers.MaxPooling2D(pool_size=(2, 2)))\n",
    "model.add(Dropout(0.2))\n",
    "model.add(BatchNormalization())"
   ]
  },
  {
   "cell_type": "code",
   "execution_count": 53,
   "metadata": {},
   "outputs": [],
   "source": [
    "model.add(layers.Conv2D(64, (3, 3), padding='same'))\n",
    "model.add(Activation('relu'))\n",
    "model.add(layers.MaxPooling2D(pool_size=(2, 2)))\n",
    "model.add(Dropout(0.2))\n",
    "model.add(BatchNormalization())\n",
    "    \n",
    "model.add(layers.Conv2D(128, (3, 3), padding='same'))\n",
    "model.add(Activation('relu'))\n",
    "model.add(Dropout(0.2))\n",
    "model.add(BatchNormalization())"
   ]
  },
  {
   "cell_type": "code",
   "execution_count": 54,
   "metadata": {},
   "outputs": [],
   "source": [
    "model.add(Flatten())\n",
    "model.add(Dropout(0.2))"
   ]
  },
  {
   "cell_type": "code",
   "execution_count": 60,
   "metadata": {},
   "outputs": [],
   "source": [
    "model.add(Dense(256, kernel_constraint=keras.constraints.MaxNorm(3)))\n",
    "model.add(Activation('relu'))\n",
    "model.add(Dropout(0.2))\n",
    "model.add(BatchNormalization())\n",
    "    \n",
    "model.add(Dense(128, kernel_constraint=keras.constraints.MaxNorm(3)))\n",
    "model.add(Activation('relu'))\n",
    "model.add(Dropout(0.2))\n",
    "model.add(BatchNormalization())"
   ]
  },
  {
   "cell_type": "code",
   "execution_count": 61,
   "metadata": {},
   "outputs": [],
   "source": [
    "model.add(Dense(class_num))\n",
    "model.add(Activation(\"softmax\"))"
   ]
  },
  {
   "cell_type": "code",
   "execution_count": 62,
   "metadata": {},
   "outputs": [],
   "source": [
    "epochs = 25\n",
    "optimizer = \"adam\""
   ]
  },
  {
   "cell_type": "code",
   "execution_count": 63,
   "metadata": {},
   "outputs": [],
   "source": [
    "model.compile(loss=\"categorical_crossentropy\", optimizer=optimizer, metrics=[\"accuracy\"])"
   ]
  },
  {
   "cell_type": "code",
   "execution_count": 64,
   "metadata": {},
   "outputs": [
    {
     "name": "stdout",
     "output_type": "stream",
     "text": [
      "Model: \"sequential\"\n",
      "_________________________________________________________________\n",
      "Layer (type)                 Output Shape              Param #   \n",
      "=================================================================\n",
      "conv2d (Conv2D)              (None, 32, 32, 32)        896       \n",
      "_________________________________________________________________\n",
      "activation (Activation)      (None, 32, 32, 32)        0         \n",
      "_________________________________________________________________\n",
      "batch_normalization (BatchNo (None, 32, 32, 32)        128       \n",
      "_________________________________________________________________\n",
      "dropout (Dropout)            (None, 32, 32, 32)        0         \n",
      "_________________________________________________________________\n",
      "batch_normalization_1 (Batch (None, 32, 32, 32)        128       \n",
      "_________________________________________________________________\n",
      "conv2d_1 (Conv2D)            (None, 32, 32, 64)        18496     \n",
      "_________________________________________________________________\n",
      "activation_1 (Activation)    (None, 32, 32, 64)        0         \n",
      "_________________________________________________________________\n",
      "max_pooling2d (MaxPooling2D) (None, 16, 16, 64)        0         \n",
      "_________________________________________________________________\n",
      "dropout_1 (Dropout)          (None, 16, 16, 64)        0         \n",
      "_________________________________________________________________\n",
      "batch_normalization_2 (Batch (None, 16, 16, 64)        256       \n",
      "_________________________________________________________________\n",
      "conv2d_2 (Conv2D)            (None, 16, 16, 64)        36928     \n",
      "_________________________________________________________________\n",
      "activation_2 (Activation)    (None, 16, 16, 64)        0         \n",
      "_________________________________________________________________\n",
      "max_pooling2d_1 (MaxPooling2 (None, 8, 8, 64)          0         \n",
      "_________________________________________________________________\n",
      "dropout_2 (Dropout)          (None, 8, 8, 64)          0         \n",
      "_________________________________________________________________\n",
      "batch_normalization_3 (Batch (None, 8, 8, 64)          256       \n",
      "_________________________________________________________________\n",
      "conv2d_3 (Conv2D)            (None, 8, 8, 128)         73856     \n",
      "_________________________________________________________________\n",
      "activation_3 (Activation)    (None, 8, 8, 128)         0         \n",
      "_________________________________________________________________\n",
      "dropout_3 (Dropout)          (None, 8, 8, 128)         0         \n",
      "_________________________________________________________________\n",
      "batch_normalization_4 (Batch (None, 8, 8, 128)         512       \n",
      "_________________________________________________________________\n",
      "flatten (Flatten)            (None, 8192)              0         \n",
      "_________________________________________________________________\n",
      "dropout_4 (Dropout)          (None, 8192)              0         \n",
      "_________________________________________________________________\n",
      "dense (Dense)                (None, 256)               2097408   \n",
      "_________________________________________________________________\n",
      "activation_4 (Activation)    (None, 256)               0         \n",
      "_________________________________________________________________\n",
      "dropout_5 (Dropout)          (None, 256)               0         \n",
      "_________________________________________________________________\n",
      "batch_normalization_5 (Batch (None, 256)               1024      \n",
      "_________________________________________________________________\n",
      "dense_1 (Dense)              (None, 256)               65792     \n",
      "_________________________________________________________________\n",
      "activation_5 (Activation)    (None, 256)               0         \n",
      "_________________________________________________________________\n",
      "dropout_6 (Dropout)          (None, 256)               0         \n",
      "_________________________________________________________________\n",
      "batch_normalization_6 (Batch (None, 256)               1024      \n",
      "_________________________________________________________________\n",
      "dense_2 (Dense)              (None, 128)               32896     \n",
      "_________________________________________________________________\n",
      "activation_6 (Activation)    (None, 128)               0         \n",
      "_________________________________________________________________\n",
      "dropout_7 (Dropout)          (None, 128)               0         \n",
      "_________________________________________________________________\n",
      "batch_normalization_7 (Batch (None, 128)               512       \n",
      "_________________________________________________________________\n",
      "dense_3 (Dense)              (None, 10)                1290      \n",
      "_________________________________________________________________\n",
      "activation_7 (Activation)    (None, 10)                0         \n",
      "=================================================================\n",
      "Total params: 2,331,402\n",
      "Trainable params: 2,329,482\n",
      "Non-trainable params: 1,920\n",
      "_________________________________________________________________\n",
      "None\n"
     ]
    }
   ],
   "source": [
    "print(model.summary())"
   ]
  },
  {
   "cell_type": "code",
   "execution_count": 65,
   "metadata": {},
   "outputs": [
    {
     "name": "stdout",
     "output_type": "stream",
     "text": [
      "Epoch 1/25\n",
      "782/782 [==============================] - 367s 469ms/step - loss: 1.5733 - accuracy: 0.4423 - val_loss: 1.2946 - val_accuracy: 0.5463\n",
      "Epoch 2/25\n",
      "782/782 [==============================] - 337s 431ms/step - loss: 1.0569 - accuracy: 0.6299 - val_loss: 1.1851 - val_accuracy: 0.5896\n",
      "Epoch 3/25\n",
      "782/782 [==============================] - 292s 374ms/step - loss: 0.8761 - accuracy: 0.6962 - val_loss: 0.7750 - val_accuracy: 0.7290\n",
      "Epoch 4/25\n",
      "782/782 [==============================] - 277s 354ms/step - loss: 0.7749 - accuracy: 0.7315 - val_loss: 0.7054 - val_accuracy: 0.7538\n",
      "Epoch 5/25\n",
      "782/782 [==============================] - 281s 359ms/step - loss: 0.7174 - accuracy: 0.7538 - val_loss: 0.8160 - val_accuracy: 0.7163\n",
      "Epoch 6/25\n",
      "782/782 [==============================] - 271s 347ms/step - loss: 0.6700 - accuracy: 0.7672 - val_loss: 0.6900 - val_accuracy: 0.7669\n",
      "Epoch 7/25\n",
      "782/782 [==============================] - 265s 338ms/step - loss: 0.6384 - accuracy: 0.7794 - val_loss: 0.6721 - val_accuracy: 0.7695\n",
      "Epoch 8/25\n",
      "782/782 [==============================] - 262s 335ms/step - loss: 0.6076 - accuracy: 0.7908 - val_loss: 0.6104 - val_accuracy: 0.7887\n",
      "Epoch 9/25\n",
      "782/782 [==============================] - 263s 336ms/step - loss: 0.5820 - accuracy: 0.7997 - val_loss: 0.6689 - val_accuracy: 0.7717\n",
      "Epoch 10/25\n",
      "782/782 [==============================] - 266s 340ms/step - loss: 0.5604 - accuracy: 0.8057 - val_loss: 0.5537 - val_accuracy: 0.8110\n",
      "Epoch 11/25\n",
      "782/782 [==============================] - 270s 346ms/step - loss: 0.5383 - accuracy: 0.8139 - val_loss: 0.5510 - val_accuracy: 0.8063\n",
      "Epoch 12/25\n",
      "782/782 [==============================] - 260s 333ms/step - loss: 0.5218 - accuracy: 0.8200 - val_loss: 0.5582 - val_accuracy: 0.8100\n",
      "Epoch 13/25\n",
      "782/782 [==============================] - 261s 334ms/step - loss: 0.5108 - accuracy: 0.8215 - val_loss: 0.5420 - val_accuracy: 0.8164\n",
      "Epoch 14/25\n",
      "782/782 [==============================] - 266s 340ms/step - loss: 0.4976 - accuracy: 0.8286 - val_loss: 0.5917 - val_accuracy: 0.8007\n",
      "Epoch 15/25\n",
      "782/782 [==============================] - 269s 344ms/step - loss: 0.4859 - accuracy: 0.8320 - val_loss: 0.6094 - val_accuracy: 0.7884\n",
      "Epoch 16/25\n",
      "782/782 [==============================] - 266s 340ms/step - loss: 0.4749 - accuracy: 0.8356 - val_loss: 0.5278 - val_accuracy: 0.8174\n",
      "Epoch 17/25\n",
      "782/782 [==============================] - 269s 344ms/step - loss: 0.4676 - accuracy: 0.8385 - val_loss: 0.4984 - val_accuracy: 0.8255\n",
      "Epoch 18/25\n",
      "782/782 [==============================] - 268s 343ms/step - loss: 0.4581 - accuracy: 0.8406 - val_loss: 0.5232 - val_accuracy: 0.8256\n",
      "Epoch 19/25\n",
      "782/782 [==============================] - 271s 347ms/step - loss: 0.4553 - accuracy: 0.8423 - val_loss: 0.5158 - val_accuracy: 0.8232\n",
      "Epoch 20/25\n",
      "782/782 [==============================] - 270s 346ms/step - loss: 0.4409 - accuracy: 0.8470 - val_loss: 0.5859 - val_accuracy: 0.8050\n",
      "Epoch 21/25\n",
      "782/782 [==============================] - 266s 340ms/step - loss: 0.4335 - accuracy: 0.8498 - val_loss: 0.5148 - val_accuracy: 0.8294\n",
      "Epoch 22/25\n",
      "782/782 [==============================] - 259s 332ms/step - loss: 0.4281 - accuracy: 0.8526 - val_loss: 0.5619 - val_accuracy: 0.8141\n",
      "Epoch 23/25\n",
      "782/782 [==============================] - 263s 336ms/step - loss: 0.4273 - accuracy: 0.8511 - val_loss: 0.5465 - val_accuracy: 0.8140\n",
      "Epoch 24/25\n",
      "782/782 [==============================] - 263s 336ms/step - loss: 0.4183 - accuracy: 0.8552 - val_loss: 0.5302 - val_accuracy: 0.8208\n",
      "Epoch 25/25\n",
      "782/782 [==============================] - 265s 339ms/step - loss: 0.4227 - accuracy: 0.8545 - val_loss: 0.4931 - val_accuracy: 0.8332\n"
     ]
    },
    {
     "data": {
      "text/plain": [
       "<tensorflow.python.keras.callbacks.History at 0x146852cd0>"
      ]
     },
     "execution_count": 65,
     "metadata": {},
     "output_type": "execute_result"
    }
   ],
   "source": [
    "numpy.random.seed(seed)\n",
    "model.fit(X_train, y_train, validation_data=(X_test, y_test), epochs=epochs, batch_size=64)"
   ]
  },
  {
   "cell_type": "code",
   "execution_count": 66,
   "metadata": {},
   "outputs": [
    {
     "name": "stdout",
     "output_type": "stream",
     "text": [
      "Accuracy: 83.32%\n"
     ]
    }
   ],
   "source": [
    "scores = model.evaluate(X_test, y_test, verbose=0)\n",
    "print(\"Accuracy: %.2f%%\" % (scores[1]*100))"
   ]
  },
  {
   "cell_type": "code",
   "execution_count": 67,
   "metadata": {},
   "outputs": [],
   "source": [
    "# save the model"
   ]
  },
  {
   "cell_type": "code",
   "execution_count": 70,
   "metadata": {},
   "outputs": [],
   "source": [
    "model_json = model.to_json()\n",
    "with open (\"model.json\", \"w\") as json_file:\n",
    "    json_file.write(model_json)\n"
   ]
  },
  {
   "cell_type": "code",
   "execution_count": 71,
   "metadata": {},
   "outputs": [
    {
     "name": "stdout",
     "output_type": "stream",
     "text": [
      "Saved model to disk\n"
     ]
    }
   ],
   "source": [
    "model.save_weights(\"model.h5\")\n",
    "print(\"Saved model to disk\")"
   ]
  },
  {
   "cell_type": "code",
   "execution_count": 75,
   "metadata": {},
   "outputs": [
    {
     "name": "stdout",
     "output_type": "stream",
     "text": [
      "Loaded model from disk\n"
     ]
    }
   ],
   "source": [
    "json_file = open('model.json', 'r')\n",
    "loaded_model_json = json_file.read()\n",
    "json_file.close()\n",
    "loaded_model = tf.keras.models.model_from_json(loaded_model_json)\n",
    "# load weights into new model\n",
    "loaded_model.load_weights(\"model.h5\")\n",
    "print(\"Loaded model from disk\")"
   ]
  },
  {
   "cell_type": "code",
   "execution_count": 77,
   "metadata": {},
   "outputs": [
    {
     "name": "stdout",
     "output_type": "stream",
     "text": [
      "accuracy: 83.32%\n"
     ]
    }
   ],
   "source": [
    "# evaluate loaded model on test data\n",
    "loaded_model.compile(loss='binary_crossentropy', optimizer='rmsprop', metrics=['accuracy'])\n",
    "score = loaded_model.evaluate(X_test, y_test, verbose=0)\n",
    "print(\"%s: %.2f%%\" % (loaded_model.metrics_names[1], score[1]*100))"
   ]
  },
  {
   "cell_type": "code",
   "execution_count": null,
   "metadata": {},
   "outputs": [],
   "source": []
  }
 ],
 "metadata": {
  "kernelspec": {
   "display_name": "Python 3",
   "language": "python",
   "name": "python3"
  },
  "language_info": {
   "codemirror_mode": {
    "name": "ipython",
    "version": 3
   },
   "file_extension": ".py",
   "mimetype": "text/x-python",
   "name": "python",
   "nbconvert_exporter": "python",
   "pygments_lexer": "ipython3",
   "version": "3.8.1"
  }
 },
 "nbformat": 4,
 "nbformat_minor": 4
}
