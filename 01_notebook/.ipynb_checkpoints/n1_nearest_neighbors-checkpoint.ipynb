{
 "cells": [
  {
   "cell_type": "markdown",
   "metadata": {},
   "source": [
    "# Testing neares neighbors to reommend matching images"
   ]
  },
  {
   "cell_type": "code",
   "execution_count": 25,
   "metadata": {},
   "outputs": [],
   "source": [
    "from sklearn.neighbors import NearestNeighbors\n",
    "from sklearn.preprocessing import StandardScaler\n"
   ]
  },
  {
   "cell_type": "code",
   "execution_count": 2,
   "metadata": {},
   "outputs": [],
   "source": [
    "import image_all_features"
   ]
  },
  {
   "cell_type": "code",
   "execution_count": 3,
   "metadata": {},
   "outputs": [],
   "source": [
    "import numpy as np"
   ]
  },
  {
   "cell_type": "code",
   "execution_count": 4,
   "metadata": {},
   "outputs": [
    {
     "name": "stdout",
     "output_type": "stream",
     "text": [
      "File ../00_data/00_test_pic_full/.DS_Store is not readable.\n",
      "File ../00_data/00_test_pic_full/.DS_Store is not readable.\n"
     ]
    }
   ],
   "source": [
    "valid_path, features, feature_list = image_all_features.img_get_feature(\"../00_data/00_test_pic_full\")"
   ]
  },
  {
   "cell_type": "code",
   "execution_count": 5,
   "metadata": {},
   "outputs": [
    {
     "data": {
      "text/plain": [
       "['H', 'S', 'V', 'colorfulness', 'contrast', 'R', 'G', 'B']"
      ]
     },
     "execution_count": 5,
     "metadata": {},
     "output_type": "execute_result"
    }
   ],
   "source": [
    "features"
   ]
  },
  {
   "cell_type": "code",
   "execution_count": null,
   "metadata": {},
   "outputs": [],
   "source": [
    "model_knn = NearestNeighbors(metric= \"cosine\",\n",
    "                            algorithm = \"brute\",\n",
    "                            n_jobs = -1)\n",
    "model_knn.fit(feature_list)"
   ]
  },
  {
   "cell_type": "code",
   "execution_count": null,
   "metadata": {},
   "outputs": [],
   "source": [
    "feature = np.array(feature_list[28])"
   ]
  },
  {
   "cell_type": "code",
   "execution_count": null,
   "metadata": {},
   "outputs": [],
   "source": [
    "a, b = model_knn.kneighbors(feature.reshape(1, -1), n_neighbors=6)"
   ]
  },
  {
   "cell_type": "code",
   "execution_count": null,
   "metadata": {},
   "outputs": [],
   "source": [
    "b"
   ]
  },
  {
   "cell_type": "code",
   "execution_count": null,
   "metadata": {},
   "outputs": [],
   "source": [
    "b = list(b[0])\n",
    "b"
   ]
  },
  {
   "cell_type": "code",
   "execution_count": null,
   "metadata": {},
   "outputs": [],
   "source": [
    "for result in b:\n",
    "    print(valid_path[result])"
   ]
  },
  {
   "cell_type": "code",
   "execution_count": null,
   "metadata": {},
   "outputs": [],
   "source": [
    "for path in valid_path: \n",
    "    print(path[0])"
   ]
  },
  {
   "cell_type": "code",
   "execution_count": null,
   "metadata": {},
   "outputs": [],
   "source": [
    "# define a target_image\n",
    "# get the index of the benchmark image\n",
    "\n",
    "for path in valid_path:\n",
    "    if (\"tree\" in path[0]) == True:\n",
    "        print(valid_path.index(path))\n"
   ]
  },
  {
   "cell_type": "markdown",
   "metadata": {},
   "source": [
    "## write a function, which takes in the name of the \"target image\" and return the list index"
   ]
  },
  {
   "cell_type": "code",
   "execution_count": 19,
   "metadata": {},
   "outputs": [],
   "source": [
    "def find_target_image(valid_path, target_image):\n",
    "    index = 0\n",
    "    for path in valid_path: \n",
    "        if (target_image in path[0])==True:\n",
    "            index = valid_path.index(path)\n",
    "        \n",
    "    return index\n",
    "    "
   ]
  },
  {
   "cell_type": "code",
   "execution_count": 22,
   "metadata": {},
   "outputs": [
    {
     "data": {
      "text/plain": [
       "30"
      ]
     },
     "execution_count": 22,
     "metadata": {},
     "output_type": "execute_result"
    }
   ],
   "source": [
    "find_target_image(valid_path, target_image = \"flower\")"
   ]
  },
  {
   "cell_type": "markdown",
   "metadata": {},
   "source": [
    "## find the neighbors"
   ]
  },
  {
   "cell_type": "code",
   "execution_count": 23,
   "metadata": {},
   "outputs": [],
   "source": [
    "def scale_feature(feature_list):\n",
    "    \n",
    "    scaler = StandardScaler()\n",
    "    scaled_fit = scaler.fit(feature_list)\n",
    "    scaled_feature_list = scaled_fit.transform(feature_list)\n",
    "    \n",
    "    return scaled_feature_list #2d array of scaled features. The order of the value is the same as valid_path and features (from the img_get_feature fucntion)"
   ]
  },
  {
   "cell_type": "code",
   "execution_count": 28,
   "metadata": {},
   "outputs": [
    {
     "data": {
      "text/plain": [
       "array([[ 1.51492936e-01,  1.20844752e+00,  3.14675164e-01,\n",
       "         1.58053463e+00, -1.30340946e+00, -4.16160215e-01,\n",
       "         4.74061100e-01,  5.30194132e-01],\n",
       "       [-4.89132663e-01, -6.66484745e-02,  3.22349973e-01,\n",
       "        -2.40061473e-01,  3.87312034e-01,  3.81075425e-01,\n",
       "         3.48765303e-01, -9.57553915e-03],\n",
       "       [ 2.07434126e-01,  2.29259114e-01, -2.02403094e+00,\n",
       "        -1.00384193e+00, -4.57750925e-01, -1.04382302e+00,\n",
       "        -1.05352561e+00, -9.13260924e-01],\n",
       "       [ 8.61907078e-01,  5.16721160e-01, -1.13181040e-01,\n",
       "         4.03795965e-01,  4.59610663e-01, -5.41342519e-01,\n",
       "        -6.52748269e-01, -7.50913987e-01],\n",
       "       [ 9.80744308e-01, -6.08505485e-02, -9.49569168e-01,\n",
       "        -5.14493766e-01,  9.99723644e-01, -8.45816581e-01,\n",
       "        -9.32254512e-01, -8.02933208e-01],\n",
       "       [-1.53019057e+00, -1.76598875e+00, -2.23938236e+00,\n",
       "        -1.52872983e+00, -8.69190835e-01, -1.07598850e+00,\n",
       "        -1.18230334e+00, -9.21158421e-01],\n",
       "       [-2.85727442e-01,  9.81363429e-01, -7.07966077e-01,\n",
       "         1.66376073e+00,  1.19499483e+00, -8.58150163e-01,\n",
       "        -8.62949598e-01, -8.55564863e-01],\n",
       "       [-1.16717293e+00, -1.74488863e+00, -2.54771699e-01,\n",
       "        -1.49598727e+00,  1.11985141e+00, -8.08829562e-01,\n",
       "        -9.07038278e-01, -6.57193984e-01],\n",
       "       [ 4.39824645e-01,  7.74943038e-01, -1.46692098e+00,\n",
       "        -2.67314630e-02, -4.08528139e-01, -8.90987215e-01,\n",
       "        -1.03482466e+00, -8.95797371e-01],\n",
       "       [ 3.37266317e-01, -8.20438665e-01,  1.05628966e+00,\n",
       "        -6.33644679e-01,  1.40809495e+00,  1.70269723e+00,\n",
       "         1.89172494e+00,  1.58138726e+00],\n",
       "       [-1.53019057e+00, -1.76598875e+00,  1.14100784e+00,\n",
       "        -1.52872983e+00,  2.36556663e+00,  2.37778262e+00,\n",
       "         2.37639834e+00,  2.49415846e+00],\n",
       "       [ 1.35101295e+00,  9.22586642e-02, -1.65998123e-01,\n",
       "        -3.63623597e-01,  2.43909029e-01, -9.95635646e-01,\n",
       "        -6.95603447e-01, -8.80168363e-01],\n",
       "       [ 2.08938720e-02,  7.37402800e-01,  2.30944309e-01,\n",
       "        -1.29619379e-02, -7.75828464e-01, -4.74834412e-01,\n",
       "         9.60630840e-02, -4.98678492e-01],\n",
       "       [-5.89156570e-01,  9.89726537e-01, -7.18427532e-01,\n",
       "         4.67537166e-01,  1.21076074e+00, -6.52137235e-01,\n",
       "        -1.03267757e+00, -8.93637797e-01],\n",
       "       [-7.34734593e-01, -1.72476642e+00, -1.14037826e+00,\n",
       "        -1.49083691e+00,  1.46589095e-01, -7.27517842e-01,\n",
       "        -8.19187906e-01, -5.75103760e-01],\n",
       "       [ 4.21418602e-02,  1.96257649e-01,  4.13757945e-01,\n",
       "         1.04134725e+00, -2.24341548e-01, -3.28086052e-01,\n",
       "        -3.26092632e-02, -1.78033471e-01],\n",
       "       [-1.85750295e-01,  2.87209280e-01, -1.84449069e+00,\n",
       "        -5.39431453e-01, -5.65552148e-01, -1.05250364e+00,\n",
       "        -1.12402183e+00, -9.27165482e-01],\n",
       "       [ 6.44931949e-01,  2.40997207e-01, -8.01957382e-02,\n",
       "         1.26932769e+00,  8.36065338e-01, -7.63778474e-01,\n",
       "        -9.98372581e-01, -8.03051468e-01],\n",
       "       [-1.08084160e-01, -2.12354704e-01, -9.43818251e-01,\n",
       "        -1.39262110e-01,  9.81903220e-01, -8.05330313e-01,\n",
       "        -7.58449716e-01, -7.24321959e-01],\n",
       "       [-9.05273390e-01,  7.81406909e-01,  2.03915231e-01,\n",
       "         1.69644108e+00, -6.74990864e-01, -1.86776718e-01,\n",
       "        -4.60191260e-01, -4.87386516e-01],\n",
       "       [-8.81765310e-01, -1.55533993e+00, -5.56629079e-01,\n",
       "        -6.76069487e-01,  1.73400011e-01, -7.13644704e-01,\n",
       "        -8.10968882e-01, -5.65457490e-01],\n",
       "       [-1.53019057e+00, -1.76598875e+00, -3.76461372e-01,\n",
       "        -1.52872983e+00,  1.51822460e+00, -3.55777582e-03,\n",
       "        -7.72906215e-02,  1.39331872e-01],\n",
       "       [-5.34103830e-01,  4.02660260e-01,  4.68533523e-01,\n",
       "         2.99991747e-01, -2.14410436e-01,  6.55842682e-01,\n",
       "         5.23366801e-01, -3.20705869e-01],\n",
       "       [ 1.38739779e-01, -1.55603982e+00,  1.22025653e+00,\n",
       "        -1.32176698e+00,  1.82531470e+00,  2.35115683e+00,\n",
       "         2.34896416e+00,  2.46822180e+00],\n",
       "       [ 1.72323197e-01,  2.45212705e-01,  1.23356230e+00,\n",
       "         6.71649793e-01,  4.52728601e-01,  2.12136985e+00,\n",
       "         1.32360441e+00,  9.87725703e-01],\n",
       "       [-3.18238485e-01, -9.59080388e-02, -6.30098862e-02,\n",
       "        -3.04105157e-01, -6.65993241e-01,  2.57222292e-01,\n",
       "         2.45893045e-01, -7.87475816e-02],\n",
       "       [ 3.91523032e-02, -1.18691220e+00,  4.41495218e-01,\n",
       "        -9.64961440e-01, -8.61582179e-01,  1.35351253e+00,\n",
       "         1.25063378e+00,  1.16679082e+00],\n",
       "       [ 1.26236011e-01,  1.33754391e+00,  7.46436824e-01,\n",
       "         1.80844607e+00, -1.14063896e+00, -3.74301711e-01,\n",
       "         8.49324624e-01,  5.65325633e-01],\n",
       "       [ 1.13024086e+00,  4.37402558e-01,  1.50703419e+00,\n",
       "         4.01417249e-01, -9.54087304e-01,  6.38476618e-01,\n",
       "         1.40542964e+00,  1.93090891e+00],\n",
       "       [-8.22716103e-01,  1.28153501e+00,  5.26132655e-01,\n",
       "         1.90379865e+00, -1.12425131e+00, -1.48373506e-01,\n",
       "        -8.01363098e-02, -6.25729228e-01],\n",
       "       [ 4.19658384e-01, -4.11381810e-01,  1.69831849e+00,\n",
       "        -1.99746202e-02, -2.73789981e-01,  1.59408901e+00,\n",
       "         7.59986142e-01,  8.00062921e-01],\n",
       "       [ 1.49883859e+00, -9.50271161e-02,  1.66615673e+00,\n",
       "         2.26413864e-01, -1.10191700e+00, -2.55383983e-02,\n",
       "         1.04800866e+00,  1.38578078e+00],\n",
       "       [-5.33009634e-01,  8.30961639e-01, -1.08759809e+00,\n",
       "        -6.09444481e-01, -1.99679316e-01, -1.77604263e-01,\n",
       "        -1.81944658e-01, -7.08339495e-01],\n",
       "       [-8.65265075e-01,  1.74400413e-02,  8.99409361e-01,\n",
       "        -3.58818555e-03, -1.45231074e-01,  1.06375751e+00,\n",
       "         3.44466208e-01, -1.03713252e-02],\n",
       "       [ 9.77870094e-01,  1.21327400e+00,  5.12441644e-01,\n",
       "         7.72657284e-01, -1.21493456e+00, -8.50510015e-01,\n",
       "        -2.52347197e-03,  1.25171537e+00],\n",
       "       [ 3.80883097e+00,  1.61959596e+00, -3.32899275e-01,\n",
       "         2.88415250e-01, -2.12231456e+00,  3.92980018e-01,\n",
       "        -1.00085140e+00, -6.23828825e-01],\n",
       "       [-3.38838061e-01,  4.06903236e-01,  4.63010982e-01,\n",
       "         4.51441991e-01, -2.56271824e-02, -1.28734130e-01,\n",
       "        -5.86217057e-01, -5.94478238e-01]])"
      ]
     },
     "execution_count": 28,
     "metadata": {},
     "output_type": "execute_result"
    }
   ],
   "source": [
    "scaled_feature_list = scale_feature(feature_list)\n",
    "scaled_feature_list"
   ]
  },
  {
   "cell_type": "code",
   "execution_count": 29,
   "metadata": {},
   "outputs": [],
   "source": [
    "def find_neighbors (valid_path, features, scaled_feature_list, number_of_neighbors, target_index):\n",
    "    \n",
    "    model_knn = NearestNeighbors(metric= \"cosine\",\n",
    "                                 algorithm = \"brute\",\n",
    "                                 n_jobs = -1)\n",
    "    model_knn.fit(scaled_feature_list)\n",
    "    target = np.array(scaled_feature_list[target_index])\n",
    "    score, neighbor_index = model_knn.kneighbors(target.reshape(1, -1), n_neighbors=number_of_neighbors)\n",
    "    neighbor_index = list(neighbor_index[0])\n",
    "    \n",
    "    list_of_neighbors = []\n",
    "    for neighbor in neighbor_index:\n",
    "        list_of_neighbors.append(valid_path[neighbor])\n",
    "        \n",
    "    return list_of_neighbors"
   ]
  },
  {
   "cell_type": "code",
   "execution_count": 30,
   "metadata": {},
   "outputs": [],
   "source": [
    "list_of_neighbors = find_neighbors(valid_path, features, scaled_feature_list, 6, 28)"
   ]
  },
  {
   "cell_type": "code",
   "execution_count": 31,
   "metadata": {},
   "outputs": [
    {
     "data": {
      "text/plain": [
       "[['../00_data/00_test_pic_full/tree.jpg'],\n",
       " ['../00_data/00_test_pic_full/bright.jpg'],\n",
       " ['../00_data/00_test_pic_full/flower.jpg'],\n",
       " ['../00_data/00_test_pic_full/airplane.jpg'],\n",
       " ['../00_data/00_test_pic_full/horse_2.jpg'],\n",
       " ['../00_data/00_test_pic_full/image_00614.jpg']]"
      ]
     },
     "execution_count": 31,
     "metadata": {},
     "output_type": "execute_result"
    }
   ],
   "source": [
    "list_of_neighbors"
   ]
  },
  {
   "cell_type": "markdown",
   "metadata": {},
   "source": [
    "## show results"
   ]
  },
  {
   "cell_type": "code",
   "execution_count": null,
   "metadata": {},
   "outputs": [],
   "source": [
    "from imutils import build_montages\n",
    "\n",
    "import matplotlib.pyplot as plt\n",
    "import matplotlib.image as mpimg\n",
    "\n",
    "import cv2"
   ]
  },
  {
   "cell_type": "code",
   "execution_count": null,
   "metadata": {},
   "outputs": [],
   "source": [
    "def img_resize_plot(img, height = 220, width = 220): # it takes a image (as array) and resize it. \n",
    "    \n",
    "    dim = (width, height)\n",
    "    list_resize = []\n",
    "    \n",
    "    img_res = cv2.resize(img, dim, interpolation = cv2.INTER_LINEAR)\n",
    "    \n",
    "    return img_res\n",
    "\n",
    "def show_result_in_plot_knn (list_of_neighbors):\n",
    "\n",
    "        images_plot = []\n",
    "        \n",
    "        for path in list_of_neighbors:\n",
    "            img = mpimg.imread(path[0])\n",
    "            img_res = img_resize_plot(img)\n",
    "            images_plot.append(img_res)\n",
    "\n",
    "            montages = build_montages(images_plot, (300,300), (6,3))\n",
    "    \n",
    "        for montage in montages:\n",
    "            plt.figure(figsize=(10,10))\n",
    "            imgplot = plt.imshow(montage)\n",
    "            plt.show() "
   ]
  },
  {
   "cell_type": "code",
   "execution_count": null,
   "metadata": {},
   "outputs": [],
   "source": [
    "show_result_in_plot_knn(list_of_neighbors)"
   ]
  },
  {
   "cell_type": "markdown",
   "metadata": {},
   "source": [
    "### --> wrap all functions into the \"image_neighbors\" module / also added the scaler to normalize all features. "
   ]
  },
  {
   "cell_type": "code",
   "execution_count": null,
   "metadata": {},
   "outputs": [],
   "source": []
  }
 ],
 "metadata": {
  "kernelspec": {
   "display_name": "Python 3",
   "language": "python",
   "name": "python3"
  },
  "language_info": {
   "codemirror_mode": {
    "name": "ipython",
    "version": 3
   },
   "file_extension": ".py",
   "mimetype": "text/x-python",
   "name": "python",
   "nbconvert_exporter": "python",
   "pygments_lexer": "ipython3",
   "version": "3.7.7"
  }
 },
 "nbformat": 4,
 "nbformat_minor": 4
}
