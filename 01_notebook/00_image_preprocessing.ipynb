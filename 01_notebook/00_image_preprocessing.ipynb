{
 "cells": [
  {
   "cell_type": "markdown",
   "metadata": {},
   "source": [
    "# 0. Image preprocessing\n",
    "\n",
    "- write a function, which prepared the image for the model\n",
    "- a) Convert image to JPEG\n",
    "- b) Conver image to np.array\n",
    "- c) Resize the image to 32 x 32 // change data type to \"float\" and /255.0 to get the correct color codes \n",
    "\n",
    "Sources: https://towardsdatascience.com/image-pre-processing-c1aec0be3edf"
   ]
  },
  {
   "cell_type": "markdown",
   "metadata": {},
   "source": [
    "## First, test the procedure with one picture"
   ]
  },
  {
   "cell_type": "code",
   "execution_count": 13,
   "metadata": {},
   "outputs": [],
   "source": [
    "import cv2"
   ]
  },
  {
   "cell_type": "code",
   "execution_count": 14,
   "metadata": {},
   "outputs": [],
   "source": [
    "import numpy as np\n",
    "import matplotlib.pyplot as plt"
   ]
  },
  {
   "cell_type": "code",
   "execution_count": 15,
   "metadata": {},
   "outputs": [],
   "source": [
    "img = cv2.imread(\"/Users/Tianwang/IRONHACK/GIT/06_color_mix_match/01_notebook/tree.jpg\")"
   ]
  },
  {
   "cell_type": "code",
   "execution_count": 16,
   "metadata": {},
   "outputs": [],
   "source": [
    "gray = cv2.cvtColor(img,cv2.COLOR_BGR2GRAY) "
   ]
  },
  {
   "cell_type": "code",
   "execution_count": 17,
   "metadata": {},
   "outputs": [],
   "source": [
    "gray = np.float32(gray)"
   ]
  },
  {
   "cell_type": "code",
   "execution_count": 18,
   "metadata": {},
   "outputs": [],
   "source": [
    "harris = cv2.cornerHarris(gray, 2, 3, 0.04)"
   ]
  },
  {
   "cell_type": "code",
   "execution_count": 19,
   "metadata": {},
   "outputs": [
    {
     "data": {
      "text/plain": [
       "array([[ 6.1050785e-01,  6.1050785e-01,  2.9101562e-01, ...,\n",
       "         5.3125001e-03,  5.3125001e-03,  9.2187505e-03],\n",
       "       [ 6.1050785e-01,  6.1050785e-01,  2.9101562e-01, ...,\n",
       "         5.3125001e-03,  5.3125001e-03,  9.2187505e-03],\n",
       "       [ 3.4515625e-01,  3.4515625e-01, -9.1796875e-02, ...,\n",
       "        -1.4687499e-02,  5.8437500e-02,  4.9257815e-02],\n",
       "       ...,\n",
       "       [-2.6826733e+02, -2.6826733e+02, -1.6914907e+03, ...,\n",
       "        -7.0871875e+02,  3.0062086e+04,  2.7566965e+04],\n",
       "       [ 3.5556194e+03,  3.5556194e+03, -2.0047126e+03, ...,\n",
       "        -1.3301258e+04,  6.2908594e+03,  3.4259305e+04],\n",
       "       [ 4.4001152e+03,  4.4001152e+03, -1.7330781e+03, ...,\n",
       "        -3.5968539e+04, -6.3690734e+04, -1.1851445e+03]], dtype=float32)"
      ]
     },
     "execution_count": 19,
     "metadata": {},
     "output_type": "execute_result"
    }
   ],
   "source": [
    "harris"
   ]
  },
  {
   "cell_type": "code",
   "execution_count": 20,
   "metadata": {},
   "outputs": [],
   "source": [
    "img[harris>0.01*harris.max()] = [255, 0, 0]"
   ]
  },
  {
   "cell_type": "code",
   "execution_count": null,
   "metadata": {},
   "outputs": [],
   "source": []
  }
 ],
 "metadata": {
  "kernelspec": {
   "display_name": "Python 3",
   "language": "python",
   "name": "python3"
  },
  "language_info": {
   "codemirror_mode": {
    "name": "ipython",
    "version": 3
   },
   "file_extension": ".py",
   "mimetype": "text/x-python",
   "name": "python",
   "nbconvert_exporter": "python",
   "pygments_lexer": "ipython3",
   "version": "3.7.7"
  }
 },
 "nbformat": 4,
 "nbformat_minor": 4
}
