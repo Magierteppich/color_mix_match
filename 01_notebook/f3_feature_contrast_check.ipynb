{
 "cells": [
  {
   "cell_type": "markdown",
   "metadata": {},
   "source": [
    "# 06. Image_contrast"
   ]
  },
  {
   "cell_type": "markdown",
   "metadata": {},
   "source": [
    "About image_contrast:\n",
    "\n",
    "1) Weber contrast\n",
    "2) Michelson contrast\n",
    "3) RMS constrast \n",
    "\n",
    "1) & 2) depent on the angular frequency content or the spatial distribution of constrast in the image. \n",
    "\n",
    "3) RMS constrast is defined as the standard deviation of the pixel intensities. As it is independet from the image content, we will use RMS contrast for further calculation. \n",
    "\n",
    "$$\\sqrt{\\frac{1}{M N}\\sum_{i=0}^{N-1}\\sum_{j=0}^{M - 1}(I_{ij} - \\bar{I})^2}$$\n",
    "\n",
    "$I_{ij}$ are the i-th and j-th element of the 2-dimesional image of size M by N. $\\bar{I}$ is the average intensity of all pixel values in the image. The image I is assumed to have its pixel intensities normalized in the range [0, 1]."
   ]
  },
  {
   "cell_type": "code",
   "execution_count": 1,
   "metadata": {},
   "outputs": [],
   "source": [
    "import cv2\n",
    "import numpy as np\n",
    "from os.path import isfile, join\n",
    "from os import listdir"
   ]
  },
  {
   "cell_type": "code",
   "execution_count": 4,
   "metadata": {},
   "outputs": [],
   "source": [
    "img = cv2.imread(\"../00_data/00_test_pic/frog_2.jpg\")"
   ]
  },
  {
   "cell_type": "code",
   "execution_count": 5,
   "metadata": {},
   "outputs": [],
   "source": [
    "img = cv2.cvtColor(img, cv2.COLOR_BGR2GRAY)"
   ]
  },
  {
   "cell_type": "code",
   "execution_count": 8,
   "metadata": {},
   "outputs": [
    {
     "data": {
      "text/plain": [
       "array([[0.29019608, 0.29019608, 0.29019608, ..., 0.16470588, 0.16078431,\n",
       "        0.50588235],\n",
       "       [0.29019608, 0.29019608, 0.29019608, ..., 0.16470588, 0.15686275,\n",
       "        0.50588235],\n",
       "       [0.29019608, 0.29019608, 0.29019608, ..., 0.16470588, 0.15686275,\n",
       "        0.50588235],\n",
       "       ...,\n",
       "       [0.30196078, 0.30196078, 0.30588235, ..., 0.37254902, 0.38039216,\n",
       "        0.63137255],\n",
       "       [0.29803922, 0.29803922, 0.29803922, ..., 0.38431373, 0.38823529,\n",
       "        0.63137255],\n",
       "       [0.29803922, 0.29803922, 0.29803922, ..., 0.38431373, 0.38823529,\n",
       "        0.63137255]])"
      ]
     },
     "execution_count": 8,
     "metadata": {},
     "output_type": "execute_result"
    }
   ],
   "source": [
    "img_test = img/255\n",
    "img_test"
   ]
  },
  {
   "cell_type": "code",
   "execution_count": 11,
   "metadata": {},
   "outputs": [
    {
     "data": {
      "text/plain": [
       "0.15388433331164753"
      ]
     },
     "execution_count": 11,
     "metadata": {},
     "output_type": "execute_result"
    }
   ],
   "source": [
    "contrast = img_test.std()\n",
    "contrast"
   ]
  },
  {
   "cell_type": "code",
   "execution_count": 12,
   "metadata": {},
   "outputs": [
    {
     "data": {
      "text/plain": [
       "39.24050499447012"
      ]
     },
     "execution_count": 12,
     "metadata": {},
     "output_type": "execute_result"
    }
   ],
   "source": [
    "test = np.std(img)\n",
    "test"
   ]
  },
  {
   "cell_type": "code",
   "execution_count": 13,
   "metadata": {},
   "outputs": [
    {
     "data": {
      "text/plain": [
       "(410, 618)"
      ]
     },
     "execution_count": 13,
     "metadata": {},
     "output_type": "execute_result"
    }
   ],
   "source": [
    "img.shape"
   ]
  },
  {
   "cell_type": "code",
   "execution_count": 14,
   "metadata": {},
   "outputs": [
    {
     "data": {
      "text/plain": [
       "array([[ 74,  74,  74, ...,  42,  41, 129],\n",
       "       [ 74,  74,  74, ...,  42,  40, 129],\n",
       "       [ 74,  74,  74, ...,  42,  40, 129],\n",
       "       ...,\n",
       "       [ 77,  77,  78, ...,  95,  97, 161],\n",
       "       [ 76,  76,  76, ...,  98,  99, 161],\n",
       "       [ 76,  76,  76, ...,  98,  99, 161]], dtype=uint8)"
      ]
     },
     "execution_count": 14,
     "metadata": {},
     "output_type": "execute_result"
    }
   ],
   "source": [
    "img"
   ]
  },
  {
   "cell_type": "code",
   "execution_count": 15,
   "metadata": {},
   "outputs": [],
   "source": [
    "def image_contrast (path_to_library):\n",
    "    \n",
    "    result_contrast = []\n",
    "    \n",
    "    file_list = [f for f in listdir(path_to_library) if isfile(join(path_to_library, f))] \n",
    "    \n",
    "    for file_path in file_list: \n",
    "        image = cv2.imread(path_to_library + \"/\" + file_path) # CV2 reads the array in BGR! \n",
    "        \n",
    "        if image is None: \n",
    "            print(f\"The image {file_path} is not readable.\")\n",
    "            \n",
    "        else:\n",
    "            image = cv2.cvtColor(image, cv2.COLOR_BGR2GRAY)\n",
    "            contrast = image.std()\n",
    "            \n",
    "            temp_result = list([file_path]) + list([contrast])\n",
    "            result_contrast.append(temp_result)\n",
    "    \n",
    "    return result_contrast"
   ]
  },
  {
   "cell_type": "code",
   "execution_count": 16,
   "metadata": {},
   "outputs": [
    {
     "name": "stdout",
     "output_type": "stream",
     "text": [
      "The image .DS_Store is not readable.\n"
     ]
    },
    {
     "data": {
      "text/plain": [
       "[['boris-smokrovic-DPXytK8Z59Y-unsplash.jpg', 41.13432864843837],\n",
       " ['frog_2.jpg', 39.24050499447012],\n",
       " ['test.jpg', 90.14036818817436],\n",
       " ['red.jpg', 22.762431644611794]]"
      ]
     },
     "execution_count": 16,
     "metadata": {},
     "output_type": "execute_result"
    }
   ],
   "source": [
    "image_contrast(\"../00_data/00_test_pic/\")"
   ]
  },
  {
   "cell_type": "code",
   "execution_count": 17,
   "metadata": {},
   "outputs": [],
   "source": []
  },
  {
   "cell_type": "code",
   "execution_count": null,
   "metadata": {},
   "outputs": [],
   "source": []
  }
 ],
 "metadata": {
  "kernelspec": {
   "display_name": "Python 3",
   "language": "python",
   "name": "python3"
  },
  "language_info": {
   "codemirror_mode": {
    "name": "ipython",
    "version": 3
   },
   "file_extension": ".py",
   "mimetype": "text/x-python",
   "name": "python",
   "nbconvert_exporter": "python",
   "pygments_lexer": "ipython3",
   "version": "3.7.7"
  }
 },
 "nbformat": 4,
 "nbformat_minor": 4
}
