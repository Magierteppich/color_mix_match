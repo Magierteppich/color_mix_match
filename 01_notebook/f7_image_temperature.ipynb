{
 "cells": [
  {
   "cell_type": "markdown",
   "metadata": {},
   "source": [
    "# Convert RGB to temperature: \n"
   ]
  },
  {
   "cell_type": "code",
   "execution_count": 44,
   "metadata": {},
   "outputs": [],
   "source": [
    "# Color temperatures over 5000 K are called \"cool colors\" (bluish), while lower color temperatures (2700–3000 K) are called \"warm colors\" (yellowish). \n",
    "# \"Warm\" in this context is an analogy to radiated heat flux of traditional incandescent lighting rather than temperature. "
   ]
  },
  {
   "cell_type": "code",
   "execution_count": 1,
   "metadata": {},
   "outputs": [],
   "source": [
    "import numpy as np\n",
    "import cv2\n",
    "import image_preprocessing as ip"
   ]
  },
  {
   "cell_type": "code",
   "execution_count": 2,
   "metadata": {},
   "outputs": [
    {
     "name": "stdout",
     "output_type": "stream",
     "text": [
      "File ../00_data/00_test_pic_full//.DS_Store is not readable.\n"
     ]
    }
   ],
   "source": [
    "img_ready = ip.img_ready(\"../00_data/00_test_pic_full/\")"
   ]
  },
  {
   "cell_type": "code",
   "execution_count": 3,
   "metadata": {},
   "outputs": [
    {
     "data": {
      "text/plain": [
       "37"
      ]
     },
     "execution_count": 3,
     "metadata": {},
     "output_type": "execute_result"
    }
   ],
   "source": [
    "len(img_ready)"
   ]
  },
  {
   "cell_type": "code",
   "execution_count": 4,
   "metadata": {},
   "outputs": [],
   "source": [
    "for img in img_ready: \n",
    "        \n",
    "        (B, G, R) = cv2.split(img.astype(\"float\"))"
   ]
  },
  {
   "cell_type": "code",
   "execution_count": 26,
   "metadata": {},
   "outputs": [
    {
     "data": {
      "text/plain": [
       "array([[ 190.,  190.,  189., ...,  103.,  102.,  101.],\n",
       "       [ 191.,  190.,  189., ...,  104.,  103.,  102.],\n",
       "       [ 192.,  192.,  190., ...,  105.,  104.,  104.],\n",
       "       ..., \n",
       "       [  15.,   15.,   15., ...,    7.,    8.,   10.],\n",
       "       [  12.,   12.,   11., ...,    7.,    9.,   11.],\n",
       "       [  10.,   10.,    9., ...,    6.,    9.,   12.]])"
      ]
     },
     "execution_count": 26,
     "metadata": {},
     "output_type": "execute_result"
    }
   ],
   "source": [
    "B"
   ]
  },
  {
   "cell_type": "code",
   "execution_count": 31,
   "metadata": {},
   "outputs": [
    {
     "data": {
      "text/plain": [
       "2.0"
      ]
     },
     "execution_count": 31,
     "metadata": {},
     "output_type": "execute_result"
    }
   ],
   "source": [
    "x = np.array([[1,2,3],[1,2,3],[1,2,3]])\n",
    "np.average(x)"
   ]
  },
  {
   "cell_type": "code",
   "execution_count": 33,
   "metadata": {},
   "outputs": [
    {
     "data": {
      "text/plain": [
       "[80.243264462809918, 110.20316115702479, 136.40535123966941]"
      ]
     },
     "execution_count": 33,
     "metadata": {},
     "output_type": "execute_result"
    }
   ],
   "source": [
    "test = [np.average(B), np.average(G), np.average(R)]\n",
    "test\n",
    "\n",
    "# average BGR value of 1 image in the image_ready list."
   ]
  },
  {
   "cell_type": "markdown",
   "metadata": {},
   "source": [
    "## using colour to convert RGB to calvin "
   ]
  },
  {
   "cell_type": "code",
   "execution_count": 7,
   "metadata": {},
   "outputs": [],
   "source": [
    "import colour"
   ]
  },
  {
   "cell_type": "code",
   "execution_count": 58,
   "metadata": {},
   "outputs": [],
   "source": [
    "test2 = [47.945971074380168, 89.349442148760332, 136.00512396694214]"
   ]
  },
  {
   "cell_type": "code",
   "execution_count": 59,
   "metadata": {},
   "outputs": [
    {
     "name": "stdout",
     "output_type": "stream",
     "text": [
      "5.21306298149e+31\n"
     ]
    }
   ],
   "source": [
    "# Test\n",
    "#Assuming sRGB encoded colour values.\n",
    "RGB = np.array(test2)\n",
    "\n",
    "# Conversion to tristimulus values.\n",
    "XYZ = colour.sRGB_to_XYZ(RGB / 255)\n",
    "\n",
    "# Conversion to chromaticity coordinates.\n",
    "xy = colour.XYZ_to_xy(XYZ)\n",
    "\n",
    "# Conversion to correlated colour temperature in K.\n",
    "CCT = colour.xy_to_CCT(xy, 'hernandez1999')\n",
    "print(CCT)"
   ]
  },
  {
   "cell_type": "code",
   "execution_count": 38,
   "metadata": {},
   "outputs": [],
   "source": [
    "# write a function to calculate the average RGB value of each R, G, B and for each image\n",
    "\n",
    "def average_RGB(img_ready):\n",
    "    \n",
    "    average_RGB = []\n",
    "    for img in img_ready: \n",
    "        (B, G, R) = cv2.split(img.astype(\"float\"))    \n",
    "        temp = [np.average(R), np.average(G), np.average(B)]\n",
    "        average_RGB.append(temp)\n",
    "        \n",
    "    return average_RGB"
   ]
  },
  {
   "cell_type": "code",
   "execution_count": 39,
   "metadata": {},
   "outputs": [
    {
     "data": {
      "text/plain": [
       "[[105.6375, 88.437024793388431, 55.657376033057851],\n",
       " [134.87787190082645, 129.75229338842976, 89.604690082644623],\n",
       " [31.190909090909091, 37.391797520661157, 27.362747933884297],\n",
       " [118.39989669421487, 87.960929752066122, 74.741404958677691],\n",
       " [80.80204545454545, 67.365826446280991, 73.15345041322314],\n",
       " [28.908780991735537, 28.908780991735537, 28.908780991735537],\n",
       " [82.925247933884293, 89.405702479338842, 24.406859504132232],\n",
       " [114.94012396694215, 114.92157024793389, 114.26654958677686],\n",
       " [57.750144628099171, 41.555619834710747, 32.814421487603305],\n",
       " [157.30278925619834, 165.0049173553719, 144.15892561983472],\n",
       " [175.44735537190081, 175.44735537190081, 175.44735537190081],\n",
       " [93.600123966942149, 96.974834710743806, 95.648491735537192],\n",
       " [83.002355371900833, 133.5497520661157, 55.485103305785124],\n",
       " [88.253925619834718, 68.861115702479339, 53.464111570247937],\n",
       " [75.876466942148767, 76.550247933884293, 76.048181818181817],\n",
       " [127.88710743801653, 114.74814049586777, 77.444958677685946],\n",
       " [36.28768595041322, 39.529235537190083, 23.098326446280993],\n",
       " [114.49768595041323, 74.790950413223143, 68.772747933884304],\n",
       " [76.894070247933882, 83.603326446280988, 55.545330578512399],\n",
       " [130.61419421487602, 85.820103305785125, 37.424070247933884],\n",
       " [99.214917355371895, 97.208243801652898, 93.873367768595045],\n",
       " [109.66568181818182, 109.66568181818182, 109.66568181818182],\n",
       " [139.60708677685952, 128.33175619834711, 73.269318181818178],\n",
       " [176.31171487603305, 176.6439256198347, 178.5120041322314],\n",
       " [174.14619834710743, 119.05838842975207, 102.28830578512397],\n",
       " [112.76254132231405, 114.96475206611571, 79.290909090909096],\n",
       " [139.82064049586776, 140.34605371900827, 127.80669421487603],\n",
       " [105.3305785123967, 126.76969008264463, 63.493119834710747],\n",
       " [103.8148347107438, 159.83568181818183, 177.73367768595043],\n",
       " [141.08002066115702, 80.325661157024797, 34.001983471074382],\n",
       " [182.49012396694215, 155.83078512396693, 157.59911157024794],\n",
       " [121.74723140495868, 183.86547520661156, 198.10797520661157],\n",
       " [74.098512396694218, 76.949318181818185, 37.82623966942149],\n",
       " [164.56231404958677, 132.90068181818182, 99.788119834710741],\n",
       " [47.945971074380168, 89.349442148760332, 136.00512396694214],\n",
       " [111.55407024793388, 19.433739669421488, 29.705909090909092],\n",
       " [136.40535123966941, 110.20316115702479, 80.243264462809918]]"
      ]
     },
     "execution_count": 39,
     "metadata": {},
     "output_type": "execute_result"
    }
   ],
   "source": [
    "average_RGB = average_RGB(img_ready)\n",
    "average_RGB"
   ]
  },
  {
   "cell_type": "code",
   "execution_count": 56,
   "metadata": {},
   "outputs": [
    {
     "data": {
      "text/plain": [
       "[47.945971074380168, 89.349442148760332, 136.00512396694214]"
      ]
     },
     "execution_count": 56,
     "metadata": {},
     "output_type": "execute_result"
    }
   ],
   "source": [
    "average_RGB[34]"
   ]
  },
  {
   "cell_type": "code",
   "execution_count": 73,
   "metadata": {},
   "outputs": [],
   "source": [
    "# write a function to convert RGB to kelvin\n",
    "\n",
    "def convert_RGB_to_kelvin (average_RGB):\n",
    "    \n",
    "    img_kelvin = []\n",
    "    \n",
    "    for image in average_RGB: \n",
    "        \n",
    "        #Assuming sRGB encoded colour values.\n",
    "        RGB = np.array(image)\n",
    "\n",
    "        # Conversion to tristimulus values.\n",
    "        XYZ = colour.sRGB_to_XYZ(RGB / 255)\n",
    "\n",
    "        # Conversion to chromaticity coordinates.\n",
    "        xy = colour.XYZ_to_xy(XYZ)\n",
    "\n",
    "        # Conversion to correlated colour temperature in K.\n",
    "        CCT = colour.xy_to_CCT(xy, 'hernandez1999')\n",
    "        \n",
    "        img_kelvin.append(CCT)\n",
    "    \n",
    "    return [img_kelvin]\n",
    "    "
   ]
  },
  {
   "cell_type": "code",
   "execution_count": 74,
   "metadata": {},
   "outputs": [
    {
     "data": {
      "text/plain": [
       "[[3817.6381579750705,\n",
       "  4555.7261309532714,\n",
       "  5812.2301644895924,\n",
       "  3726.0424516952139,\n",
       "  5713.0467938817019,\n",
       "  6499.8782057809203,\n",
       "  4223.9596704320866,\n",
       "  6446.47520284863,\n",
       "  3676.3586611697469,\n",
       "  5832.736203042643,\n",
       "  6499.8782057809194,\n",
       "  6644.9090793992063,\n",
       "  5453.2908663354019,\n",
       "  3869.4066797452679,\n",
       "  6508.5977747178185,\n",
       "  4197.683820735745,\n",
       "  4940.4704208707617,\n",
       "  3202.2625997214568,\n",
       "  5057.7838445984999,\n",
       "  2561.442467786218,\n",
       "  6060.5995988457089,\n",
       "  6499.8782057809203,\n",
       "  4054.3713321683117,\n",
       "  6619.731998339952,\n",
       "  3200.2047684865047,\n",
       "  4833.8666369986013,\n",
       "  5809.4380191708287,\n",
       "  4911.019851704229,\n",
       "  12769.424140282354,\n",
       "  2028.2712249947097,\n",
       "  5283.2023935459501,\n",
       "  11493.198657061132,\n",
       "  4436.9739169715594,\n",
       "  3841.9992054982358,\n",
       "  5.2130629814851674e+31,\n",
       "  174.84384918757485,\n",
       "  3819.8828239463892]]"
      ]
     },
     "execution_count": 74,
     "metadata": {},
     "output_type": "execute_result"
    }
   ],
   "source": [
    "img_kelvin = convert_RGB_to_kelvin(average_RGB)\n",
    "img_kelvin"
   ]
  },
  {
   "cell_type": "code",
   "execution_count": 66,
   "metadata": {},
   "outputs": [
    {
     "data": {
      "text/plain": [
       "7"
      ]
     },
     "execution_count": 66,
     "metadata": {},
     "output_type": "execute_result"
    }
   ],
   "source": [
    "img_kelvin.index(6446.47520284863)"
   ]
  },
  {
   "cell_type": "code",
   "execution_count": 52,
   "metadata": {},
   "outputs": [],
   "source": [
    "file_list = ip.get_file_path(\"../00_data/00_test_pic_full/\")"
   ]
  },
  {
   "cell_type": "code",
   "execution_count": 53,
   "metadata": {},
   "outputs": [
    {
     "name": "stdout",
     "output_type": "stream",
     "text": [
      "File ../00_data/00_test_pic_full//.DS_Store is not readable.\n"
     ]
    }
   ],
   "source": [
    "img_list, valid_path = ip.img_read(file_list)"
   ]
  },
  {
   "cell_type": "code",
   "execution_count": 72,
   "metadata": {},
   "outputs": [
    {
     "data": {
      "text/plain": [
       "[['../00_data/00_test_pic_full//image_00730.jpg'],\n",
       " ['../00_data/00_test_pic_full//horse.jpg'],\n",
       " ['../00_data/00_test_pic_full//image_00335.jpg'],\n",
       " ['../00_data/00_test_pic_full//image_00533.jpg'],\n",
       " ['../00_data/00_test_pic_full//image_00055.jpg'],\n",
       " ['../00_data/00_test_pic_full//Dark-stairs-staircase.jpg'],\n",
       " ['../00_data/00_test_pic_full//image_00723.jpg'],\n",
       " ['../00_data/00_test_pic_full//bnw.jpg'],\n",
       " ['../00_data/00_test_pic_full//image_00331.jpg'],\n",
       " ['../00_data/00_test_pic_full//Tian Wang Fotografie.jpg'],\n",
       " ['../00_data/00_test_pic_full//bnw Kopie.jpg'],\n",
       " ['../00_data/00_test_pic_full//image_00009.jpg'],\n",
       " ['../00_data/00_test_pic_full//frog_2.jpg'],\n",
       " ['../00_data/00_test_pic_full//maxresdefault.jpg'],\n",
       " ['../00_data/00_test_pic_full//bnw_1.jpg'],\n",
       " ['../00_data/00_test_pic_full//image_01274.jpg'],\n",
       " ['../00_data/00_test_pic_full//F&F-1 2.jpg'],\n",
       " ['../00_data/00_test_pic_full//image_00379.jpg'],\n",
       " ['../00_data/00_test_pic_full//image_00838.jpg'],\n",
       " ['../00_data/00_test_pic_full//image_00969.jpg'],\n",
       " ['../00_data/00_test_pic_full//bnw3.jpg'],\n",
       " ['../00_data/00_test_pic_full//bnw2.jpg'],\n",
       " ['../00_data/00_test_pic_full//target_01.jpg'],\n",
       " ['../00_data/00_test_pic_full//test.jpg'],\n",
       " ['../00_data/00_test_pic_full//airplane.jpg'],\n",
       " ['../00_data/00_test_pic_full//frog.jpg'],\n",
       " ['../00_data/00_test_pic_full//0255 2.jpg'],\n",
       " ['../00_data/00_test_pic_full//image_00614.jpg'],\n",
       " ['../00_data/00_test_pic_full//tree.jpg'],\n",
       " ['../00_data/00_test_pic_full//image_01125.jpg'],\n",
       " ['../00_data/00_test_pic_full//flower.jpg'],\n",
       " ['../00_data/00_test_pic_full//bright.jpg'],\n",
       " ['../00_data/00_test_pic_full//image_01418.jpg'],\n",
       " ['../00_data/00_test_pic_full//corner.jpg'],\n",
       " ['../00_data/00_test_pic_full//horse_2.jpg'],\n",
       " ['../00_data/00_test_pic_full//red.jpg'],\n",
       " ['../00_data/00_test_pic_full//istockphoto-187066094-612x612.jpg']]"
      ]
     },
     "execution_count": 72,
     "metadata": {},
     "output_type": "execute_result"
    }
   ],
   "source": [
    "valid_path"
   ]
  },
  {
   "cell_type": "code",
   "execution_count": 67,
   "metadata": {},
   "outputs": [
    {
     "data": {
      "text/plain": [
       "['../00_data/00_test_pic_full//bnw.jpg']"
      ]
     },
     "execution_count": 67,
     "metadata": {},
     "output_type": "execute_result"
    }
   ],
   "source": [
    "valid_path[7]"
   ]
  },
  {
   "cell_type": "code",
   "execution_count": 61,
   "metadata": {},
   "outputs": [
    {
     "data": {
      "text/plain": [
       "35"
      ]
     },
     "execution_count": 61,
     "metadata": {},
     "output_type": "execute_result"
    }
   ],
   "source": [
    "img_kelvin.index(174.84384918757485)"
   ]
  },
  {
   "cell_type": "code",
   "execution_count": 62,
   "metadata": {},
   "outputs": [
    {
     "data": {
      "text/plain": [
       "['../00_data/00_test_pic_full//red.jpg']"
      ]
     },
     "execution_count": 62,
     "metadata": {},
     "output_type": "execute_result"
    }
   ],
   "source": [
    "valid_path[35]"
   ]
  },
  {
   "cell_type": "code",
   "execution_count": null,
   "metadata": {},
   "outputs": [],
   "source": []
  }
 ],
 "metadata": {
  "kernelspec": {
   "display_name": "Python 3",
   "language": "python",
   "name": "python3"
  },
  "language_info": {
   "codemirror_mode": {
    "name": "ipython",
    "version": 3
   },
   "file_extension": ".py",
   "mimetype": "text/x-python",
   "name": "python",
   "nbconvert_exporter": "python",
   "pygments_lexer": "ipython3",
   "version": "3.7.7"
  }
 },
 "nbformat": 4,
 "nbformat_minor": 4
}
