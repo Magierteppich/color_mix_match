{
 "cells": [
  {
   "cell_type": "code",
   "execution_count": 137,
   "metadata": {},
   "outputs": [],
   "source": [
    "#attention: written in the old mix_match_environment \n",
    "#need update\n",
    "\n",
    "import matplotlib\n",
    "import PIL\n",
    "from PIL import Image\n",
    "import scipy \n",
    "from matplotlib import image as img\n",
    "from matplotlib import pyplot as plt\n",
    "from mpl_toolkits.mplot3d import Axes3D\n",
    "import pandas as pd\n",
    "from sklearn.cluster import KMeans\n",
    "from sklearn.preprocessing import StandardScaler\n",
    "import numpy as np\n",
    "import cv2"
   ]
  },
  {
   "cell_type": "code",
   "execution_count": 156,
   "metadata": {},
   "outputs": [],
   "source": [
    "# read the image first \n",
    "# image is a 3D arrage (M x N x 3) - M and N are the dimensions of the image \n",
    "\n",
    "# img = Image.open(\"../00_data/00_test_pic/frog_2.jpg\")\n",
    "img = cv2.imread(\"../00_data/00_test_pic/frog_2.jpg\")"
   ]
  },
  {
   "cell_type": "code",
   "execution_count": 157,
   "metadata": {},
   "outputs": [
    {
     "data": {
      "text/plain": [
       "numpy.ndarray"
      ]
     },
     "execution_count": 157,
     "metadata": {},
     "output_type": "execute_result"
    }
   ],
   "source": [
    "type(img)"
   ]
  },
  {
   "cell_type": "code",
   "execution_count": 158,
   "metadata": {},
   "outputs": [],
   "source": [
    "# covert image into RGB values. \n",
    "# each pixel is a list fo 3 numbers, which describes Red, Green and Blue for the specific pixel\n",
    "# the code decomposes each pixel and store the into respective list (red, green, blue)\n",
    "\n",
    "b = []\n",
    "g = []\n",
    "r = []\n",
    "\n",
    "for line in image:\n",
    "    for pixel in line:\n",
    "        temp_b, temp_g, temp_r = pixel\n",
    "        b.append(temp_b)\n",
    "        g.append(temp_g)\n",
    "        r.append(temp_r)\n",
    "\n"
   ]
  },
  {
   "cell_type": "code",
   "execution_count": 161,
   "metadata": {},
   "outputs": [],
   "source": [
    "df = pd.DataFrame({\"blue\" : b, \"green\" : g, \"red\" : r})"
   ]
  },
  {
   "cell_type": "code",
   "execution_count": 162,
   "metadata": {},
   "outputs": [
    {
     "data": {
      "text/html": [
       "<div>\n",
       "<style scoped>\n",
       "    .dataframe tbody tr th:only-of-type {\n",
       "        vertical-align: middle;\n",
       "    }\n",
       "\n",
       "    .dataframe tbody tr th {\n",
       "        vertical-align: top;\n",
       "    }\n",
       "\n",
       "    .dataframe thead th {\n",
       "        text-align: right;\n",
       "    }\n",
       "</style>\n",
       "<table border=\"1\" class=\"dataframe\">\n",
       "  <thead>\n",
       "    <tr style=\"text-align: right;\">\n",
       "      <th></th>\n",
       "      <th>blue</th>\n",
       "      <th>green</th>\n",
       "      <th>red</th>\n",
       "    </tr>\n",
       "  </thead>\n",
       "  <tbody>\n",
       "    <tr>\n",
       "      <th>0</th>\n",
       "      <td>109</td>\n",
       "      <td>100</td>\n",
       "      <td>57</td>\n",
       "    </tr>\n",
       "    <tr>\n",
       "      <th>1</th>\n",
       "      <td>109</td>\n",
       "      <td>100</td>\n",
       "      <td>57</td>\n",
       "    </tr>\n",
       "    <tr>\n",
       "      <th>2</th>\n",
       "      <td>108</td>\n",
       "      <td>99</td>\n",
       "      <td>56</td>\n",
       "    </tr>\n",
       "    <tr>\n",
       "      <th>3</th>\n",
       "      <td>109</td>\n",
       "      <td>100</td>\n",
       "      <td>57</td>\n",
       "    </tr>\n",
       "    <tr>\n",
       "      <th>4</th>\n",
       "      <td>110</td>\n",
       "      <td>101</td>\n",
       "      <td>58</td>\n",
       "    </tr>\n",
       "    <tr>\n",
       "      <th>...</th>\n",
       "      <td>...</td>\n",
       "      <td>...</td>\n",
       "      <td>...</td>\n",
       "    </tr>\n",
       "    <tr>\n",
       "      <th>126079</th>\n",
       "      <td>120</td>\n",
       "      <td>124</td>\n",
       "      <td>97</td>\n",
       "    </tr>\n",
       "    <tr>\n",
       "      <th>126080</th>\n",
       "      <td>120</td>\n",
       "      <td>124</td>\n",
       "      <td>97</td>\n",
       "    </tr>\n",
       "    <tr>\n",
       "      <th>126081</th>\n",
       "      <td>121</td>\n",
       "      <td>125</td>\n",
       "      <td>100</td>\n",
       "    </tr>\n",
       "    <tr>\n",
       "      <th>126082</th>\n",
       "      <td>124</td>\n",
       "      <td>128</td>\n",
       "      <td>103</td>\n",
       "    </tr>\n",
       "    <tr>\n",
       "      <th>126083</th>\n",
       "      <td>126</td>\n",
       "      <td>130</td>\n",
       "      <td>105</td>\n",
       "    </tr>\n",
       "  </tbody>\n",
       "</table>\n",
       "<p>126084 rows × 3 columns</p>\n",
       "</div>"
      ],
      "text/plain": [
       "        blue  green  red\n",
       "0        109    100   57\n",
       "1        109    100   57\n",
       "2        108     99   56\n",
       "3        109    100   57\n",
       "4        110    101   58\n",
       "...      ...    ...  ...\n",
       "126079   120    124   97\n",
       "126080   120    124   97\n",
       "126081   121    125  100\n",
       "126082   124    128  103\n",
       "126083   126    130  105\n",
       "\n",
       "[126084 rows x 3 columns]"
      ]
     },
     "execution_count": 162,
     "metadata": {},
     "output_type": "execute_result"
    }
   ],
   "source": [
    "df"
   ]
  },
  {
   "cell_type": "code",
   "execution_count": 163,
   "metadata": {},
   "outputs": [],
   "source": [
    "model = KMeans(n_clusters=3, init=\"random\")\n",
    "clusters = model.fit(df)"
   ]
  },
  {
   "cell_type": "code",
   "execution_count": 164,
   "metadata": {},
   "outputs": [
    {
     "data": {
      "text/plain": [
       "KMeans(algorithm='auto', copy_x=True, init='random', max_iter=300, n_clusters=3,\n",
       "       n_init=10, n_jobs=None, precompute_distances='auto', random_state=None,\n",
       "       tol=0.0001, verbose=0)"
      ]
     },
     "execution_count": 164,
     "metadata": {},
     "output_type": "execute_result"
    }
   ],
   "source": [
    "clusters"
   ]
  },
  {
   "cell_type": "code",
   "execution_count": 165,
   "metadata": {},
   "outputs": [],
   "source": [
    "df[\"cluster\"] = clusters.predict(df)"
   ]
  },
  {
   "cell_type": "code",
   "execution_count": 166,
   "metadata": {},
   "outputs": [
    {
     "data": {
      "text/plain": [
       "2    51709\n",
       "0    40179\n",
       "1    34196\n",
       "Name: cluster, dtype: int64"
      ]
     },
     "execution_count": 166,
     "metadata": {},
     "output_type": "execute_result"
    }
   ],
   "source": [
    "df[\"cluster\"].value_counts()"
   ]
  },
  {
   "cell_type": "code",
   "execution_count": 167,
   "metadata": {},
   "outputs": [
    {
     "data": {
      "text/plain": [
       "array([[ 62.88487169,  67.32571613,  39.4321663 ],\n",
       "       [167.52289976, 166.03478184, 124.67008527],\n",
       "       [115.70495352, 118.57706654,  80.60924605]])"
      ]
     },
     "execution_count": 167,
     "metadata": {},
     "output_type": "execute_result"
    }
   ],
   "source": [
    "clusters.cluster_centers_"
   ]
  },
  {
   "cell_type": "code",
   "execution_count": 168,
   "metadata": {},
   "outputs": [
    {
     "data": {
      "image/png": "[encoded data removed]",
      "text/plain": [
       "<Figure size 432x288 with 1 Axes>"
      ]
     },
     "metadata": {
      "needs_background": "light"
     },
     "output_type": "display_data"
    }
   ],
   "source": [
    "colors = []\n",
    "\n",
    "for cluster_center in clusters.cluster_centers_:\n",
    "    scaled_b, scaled_g, scaled_r = cluster_center\n",
    "    colors.append((\n",
    "                    scaled_r / 255,\n",
    "                    scaled_g / 255,\n",
    "                    scaled_b / 255\n",
    "                  ))\n",
    "\n",
    "plt.imshow([colors])\n",
    "plt.show()"
   ]
  },
  {
   "cell_type": "code",
   "execution_count": 169,
   "metadata": {},
   "outputs": [
    {
     "name": "stdout",
     "output_type": "stream",
     "text": [
      "62.884871692889476 67.32571613283736 39.432166301969815\n",
      "167.5228997568117 166.03478184424677 124.67008526972823\n",
      "115.704953518484 118.57706654298097 80.60924605245401\n"
     ]
    }
   ],
   "source": [
    "# just a test to sea the variables\n",
    "\n",
    "for cluster_center in clusters.cluster_centers_:\n",
    "    scaled_r, scaled_g, scaled_b = cluster_center\n",
    "    print(scaled_r, scaled_g, scaled_b)"
   ]
  },
  {
   "cell_type": "code",
   "execution_count": 103,
   "metadata": {},
   "outputs": [],
   "source": [
    "# The example used scipy instead of Sklearn\n",
    "# Example code also standardized the scale for each column of df"
   ]
  },
  {
   "cell_type": "code",
   "execution_count": 104,
   "metadata": {},
   "outputs": [],
   "source": [
    "# Try re-do the results inkl. standardization"
   ]
  },
  {
   "cell_type": "code",
   "execution_count": 185,
   "metadata": {},
   "outputs": [],
   "source": [
    "df_2 = df.drop(\"cluster\", axis=1).copy()"
   ]
  },
  {
   "cell_type": "code",
   "execution_count": 186,
   "metadata": {},
   "outputs": [
    {
     "data": {
      "text/html": [
       "<div>\n",
       "<style scoped>\n",
       "    .dataframe tbody tr th:only-of-type {\n",
       "        vertical-align: middle;\n",
       "    }\n",
       "\n",
       "    .dataframe tbody tr th {\n",
       "        vertical-align: top;\n",
       "    }\n",
       "\n",
       "    .dataframe thead th {\n",
       "        text-align: right;\n",
       "    }\n",
       "</style>\n",
       "<table border=\"1\" class=\"dataframe\">\n",
       "  <thead>\n",
       "    <tr style=\"text-align: right;\">\n",
       "      <th></th>\n",
       "      <th>blue</th>\n",
       "      <th>green</th>\n",
       "      <th>red</th>\n",
       "    </tr>\n",
       "  </thead>\n",
       "  <tbody>\n",
       "    <tr>\n",
       "      <th>0</th>\n",
       "      <td>109</td>\n",
       "      <td>100</td>\n",
       "      <td>57</td>\n",
       "    </tr>\n",
       "    <tr>\n",
       "      <th>1</th>\n",
       "      <td>109</td>\n",
       "      <td>100</td>\n",
       "      <td>57</td>\n",
       "    </tr>\n",
       "    <tr>\n",
       "      <th>2</th>\n",
       "      <td>108</td>\n",
       "      <td>99</td>\n",
       "      <td>56</td>\n",
       "    </tr>\n",
       "    <tr>\n",
       "      <th>3</th>\n",
       "      <td>109</td>\n",
       "      <td>100</td>\n",
       "      <td>57</td>\n",
       "    </tr>\n",
       "    <tr>\n",
       "      <th>4</th>\n",
       "      <td>110</td>\n",
       "      <td>101</td>\n",
       "      <td>58</td>\n",
       "    </tr>\n",
       "    <tr>\n",
       "      <th>...</th>\n",
       "      <td>...</td>\n",
       "      <td>...</td>\n",
       "      <td>...</td>\n",
       "    </tr>\n",
       "    <tr>\n",
       "      <th>126079</th>\n",
       "      <td>120</td>\n",
       "      <td>124</td>\n",
       "      <td>97</td>\n",
       "    </tr>\n",
       "    <tr>\n",
       "      <th>126080</th>\n",
       "      <td>120</td>\n",
       "      <td>124</td>\n",
       "      <td>97</td>\n",
       "    </tr>\n",
       "    <tr>\n",
       "      <th>126081</th>\n",
       "      <td>121</td>\n",
       "      <td>125</td>\n",
       "      <td>100</td>\n",
       "    </tr>\n",
       "    <tr>\n",
       "      <th>126082</th>\n",
       "      <td>124</td>\n",
       "      <td>128</td>\n",
       "      <td>103</td>\n",
       "    </tr>\n",
       "    <tr>\n",
       "      <th>126083</th>\n",
       "      <td>126</td>\n",
       "      <td>130</td>\n",
       "      <td>105</td>\n",
       "    </tr>\n",
       "  </tbody>\n",
       "</table>\n",
       "<p>126084 rows × 3 columns</p>\n",
       "</div>"
      ],
      "text/plain": [
       "        blue  green  red\n",
       "0        109    100   57\n",
       "1        109    100   57\n",
       "2        108     99   56\n",
       "3        109    100   57\n",
       "4        110    101   58\n",
       "...      ...    ...  ...\n",
       "126079   120    124   97\n",
       "126080   120    124   97\n",
       "126081   121    125  100\n",
       "126082   124    128  103\n",
       "126083   126    130  105\n",
       "\n",
       "[126084 rows x 3 columns]"
      ]
     },
     "execution_count": 186,
     "metadata": {},
     "output_type": "execute_result"
    }
   ],
   "source": [
    "df_2"
   ]
  },
  {
   "cell_type": "code",
   "execution_count": 107,
   "metadata": {},
   "outputs": [],
   "source": [
    "# the exmample shows the scipy whiten function. However, it didn't work here.\n",
    "# However, the whiten function suppose to divide each array by its stdv. So I will calculate it manually"
   ]
  },
  {
   "cell_type": "code",
   "execution_count": 187,
   "metadata": {},
   "outputs": [],
   "source": [
    "b_std, g_std, r_std = df_2[['blue', 'green', 'red']].std() "
   ]
  },
  {
   "cell_type": "code",
   "execution_count": 188,
   "metadata": {},
   "outputs": [],
   "source": [
    "df_2 = df_2.assign(b_scaled = df_2[\"blue\"] / b_std )\n",
    "df_2 = df_2.assign(g_scaled = df_2[\"green\"] / g_std )\n",
    "df_2 = df_2.assign(r_scaled = df_2[\"red\"] / r_std )"
   ]
  },
  {
   "cell_type": "code",
   "execution_count": 189,
   "metadata": {},
   "outputs": [
    {
     "data": {
      "text/html": [
       "<div>\n",
       "<style scoped>\n",
       "    .dataframe tbody tr th:only-of-type {\n",
       "        vertical-align: middle;\n",
       "    }\n",
       "\n",
       "    .dataframe tbody tr th {\n",
       "        vertical-align: top;\n",
       "    }\n",
       "\n",
       "    .dataframe thead th {\n",
       "        text-align: right;\n",
       "    }\n",
       "</style>\n",
       "<table border=\"1\" class=\"dataframe\">\n",
       "  <thead>\n",
       "    <tr style=\"text-align: right;\">\n",
       "      <th></th>\n",
       "      <th>blue</th>\n",
       "      <th>green</th>\n",
       "      <th>red</th>\n",
       "      <th>b_scaled</th>\n",
       "      <th>g_scaled</th>\n",
       "      <th>r_scaled</th>\n",
       "    </tr>\n",
       "  </thead>\n",
       "  <tbody>\n",
       "    <tr>\n",
       "      <th>0</th>\n",
       "      <td>109</td>\n",
       "      <td>100</td>\n",
       "      <td>57</td>\n",
       "      <td>2.307687</td>\n",
       "      <td>2.257406</td>\n",
       "      <td>1.382520</td>\n",
       "    </tr>\n",
       "    <tr>\n",
       "      <th>1</th>\n",
       "      <td>109</td>\n",
       "      <td>100</td>\n",
       "      <td>57</td>\n",
       "      <td>2.307687</td>\n",
       "      <td>2.257406</td>\n",
       "      <td>1.382520</td>\n",
       "    </tr>\n",
       "    <tr>\n",
       "      <th>2</th>\n",
       "      <td>108</td>\n",
       "      <td>99</td>\n",
       "      <td>56</td>\n",
       "      <td>2.286516</td>\n",
       "      <td>2.234832</td>\n",
       "      <td>1.358265</td>\n",
       "    </tr>\n",
       "    <tr>\n",
       "      <th>3</th>\n",
       "      <td>109</td>\n",
       "      <td>100</td>\n",
       "      <td>57</td>\n",
       "      <td>2.307687</td>\n",
       "      <td>2.257406</td>\n",
       "      <td>1.382520</td>\n",
       "    </tr>\n",
       "    <tr>\n",
       "      <th>4</th>\n",
       "      <td>110</td>\n",
       "      <td>101</td>\n",
       "      <td>58</td>\n",
       "      <td>2.328859</td>\n",
       "      <td>2.279980</td>\n",
       "      <td>1.406775</td>\n",
       "    </tr>\n",
       "  </tbody>\n",
       "</table>\n",
       "</div>"
      ],
      "text/plain": [
       "   blue  green  red  b_scaled  g_scaled  r_scaled\n",
       "0   109    100   57  2.307687  2.257406  1.382520\n",
       "1   109    100   57  2.307687  2.257406  1.382520\n",
       "2   108     99   56  2.286516  2.234832  1.358265\n",
       "3   109    100   57  2.307687  2.257406  1.382520\n",
       "4   110    101   58  2.328859  2.279980  1.406775"
      ]
     },
     "execution_count": 189,
     "metadata": {},
     "output_type": "execute_result"
    }
   ],
   "source": [
    "df_2.head()"
   ]
  },
  {
   "cell_type": "code",
   "execution_count": 190,
   "metadata": {},
   "outputs": [],
   "source": [
    "df_2 = df_2.drop([\"blue\", \"green\", \"red\"], axis = 1).copy()"
   ]
  },
  {
   "cell_type": "code",
   "execution_count": 179,
   "metadata": {},
   "outputs": [
    {
     "data": {
      "text/html": [
       "<div>\n",
       "<style scoped>\n",
       "    .dataframe tbody tr th:only-of-type {\n",
       "        vertical-align: middle;\n",
       "    }\n",
       "\n",
       "    .dataframe tbody tr th {\n",
       "        vertical-align: top;\n",
       "    }\n",
       "\n",
       "    .dataframe thead th {\n",
       "        text-align: right;\n",
       "    }\n",
       "</style>\n",
       "<table border=\"1\" class=\"dataframe\">\n",
       "  <thead>\n",
       "    <tr style=\"text-align: right;\">\n",
       "      <th></th>\n",
       "      <th>b_scaled</th>\n",
       "      <th>g_scaled</th>\n",
       "      <th>r_scaled</th>\n",
       "    </tr>\n",
       "  </thead>\n",
       "  <tbody>\n",
       "    <tr>\n",
       "      <th>0</th>\n",
       "      <td>2.307687</td>\n",
       "      <td>2.257406</td>\n",
       "      <td>1.382520</td>\n",
       "    </tr>\n",
       "    <tr>\n",
       "      <th>1</th>\n",
       "      <td>2.307687</td>\n",
       "      <td>2.257406</td>\n",
       "      <td>1.382520</td>\n",
       "    </tr>\n",
       "    <tr>\n",
       "      <th>2</th>\n",
       "      <td>2.286516</td>\n",
       "      <td>2.234832</td>\n",
       "      <td>1.358265</td>\n",
       "    </tr>\n",
       "    <tr>\n",
       "      <th>3</th>\n",
       "      <td>2.307687</td>\n",
       "      <td>2.257406</td>\n",
       "      <td>1.382520</td>\n",
       "    </tr>\n",
       "    <tr>\n",
       "      <th>4</th>\n",
       "      <td>2.328859</td>\n",
       "      <td>2.279980</td>\n",
       "      <td>1.406775</td>\n",
       "    </tr>\n",
       "    <tr>\n",
       "      <th>...</th>\n",
       "      <td>...</td>\n",
       "      <td>...</td>\n",
       "      <td>...</td>\n",
       "    </tr>\n",
       "    <tr>\n",
       "      <th>126079</th>\n",
       "      <td>2.540573</td>\n",
       "      <td>2.799184</td>\n",
       "      <td>2.352710</td>\n",
       "    </tr>\n",
       "    <tr>\n",
       "      <th>126080</th>\n",
       "      <td>2.540573</td>\n",
       "      <td>2.799184</td>\n",
       "      <td>2.352710</td>\n",
       "    </tr>\n",
       "    <tr>\n",
       "      <th>126081</th>\n",
       "      <td>2.561744</td>\n",
       "      <td>2.821758</td>\n",
       "      <td>2.425474</td>\n",
       "    </tr>\n",
       "    <tr>\n",
       "      <th>126082</th>\n",
       "      <td>2.625259</td>\n",
       "      <td>2.889480</td>\n",
       "      <td>2.498238</td>\n",
       "    </tr>\n",
       "    <tr>\n",
       "      <th>126083</th>\n",
       "      <td>2.667602</td>\n",
       "      <td>2.934628</td>\n",
       "      <td>2.546748</td>\n",
       "    </tr>\n",
       "  </tbody>\n",
       "</table>\n",
       "<p>126084 rows × 3 columns</p>\n",
       "</div>"
      ],
      "text/plain": [
       "        b_scaled  g_scaled  r_scaled\n",
       "0       2.307687  2.257406  1.382520\n",
       "1       2.307687  2.257406  1.382520\n",
       "2       2.286516  2.234832  1.358265\n",
       "3       2.307687  2.257406  1.382520\n",
       "4       2.328859  2.279980  1.406775\n",
       "...          ...       ...       ...\n",
       "126079  2.540573  2.799184  2.352710\n",
       "126080  2.540573  2.799184  2.352710\n",
       "126081  2.561744  2.821758  2.425474\n",
       "126082  2.625259  2.889480  2.498238\n",
       "126083  2.667602  2.934628  2.546748\n",
       "\n",
       "[126084 rows x 3 columns]"
      ]
     },
     "execution_count": 179,
     "metadata": {},
     "output_type": "execute_result"
    }
   ],
   "source": [
    "df_2"
   ]
  },
  {
   "cell_type": "code",
   "execution_count": 191,
   "metadata": {},
   "outputs": [],
   "source": [
    "model_2 = KMeans(n_clusters=3, init=\"random\")\n",
    "clusters_2 = model_2.fit(df_2)\n",
    "df_2[\"cluster\"] = clusters_2.predict(df_2)"
   ]
  },
  {
   "cell_type": "code",
   "execution_count": 192,
   "metadata": {},
   "outputs": [
    {
     "data": {
      "text/plain": [
       "0    51001\n",
       "2    39388\n",
       "1    35695\n",
       "Name: cluster, dtype: int64"
      ]
     },
     "execution_count": 192,
     "metadata": {},
     "output_type": "execute_result"
    }
   ],
   "source": [
    "df_2.cluster.value_counts()"
   ]
  },
  {
   "cell_type": "code",
   "execution_count": 193,
   "metadata": {},
   "outputs": [
    {
     "data": {
      "text/plain": [
       "array([[2.43393115, 2.66234351, 1.91568699],\n",
       "       [3.49744764, 3.71550497, 3.04232577],\n",
       "       [1.33474897, 1.50672972, 0.932739  ]])"
      ]
     },
     "execution_count": 193,
     "metadata": {},
     "output_type": "execute_result"
    }
   ],
   "source": [
    "clusters_2.cluster_centers_"
   ]
  },
  {
   "cell_type": "code",
   "execution_count": 196,
   "metadata": {},
   "outputs": [
    {
     "data": {
      "image/png": "[encoded data removed]",
      "text/plain": [
       "<Figure size 432x288 with 1 Axes>"
      ]
     },
     "metadata": {
      "needs_background": "light"
     },
     "output_type": "display_data"
    }
   ],
   "source": [
    "colors_2 = []\n",
    "\n",
    "for cluster_center in clusters_2.cluster_centers_:\n",
    "    scaled_r, scaled_g, scaled_b = cluster_center\n",
    "    colors_2.append((\n",
    "                    (scaled_r * r_std / 255),\n",
    "                    (scaled_g * g_std / 255),\n",
    "                    (scaled_b * b_std / 255)\n",
    "                  ))\n",
    "\n",
    "plt.imshow([colors_2])\n",
    "plt.show()"
   ]
  },
  {
   "cell_type": "code",
   "execution_count": 201,
   "metadata": {},
   "outputs": [],
   "source": [
    "color_1_r, color_1_g, color_1_b = colors_2[0]\n",
    "color_2_r, color_2_g, color_2_b = colors_2[1]\n",
    "color_3_r, color_3_g, color_3_b = colors_2[2]"
   ]
  },
  {
   "cell_type": "markdown",
   "metadata": {},
   "source": [
    "#### --> the standardized approach returns a more valid result. "
   ]
  },
  {
   "cell_type": "markdown",
   "metadata": {},
   "source": [
    "## Write a function, which takes in a folder and returns a dataframe with 9 columns for the dominant colors. "
   ]
  },
  {
   "cell_type": "code",
   "execution_count": null,
   "metadata": {},
   "outputs": [],
   "source": []
  }
 ],
 "metadata": {
  "kernelspec": {
   "display_name": "Python 3",
   "language": "python",
   "name": "python3"
  },
  "language_info": {
   "codemirror_mode": {
    "name": "ipython",
    "version": 3
   },
   "file_extension": ".py",
   "mimetype": "text/x-python",
   "name": "python",
   "nbconvert_exporter": "python",
   "pygments_lexer": "ipython3",
   "version": "3.7.7"
  }
 },
 "nbformat": 4,
 "nbformat_minor": 4
}
