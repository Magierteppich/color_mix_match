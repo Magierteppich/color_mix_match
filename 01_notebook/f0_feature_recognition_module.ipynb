{
 "cells": [
  {
   "cell_type": "markdown",
   "metadata": {},
   "source": [
    "# f0_image_feature_module \n",
    "\n",
    "This is a summary workbook summarizing all feature extraction functions. Details can be found in the respective workbook, all starting with f. "
   ]
  },
  {
   "cell_type": "code",
   "execution_count": 9,
   "metadata": {},
   "outputs": [],
   "source": [
    "import numpy as np\n",
    "import os\n",
    "import math\n",
    "from os.path import isfile, join\n",
    "from os import listdir\n",
    "from sklearn.cluster import KMeans\n",
    "from collections import Counter\n",
    "import cv2\n",
    "import image_preprocessing as ip\n"
   ]
  },
  {
   "cell_type": "code",
   "execution_count": 10,
   "metadata": {},
   "outputs": [
    {
     "data": {
      "text/plain": [
       "['../00_data/00_test_pic/.DS_Store',\n",
       " '../00_data/00_test_pic/frog_2.jpg',\n",
       " '../00_data/00_test_pic/test.jpg',\n",
       " '../00_data/00_test_pic/red.jpg']"
      ]
     },
     "execution_count": 10,
     "metadata": {},
     "output_type": "execute_result"
    }
   ],
   "source": [
    "path_to_library = \"../00_data/00_test_pic\"\n",
    "\n",
    "file_list = [path_to_library + \"/\" + f for f in listdir(path_to_library) if isfile(join(path_to_library, f))] \n",
    "\n",
    "file_list"
   ]
  },
  {
   "cell_type": "code",
   "execution_count": 11,
   "metadata": {},
   "outputs": [
    {
     "name": "stdout",
     "output_type": "stream",
     "text": [
      "File ../00_data/00_test_pic/.DS_Store is not readable.\n"
     ]
    },
    {
     "data": {
      "text/plain": [
       "[array([[[ 39,  97,  43],\n",
       "         [ 39,  97,  43],\n",
       "         [ 39,  97,  43],\n",
       "         ...,\n",
       "         [ 22,  62,  23],\n",
       "         [ 24,  60,  24],\n",
       "         [ 25,  60,  25]],\n",
       " \n",
       "        [[ 39,  97,  43],\n",
       "         [ 39,  97,  43],\n",
       "         [ 39,  97,  43],\n",
       "         ...,\n",
       "         [ 22,  62,  23],\n",
       "         [ 24,  60,  24],\n",
       "         [ 25,  60,  25]],\n",
       " \n",
       "        [[ 39,  97,  43],\n",
       "         [ 39,  97,  43],\n",
       "         [ 39,  97,  43],\n",
       "         ...,\n",
       "         [ 22,  62,  23],\n",
       "         [ 24,  60,  24],\n",
       "         [ 26,  60,  25]],\n",
       " \n",
       "        ...,\n",
       " \n",
       "        [[ 15, 112,  37],\n",
       "         [ 15, 112,  37],\n",
       "         [ 15, 113,  37],\n",
       "         ...,\n",
       "         [ 27, 127,  53],\n",
       "         [ 29, 129,  55],\n",
       "         [ 30, 131,  57]],\n",
       " \n",
       "        [[ 15, 111,  37],\n",
       "         [ 15, 111,  37],\n",
       "         [ 14, 111,  37],\n",
       "         ...,\n",
       "         [ 26, 127,  53],\n",
       "         [ 28, 129,  56],\n",
       "         [ 30, 131,  58]],\n",
       " \n",
       "        [[ 15, 110,  36],\n",
       "         [ 15, 111,  36],\n",
       "         [ 14, 111,  36],\n",
       "         ...,\n",
       "         [ 26, 127,  53],\n",
       "         [ 28, 130,  56],\n",
       "         [ 29, 131,  58]]], dtype=uint8),\n",
       " array([[[255, 255, 255],\n",
       "         [255, 255, 255],\n",
       "         [255, 255, 255],\n",
       "         ...,\n",
       "         [255, 255, 255],\n",
       "         [255, 255, 255],\n",
       "         [255, 255, 255]],\n",
       " \n",
       "        [[255, 255, 255],\n",
       "         [255, 255, 255],\n",
       "         [255, 255, 255],\n",
       "         ...,\n",
       "         [255, 255, 255],\n",
       "         [255, 255, 255],\n",
       "         [255, 255, 255]],\n",
       " \n",
       "        [[255, 255, 255],\n",
       "         [255, 255, 255],\n",
       "         [255, 255, 255],\n",
       "         ...,\n",
       "         [255, 255, 255],\n",
       "         [255, 255, 255],\n",
       "         [255, 255, 255]],\n",
       " \n",
       "        ...,\n",
       " \n",
       "        [[ 83,  78,  77],\n",
       "         [ 82,  77,  76],\n",
       "         [ 82,  77,  76],\n",
       "         ...,\n",
       "         [ 75,  70,  69],\n",
       "         [ 76,  71,  70],\n",
       "         [ 76,  71,  70]],\n",
       " \n",
       "        [[ 83,  78,  77],\n",
       "         [ 82,  77,  76],\n",
       "         [ 82,  77,  76],\n",
       "         ...,\n",
       "         [ 77,  72,  71],\n",
       "         [ 77,  72,  71],\n",
       "         [ 77,  72,  71]],\n",
       " \n",
       "        [[ 83,  78,  77],\n",
       "         [ 82,  77,  76],\n",
       "         [ 82,  77,  76],\n",
       "         ...,\n",
       "         [ 78,  73,  72],\n",
       "         [ 79,  74,  73],\n",
       "         [ 79,  74,  73]]], dtype=uint8),\n",
       " array([[[ 65,  40, 129],\n",
       "         [ 65,  40, 131],\n",
       "         [ 64,  38, 131],\n",
       "         ...,\n",
       "         [ 57,  39, 132],\n",
       "         [ 51,  34, 126],\n",
       "         [ 47,  31, 122]],\n",
       " \n",
       "        [[ 64,  40, 129],\n",
       "         [ 64,  39, 130],\n",
       "         [ 62,  36, 129],\n",
       "         ...,\n",
       "         [ 61,  44, 136],\n",
       "         [ 56,  39, 131],\n",
       "         [ 53,  37, 128]],\n",
       " \n",
       "        [[ 62,  37, 128],\n",
       "         [ 61,  35, 128],\n",
       "         [ 57,  31, 126],\n",
       "         ...,\n",
       "         [ 65,  48, 138],\n",
       "         [ 63,  46, 137],\n",
       "         [ 62,  45, 137]],\n",
       " \n",
       "        ...,\n",
       " \n",
       "        [[ 28,  11, 104],\n",
       "         [ 30,  13, 104],\n",
       "         [ 33,  17, 105],\n",
       "         ...,\n",
       "         [ 17,  14,  50],\n",
       "         [ 16,  14,  42],\n",
       "         [ 14,  14,  37]],\n",
       " \n",
       "        [[ 26,  10, 100],\n",
       "         [ 26,  11, 100],\n",
       "         [ 27,  12,  99],\n",
       "         ...,\n",
       "         [ 19,  16,  50],\n",
       "         [ 16,  15,  39],\n",
       "         [ 14,  14,  33]],\n",
       " \n",
       "        [[ 26,  10, 100],\n",
       "         [ 26,  10,  99],\n",
       "         [ 25,  10,  98],\n",
       "         ...,\n",
       "         [ 21,  18,  50],\n",
       "         [ 17,  16,  38],\n",
       "         [ 15,  15,  33]]], dtype=uint8)]"
      ]
     },
     "execution_count": 11,
     "metadata": {},
     "output_type": "execute_result"
    }
   ],
   "source": [
    "img_ready = ip.img_ready(path_to_library = \"../00_data/00_test_pic\")\n",
    "img_ready"
   ]
  },
  {
   "cell_type": "markdown",
   "metadata": {},
   "source": [
    "### HSV"
   ]
  },
  {
   "cell_type": "code",
   "execution_count": 12,
   "metadata": {},
   "outputs": [],
   "source": [
    "def img_hsv(img_ready):\n",
    "    \n",
    "    img_hsv = []\n",
    "    \n",
    "    for img in img_ready:\n",
    "        \n",
    "        hsv = cv2.cvtColor(img, cv2.COLOR_BGR2HSV)\n",
    "        h = []\n",
    "        s = []\n",
    "        v = []\n",
    "    \n",
    "        for line in hsv:\n",
    "            for pixel in line:\n",
    "                temp_h, temp_s, temp_v = pixel\n",
    "                h.append(temp_h)\n",
    "                s.append(temp_s)\n",
    "                v.append(temp_v)\n",
    "            \n",
    "        average_h = round(sum(h)/len(h),4)\n",
    "        average_s = round(sum(s)/len(s),4)\n",
    "        average_v = round(sum(v)/len(v),4)\n",
    "        \n",
    "        hsv_temp = [average_h, average_s, average_v]\n",
    "        img_hsv.append(hsv_temp)\n",
    "            \n",
    "    return img_hsv"
   ]
  },
  {
   "cell_type": "code",
   "execution_count": 13,
   "metadata": {},
   "outputs": [
    {
     "name": "stdout",
     "output_type": "stream",
     "text": [
      "File ../00_data/00_test_pic/.DS_Store is not readable.\n"
     ]
    }
   ],
   "source": [
    "list_hsv = img_hsv(ip.img_ready(\"../00_data/00_test_pic\"))\n"
   ]
  },
  {
   "cell_type": "markdown",
   "metadata": {},
   "source": [
    "### Colorfulness"
   ]
  },
  {
   "cell_type": "code",
   "execution_count": 14,
   "metadata": {},
   "outputs": [],
   "source": [
    "def img_colorfulness(img_ready):\n",
    "    \n",
    "    img_colorfulness = []\n",
    "    \n",
    "    for img in img_ready: \n",
    "        \n",
    "        (B, G, R) = cv2.split(img.astype(\"float\"))\n",
    "\n",
    "        rg = np.absolute(R - G)\n",
    "        yb = np.absolute(0.5*(R + G) - B)\n",
    "\n",
    "        (rbMean, rbStd) = (np.mean(rg), np.std(rg))\n",
    "        (ybMean, ybStd) = (np.mean(yb), np.std(yb))\n",
    "            \n",
    "        stdRoot = np.sqrt((rbStd ** 2) + (ybStd ** 2))\n",
    "        meanRoot = np.sqrt((rbMean ** 2) + (ybMean ** 2))\n",
    "        c_metric = stdRoot + (0.3 * meanRoot) \n",
    "    \n",
    "        temp_result = list([c_metric])\n",
    "        img_colorfulness.append(temp_result)\n",
    "    \n",
    "    return img_colorfulness #result is a list of sub-lists. Each sub-list contains 2 elements: file_path, colorfulness (the higher the number, the more colorful)\n"
   ]
  },
  {
   "cell_type": "code",
   "execution_count": 15,
   "metadata": {},
   "outputs": [],
   "source": [
    "list_colorfulness = img_colorfulness(img_ready)"
   ]
  },
  {
   "cell_type": "markdown",
   "metadata": {},
   "source": [
    "### Contrast"
   ]
  },
  {
   "cell_type": "code",
   "execution_count": 16,
   "metadata": {},
   "outputs": [],
   "source": [
    "def img_contrast(img_ready):\n",
    "    \n",
    "    img_contrast = []\n",
    "    \n",
    "    for img in img_ready: \n",
    "    \n",
    "        img = cv2.cvtColor(img, cv2.COLOR_BGR2GRAY)\n",
    "        contrast = img.std()\n",
    "            \n",
    "        temp_result = list([contrast])\n",
    "        img_contrast.append(temp_result)\n",
    "    \n",
    "    return img_contrast #result is a list of sub-lists. Each sub-list contains 2 elements: file_path, contrast (the higher the number, the higher the contrast\n",
    "\n"
   ]
  },
  {
   "cell_type": "code",
   "execution_count": 17,
   "metadata": {},
   "outputs": [],
   "source": [
    "list_contrast = img_contrast(img_ready)"
   ]
  },
  {
   "cell_type": "markdown",
   "metadata": {},
   "source": [
    "### Dominant Color"
   ]
  },
  {
   "cell_type": "code",
   "execution_count": 18,
   "metadata": {},
   "outputs": [],
   "source": [
    "def img_dominant_color(img_ready, k=4):\n",
    "    \n",
    "    img_dominant_color = []\n",
    "    \n",
    "    for img in img_ready: \n",
    "    \n",
    "        img = cv2.cvtColor(img, cv2.COLOR_BGR2RGB) #convert to RGB to get the right order\n",
    "        img = img.reshape((img.shape[0] * img.shape[1], 3))\n",
    "    \n",
    "        #cluster and assign labels to the pixels \n",
    "        clt = KMeans(n_clusters = k)\n",
    "        labels = clt.fit_predict(img)\n",
    "        \n",
    "        #count labels to find most popular\n",
    "        label_counts = Counter(labels)\n",
    "        \n",
    "        #subset out most popular centroid\n",
    "        dominant_color = clt.cluster_centers_[label_counts.most_common(1)[0][0]]\n",
    "        temp_result = list(dominant_color)\n",
    "        img_dominant_color.append(temp_result)\n",
    "            \n",
    "    return img_dominant_color #result is a list of sub-lists. Each sub-list contains 4 elements: file_path, r,g,b"
   ]
  },
  {
   "cell_type": "code",
   "execution_count": 19,
   "metadata": {},
   "outputs": [],
   "source": [
    "list_dominant_color = img_dominant_color(img_ready)"
   ]
  },
  {
   "cell_type": "markdown",
   "metadata": {},
   "source": [
    "## Write a function to summarize all results into 1 dataframe"
   ]
  },
  {
   "cell_type": "markdown",
   "metadata": {},
   "source": [
    "Goal - dataframe with following columns\n",
    "\n",
    "file_name | h | s | v | dominant_color_R | dominant_color_G | dominant_color_B | contrast | colorfulness | ..."
   ]
  },
  {
   "cell_type": "code",
   "execution_count": 20,
   "metadata": {},
   "outputs": [],
   "source": [
    "import pandas as pd"
   ]
  },
  {
   "cell_type": "code",
   "execution_count": 21,
   "metadata": {},
   "outputs": [],
   "source": [
    "a = [[1,2,4], [2,2,5], [4,2,9]]\n",
    "b = [[1], [3], [7]]"
   ]
  },
  {
   "cell_type": "code",
   "execution_count": 22,
   "metadata": {},
   "outputs": [
    {
     "data": {
      "text/plain": [
       "[1, 2, 4, 1]"
      ]
     },
     "execution_count": 22,
     "metadata": {},
     "output_type": "execute_result"
    }
   ],
   "source": [
    "a0 = a[0] + b[0]\n",
    "a0"
   ]
  },
  {
   "cell_type": "code",
   "execution_count": 23,
   "metadata": {},
   "outputs": [
    {
     "data": {
      "text/plain": [
       "[2, 2, 5, 1]"
      ]
     },
     "execution_count": 23,
     "metadata": {},
     "output_type": "execute_result"
    }
   ],
   "source": [
    "a1 = a[1] + b[0]\n",
    "a1"
   ]
  },
  {
   "cell_type": "code",
   "execution_count": 24,
   "metadata": {},
   "outputs": [],
   "source": [
    "z = [[1, 2, 4, 1], [2, 2, 5, 1]]\n"
   ]
  },
  {
   "cell_type": "code",
   "execution_count": 25,
   "metadata": {},
   "outputs": [
    {
     "data": {
      "text/html": [
       "<div>\n",
       "<style scoped>\n",
       "    .dataframe tbody tr th:only-of-type {\n",
       "        vertical-align: middle;\n",
       "    }\n",
       "\n",
       "    .dataframe tbody tr th {\n",
       "        vertical-align: top;\n",
       "    }\n",
       "\n",
       "    .dataframe thead th {\n",
       "        text-align: right;\n",
       "    }\n",
       "</style>\n",
       "<table border=\"1\" class=\"dataframe\">\n",
       "  <thead>\n",
       "    <tr style=\"text-align: right;\">\n",
       "      <th></th>\n",
       "      <th>0</th>\n",
       "      <th>1</th>\n",
       "      <th>2</th>\n",
       "      <th>3</th>\n",
       "    </tr>\n",
       "  </thead>\n",
       "  <tbody>\n",
       "    <tr>\n",
       "      <th>0</th>\n",
       "      <td>1</td>\n",
       "      <td>2</td>\n",
       "      <td>4</td>\n",
       "      <td>1</td>\n",
       "    </tr>\n",
       "    <tr>\n",
       "      <th>1</th>\n",
       "      <td>2</td>\n",
       "      <td>2</td>\n",
       "      <td>5</td>\n",
       "      <td>1</td>\n",
       "    </tr>\n",
       "  </tbody>\n",
       "</table>\n",
       "</div>"
      ],
      "text/plain": [
       "   0  1  2  3\n",
       "0  1  2  4  1\n",
       "1  2  2  5  1"
      ]
     },
     "execution_count": 25,
     "metadata": {},
     "output_type": "execute_result"
    }
   ],
   "source": [
    "pd.DataFrame(z)"
   ]
  },
  {
   "cell_type": "code",
   "execution_count": 26,
   "metadata": {},
   "outputs": [],
   "source": [
    "# use the logic above to combine all feature results"
   ]
  },
  {
   "cell_type": "code",
   "execution_count": 27,
   "metadata": {},
   "outputs": [
    {
     "name": "stdout",
     "output_type": "stream",
     "text": [
      "File ../00_data/00_test_pic/.DS_Store is not readable.\n"
     ]
    }
   ],
   "source": [
    "img_list, valid_path = ip.img_read(file_list)\n"
   ]
  },
  {
   "cell_type": "code",
   "execution_count": 29,
   "metadata": {},
   "outputs": [
    {
     "data": {
      "text/plain": [
       "[['../00_data/00_test_pic/frog_2.jpg'],\n",
       " ['../00_data/00_test_pic/test.jpg'],\n",
       " ['../00_data/00_test_pic/red.jpg']]"
      ]
     },
     "execution_count": 29,
     "metadata": {},
     "output_type": "execute_result"
    }
   ],
   "source": [
    "valid_path"
   ]
  },
  {
   "cell_type": "code",
   "execution_count": 30,
   "metadata": {},
   "outputs": [
    {
     "data": {
      "text/plain": [
       "[[49.7562, 154.8772, 135.9965],\n",
       " [53.5365, 12.9889, 178.8828],\n",
       " [171.2669, 209.4558, 111.5541]]"
      ]
     },
     "execution_count": 30,
     "metadata": {},
     "output_type": "execute_result"
    }
   ],
   "source": [
    "list_hsv"
   ]
  },
  {
   "cell_type": "code",
   "execution_count": 31,
   "metadata": {},
   "outputs": [
    {
     "data": {
      "text/plain": [
       "[[50.704544146258954], [6.923195255127685], [60.78603025652514]]"
      ]
     },
     "execution_count": 31,
     "metadata": {},
     "output_type": "execute_result"
    }
   ],
   "source": [
    "list_colorfulness"
   ]
  },
  {
   "cell_type": "code",
   "execution_count": 32,
   "metadata": {},
   "outputs": [
    {
     "data": {
      "text/plain": [
       "[[37.9766408829949], [87.36233917303912], [12.412051788676655]]"
      ]
     },
     "execution_count": 32,
     "metadata": {},
     "output_type": "execute_result"
    }
   ],
   "source": [
    "list_contrast"
   ]
  },
  {
   "cell_type": "code",
   "execution_count": 33,
   "metadata": {},
   "outputs": [
    {
     "data": {
      "text/plain": [
       "[[69.34662484165005, 133.29987331845336, 43.02002774929542],\n",
       " [250.01762699018497, 250.01766489769238, 250.0460576194406],\n",
       " [110.41638863613389, 17.27090284096618, 26.261854210898612]]"
      ]
     },
     "execution_count": 33,
     "metadata": {},
     "output_type": "execute_result"
    }
   ],
   "source": [
    "list_dominant_color"
   ]
  },
  {
   "cell_type": "code",
   "execution_count": 34,
   "metadata": {},
   "outputs": [],
   "source": [
    "result_value = []\n",
    "for i in range(len(valid_path)):\n",
    "    temp = valid_path[i] + list_hsv[i] + list_colorfulness[i] + list_contrast[i] + list_dominant_color[i]\n",
    "    result_value.append(temp)"
   ]
  },
  {
   "cell_type": "code",
   "execution_count": 35,
   "metadata": {},
   "outputs": [],
   "source": [
    "features = [\"file_path\", \"H\", \"S\", \"V\", \"colorfulness\", \"contrast\", \"R\", \"G\", \"B\"]"
   ]
  },
  {
   "cell_type": "code",
   "execution_count": 36,
   "metadata": {},
   "outputs": [],
   "source": [
    "df_result = []\n",
    "for i in range(len(result_value)):\n",
    "    df_result.append(dict(zip(features, result_value[i])))"
   ]
  },
  {
   "cell_type": "code",
   "execution_count": 37,
   "metadata": {},
   "outputs": [
    {
     "data": {
      "text/html": [
       "<div>\n",
       "<style scoped>\n",
       "    .dataframe tbody tr th:only-of-type {\n",
       "        vertical-align: middle;\n",
       "    }\n",
       "\n",
       "    .dataframe tbody tr th {\n",
       "        vertical-align: top;\n",
       "    }\n",
       "\n",
       "    .dataframe thead th {\n",
       "        text-align: right;\n",
       "    }\n",
       "</style>\n",
       "<table border=\"1\" class=\"dataframe\">\n",
       "  <thead>\n",
       "    <tr style=\"text-align: right;\">\n",
       "      <th></th>\n",
       "      <th>file_path</th>\n",
       "      <th>H</th>\n",
       "      <th>S</th>\n",
       "      <th>V</th>\n",
       "      <th>colorfulness</th>\n",
       "      <th>contrast</th>\n",
       "      <th>R</th>\n",
       "      <th>G</th>\n",
       "      <th>B</th>\n",
       "    </tr>\n",
       "  </thead>\n",
       "  <tbody>\n",
       "    <tr>\n",
       "      <th>0</th>\n",
       "      <td>../00_data/00_test_pic/frog_2.jpg</td>\n",
       "      <td>49.7562</td>\n",
       "      <td>154.8772</td>\n",
       "      <td>135.9965</td>\n",
       "      <td>50.704544</td>\n",
       "      <td>37.976641</td>\n",
       "      <td>69.346625</td>\n",
       "      <td>133.299873</td>\n",
       "      <td>43.020028</td>\n",
       "    </tr>\n",
       "    <tr>\n",
       "      <th>1</th>\n",
       "      <td>../00_data/00_test_pic/test.jpg</td>\n",
       "      <td>53.5365</td>\n",
       "      <td>12.9889</td>\n",
       "      <td>178.8828</td>\n",
       "      <td>6.923195</td>\n",
       "      <td>87.362339</td>\n",
       "      <td>250.017627</td>\n",
       "      <td>250.017665</td>\n",
       "      <td>250.046058</td>\n",
       "    </tr>\n",
       "    <tr>\n",
       "      <th>2</th>\n",
       "      <td>../00_data/00_test_pic/red.jpg</td>\n",
       "      <td>171.2669</td>\n",
       "      <td>209.4558</td>\n",
       "      <td>111.5541</td>\n",
       "      <td>60.786030</td>\n",
       "      <td>12.412052</td>\n",
       "      <td>110.416389</td>\n",
       "      <td>17.270903</td>\n",
       "      <td>26.261854</td>\n",
       "    </tr>\n",
       "  </tbody>\n",
       "</table>\n",
       "</div>"
      ],
      "text/plain": [
       "                           file_path         H         S         V  \\\n",
       "0  ../00_data/00_test_pic/frog_2.jpg   49.7562  154.8772  135.9965   \n",
       "1    ../00_data/00_test_pic/test.jpg   53.5365   12.9889  178.8828   \n",
       "2     ../00_data/00_test_pic/red.jpg  171.2669  209.4558  111.5541   \n",
       "\n",
       "   colorfulness   contrast           R           G           B  \n",
       "0     50.704544  37.976641   69.346625  133.299873   43.020028  \n",
       "1      6.923195  87.362339  250.017627  250.017665  250.046058  \n",
       "2     60.786030  12.412052  110.416389   17.270903   26.261854  "
      ]
     },
     "execution_count": 37,
     "metadata": {},
     "output_type": "execute_result"
    }
   ],
   "source": [
    "pd.DataFrame(df_result)"
   ]
  },
  {
   "cell_type": "code",
   "execution_count": 38,
   "metadata": {},
   "outputs": [],
   "source": [
    "def img_get_feature(file_list, img_ready, k=4): \n",
    "\n",
    "    img_list, valid_path = ip.img_read(file_list)\n",
    "    list_hsv = img_hsv(img_ready = img_ready)\n",
    "    list_colorfulness = img_colorfulness(img_ready = img_ready)\n",
    "    list_contrast = img_contrast(img_ready = img_ready)\n",
    "    list_dominant_color = img_dominant_color(img_ready = img_ready, k=k)\n",
    "\n",
    "    feature_list = []\n",
    "    features = [\"file_path\", \"H\", \"S\", \"V\", \"colorfulness\", \"contrast\", \"dom_R\", \"dom_G\", \"dom_B\"]\n",
    "    for i in range(len(valid_path)):\n",
    "        temp = valid_path[i] + list_hsv[i] + list_colorfulness[i] + list_contrast[i] + list_dominant_color[i]\n",
    "        feature_list.append(temp)\n",
    "\n",
    "    return features, result_value"
   ]
  },
  {
   "cell_type": "code",
   "execution_count": 39,
   "metadata": {},
   "outputs": [
    {
     "name": "stdout",
     "output_type": "stream",
     "text": [
      "File ../00_data/00_test_pic//.DS_Store is not readable.\n",
      "File ../00_data/00_test_pic//.DS_Store is not readable.\n"
     ]
    },
    {
     "data": {
      "text/plain": [
       "(['file_path',\n",
       "  'H',\n",
       "  'S',\n",
       "  'V',\n",
       "  'colorfulness',\n",
       "  'contrast',\n",
       "  'dom_R',\n",
       "  'dom_G',\n",
       "  'dom_B'],\n",
       " [['../00_data/00_test_pic/frog_2.jpg',\n",
       "   49.7562,\n",
       "   154.8772,\n",
       "   135.9965,\n",
       "   50.704544146258954,\n",
       "   37.9766408829949,\n",
       "   69.34662484165005,\n",
       "   133.29987331845336,\n",
       "   43.02002774929542],\n",
       "  ['../00_data/00_test_pic/test.jpg',\n",
       "   53.5365,\n",
       "   12.9889,\n",
       "   178.8828,\n",
       "   6.923195255127685,\n",
       "   87.36233917303912,\n",
       "   250.01762699018497,\n",
       "   250.01766489769238,\n",
       "   250.0460576194406],\n",
       "  ['../00_data/00_test_pic/red.jpg',\n",
       "   171.2669,\n",
       "   209.4558,\n",
       "   111.5541,\n",
       "   60.78603025652514,\n",
       "   12.412051788676655,\n",
       "   110.41638863613389,\n",
       "   17.27090284096618,\n",
       "   26.261854210898612]])"
      ]
     },
     "execution_count": 39,
     "metadata": {},
     "output_type": "execute_result"
    }
   ],
   "source": [
    "file_list = ip.get_file_path(\"../00_data/00_test_pic/\")\n",
    "ready_img = ip.img_ready(\"../00_data/00_test_pic/\")\n",
    "img_get_feature(file_list, ready_img, k=4)"
   ]
  },
  {
   "cell_type": "code",
   "execution_count": null,
   "metadata": {},
   "outputs": [],
   "source": []
  }
 ],
 "metadata": {
  "kernelspec": {
   "display_name": "Python 3",
   "language": "python",
   "name": "python3"
  },
  "language_info": {
   "codemirror_mode": {
    "name": "ipython",
    "version": 3
   },
   "file_extension": ".py",
   "mimetype": "text/x-python",
   "name": "python",
   "nbconvert_exporter": "python",
   "pygments_lexer": "ipython3",
   "version": "3.7.7"
  }
 },
 "nbformat": 4,
 "nbformat_minor": 4
}
