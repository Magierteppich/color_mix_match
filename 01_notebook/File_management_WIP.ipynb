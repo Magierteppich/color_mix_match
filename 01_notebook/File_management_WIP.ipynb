{
 "cells": [
  {
   "cell_type": "code",
   "execution_count": 3,
   "metadata": {},
   "outputs": [],
   "source": [
    "import os"
   ]
  },
  {
   "cell_type": "code",
   "execution_count": 5,
   "metadata": {},
   "outputs": [],
   "source": [
    "os.makedirs(\"../02_results/00_test\")"
   ]
  },
  {
   "cell_type": "code",
   "execution_count": 6,
   "metadata": {},
   "outputs": [],
   "source": [
    "from shutil import copyfile"
   ]
  },
  {
   "cell_type": "code",
   "execution_count": null,
   "metadata": {},
   "outputs": [],
   "source": [
    "copyfile(\"../00_data/00_test_pic/frog_2.jpg\", \"../02_results/00_result/frog_2.jpg\")"
   ]
  },
  {
   "cell_type": "code",
   "execution_count": 8,
   "metadata": {},
   "outputs": [],
   "source": [
    "list_of_neighbors = [['../00_data/00_test_pic_full/tree.jpg'],\n",
    " ['../00_data/00_test_pic_full/bright.jpg'],\n",
    " ['../00_data/00_test_pic_full/flower.jpg'],\n",
    " ['../00_data/00_test_pic_full/airplane.jpg'],\n",
    " ['../00_data/00_test_pic_full/horse_2.jpg'],\n",
    " ['../00_data/00_test_pic_full/image_00614.jpg']]"
   ]
  },
  {
   "cell_type": "code",
   "execution_count": 12,
   "metadata": {},
   "outputs": [
    {
     "name": "stdout",
     "output_type": "stream",
     "text": [
      "../00_data/00_test_pic_full/tree.jpg\n",
      "../00_data/00_test_pic_full/bright.jpg\n",
      "../00_data/00_test_pic_full/flower.jpg\n",
      "../00_data/00_test_pic_full/airplane.jpg\n",
      "../00_data/00_test_pic_full/horse_2.jpg\n",
      "../00_data/00_test_pic_full/image_00614.jpg\n"
     ]
    }
   ],
   "source": [
    "for path in list_of_neighbors: \n",
    "    print(path[0])"
   ]
  },
  {
   "cell_type": "code",
   "execution_count": 13,
   "metadata": {},
   "outputs": [],
   "source": [
    "import re"
   ]
  },
  {
   "cell_type": "code",
   "execution_count": 14,
   "metadata": {},
   "outputs": [],
   "source": [
    "pattern = \".*\\/(.*.jpg)\"\n",
    "test = \"../00_data/00_test_pic_full/tree.jpg\"\n",
    "x = re.findall(pattern, test)"
   ]
  },
  {
   "cell_type": "code",
   "execution_count": 15,
   "metadata": {},
   "outputs": [
    {
     "data": {
      "text/plain": [
       "'tree.jpg'"
      ]
     },
     "execution_count": 15,
     "metadata": {},
     "output_type": "execute_result"
    }
   ],
   "source": [
    "x[0]"
   ]
  }
 ],
 "metadata": {
  "kernelspec": {
   "display_name": "Python 3",
   "language": "python",
   "name": "python3"
  }
 },
 "nbformat": 4,
 "nbformat_minor": 4
}
