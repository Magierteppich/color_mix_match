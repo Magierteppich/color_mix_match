{
 "cells": [
  {
   "cell_type": "code",
   "execution_count": 1,
   "metadata": {},
   "outputs": [],
   "source": [
    "import demo_mnm"
   ]
  },
  {
   "cell_type": "code",
   "execution_count": 2,
   "metadata": {},
   "outputs": [
    {
     "name": "stdout",
     "output_type": "stream",
     "text": [
      "All files from the folder /Users/Tianwang/IRONHACK/GIT/06_color_mix_match/00_data/02_target_image have been identified.\n",
      "-----------------------------------------------------------------------------\n",
      "\n",
      "File /Users/Tianwang/IRONHACK/GIT/06_color_mix_match/00_data/02_target_image/.DS_Store is not readable.\n",
      "\n",
      "\n",
      "The target image has been read. The path to the target image is [['/Users/Tianwang/IRONHACK/GIT/06_color_mix_match/00_data/02_target_image/photo-1516048015710-7a3b4c86be43.jpeg']]\n",
      "-----------------------------------------------------------------------------\n",
      "\n",
      "The target image has been resized. It now has a dimension of 220 x 220.\n",
      "-----------------------------------------------------------------------------\n",
      "\n",
      "Noises have been removed from the target image.\n",
      "-----------------------------------------------------------------------------\n",
      "\n",
      "The target image has been successfully preprocessed.\n",
      "-----------------------------------------------------------------------------\n",
      "\n",
      "Hue, saturation and brightness have been determined for the target image.\n",
      "The colorfulness index has been calculated.\n",
      "The contrast has been calculated.\n",
      "The dominant color has been determined.\n",
      "The image temperature has been determined.\n",
      "All charateristics have been calculated and stored.\n"
     ]
    },
    {
     "ename": "FileNotFoundError",
     "evalue": "[Errno 2] No such file or directory: '../00_data/01_demo/boris-smokrovic-DPXytK8Z59Y-unsplash.jpg'",
     "output_type": "error",
     "traceback": [
      "\u001b[0;31m---------------------------------------------------------------------------\u001b[0m",
      "\u001b[0;31mFileNotFoundError\u001b[0m                         Traceback (most recent call last)",
      "\u001b[0;32m<ipython-input-2-04612dca9f14>\u001b[0m in \u001b[0;36m<module>\u001b[0;34m\u001b[0m\n\u001b[0;32m----> 1\u001b[0;31m \u001b[0mdemo_mnm\u001b[0m\u001b[0;34m.\u001b[0m\u001b[0mdemo_mix_n_match\u001b[0m\u001b[0;34m(\u001b[0m\u001b[0;34m\"/Users/Tianwang/IRONHACK/GIT/06_color_mix_match/00_data/02_target_image\"\u001b[0m\u001b[0;34m,\u001b[0m\u001b[0;34m\"photo-1516048015710-7a3b4c86be43.jpeg\"\u001b[0m\u001b[0;34m,\u001b[0m \u001b[0;34m\"demo_knn.dat\"\u001b[0m\u001b[0;34m,\u001b[0m \u001b[0;36m4\u001b[0m\u001b[0;34m)\u001b[0m\u001b[0;34m\u001b[0m\u001b[0;34m\u001b[0m\u001b[0m\n\u001b[0m",
      "\u001b[0;32m~/IRONHACK/GIT/06_color_mix_match/01_notebook/demo/demo_mnm.py\u001b[0m in \u001b[0;36mdemo_mix_n_match\u001b[0;34m(file_path, target_image_name, pickle_file_name, number_of_neighbors)\u001b[0m\n\u001b[1;32m     32\u001b[0m         \u001b[0mscaled_feature_list_knn\u001b[0m \u001b[0;34m=\u001b[0m \u001b[0mscale_feature\u001b[0m\u001b[0;34m(\u001b[0m\u001b[0mfeature_list_knn\u001b[0m\u001b[0;34m)\u001b[0m\u001b[0;34m\u001b[0m\u001b[0;34m\u001b[0m\u001b[0m\n\u001b[1;32m     33\u001b[0m         \u001b[0mlist_of_neighbors\u001b[0m \u001b[0;34m=\u001b[0m \u001b[0mfind_neighbors\u001b[0m\u001b[0;34m(\u001b[0m\u001b[0mall_in_valid_path\u001b[0m\u001b[0;34m,\u001b[0m \u001b[0mfeatures_knn\u001b[0m\u001b[0;34m,\u001b[0m \u001b[0mscaled_feature_list_knn\u001b[0m\u001b[0;34m,\u001b[0m \u001b[0mnumber_of_neighbors\u001b[0m\u001b[0;34m,\u001b[0m \u001b[0mtarget_index\u001b[0m\u001b[0;34m)\u001b[0m\u001b[0;34m\u001b[0m\u001b[0;34m\u001b[0m\u001b[0m\n\u001b[0;32m---> 34\u001b[0;31m         \u001b[0mshow_result_in_plot_knn\u001b[0m\u001b[0;34m(\u001b[0m\u001b[0mlist_of_neighbors\u001b[0m\u001b[0;34m)\u001b[0m\u001b[0;34m\u001b[0m\u001b[0;34m\u001b[0m\u001b[0m\n\u001b[0m\u001b[1;32m     35\u001b[0m         \u001b[0mprint_results\u001b[0m\u001b[0;34m(\u001b[0m\u001b[0mlist_of_neighbors\u001b[0m\u001b[0;34m,\u001b[0m \u001b[0mtarget_index\u001b[0m\u001b[0;34m,\u001b[0m \u001b[0mnumber_of_neighbors\u001b[0m\u001b[0;34m,\u001b[0m \u001b[0mvalid_path\u001b[0m\u001b[0;34m)\u001b[0m\u001b[0;34m\u001b[0m\u001b[0;34m\u001b[0m\u001b[0m\n\u001b[1;32m     36\u001b[0m \u001b[0;34m\u001b[0m\u001b[0m\n",
      "\u001b[0;32m~/IRONHACK/GIT/06_color_mix_match/01_notebook/demo/demo_img_show_knn.py\u001b[0m in \u001b[0;36mshow_result_in_plot_knn\u001b[0;34m(list_of_neighbors)\u001b[0m\n\u001b[1;32m     31\u001b[0m \u001b[0;34m\u001b[0m\u001b[0m\n\u001b[1;32m     32\u001b[0m         \u001b[0;32mfor\u001b[0m \u001b[0mpath\u001b[0m \u001b[0;32min\u001b[0m \u001b[0mlist_of_neighbors\u001b[0m\u001b[0;34m:\u001b[0m\u001b[0;34m\u001b[0m\u001b[0;34m\u001b[0m\u001b[0m\n\u001b[0;32m---> 33\u001b[0;31m             \u001b[0mimg\u001b[0m \u001b[0;34m=\u001b[0m \u001b[0mmpimg\u001b[0m\u001b[0;34m.\u001b[0m\u001b[0mimread\u001b[0m\u001b[0;34m(\u001b[0m\u001b[0mpath\u001b[0m\u001b[0;34m[\u001b[0m\u001b[0;36m0\u001b[0m\u001b[0;34m]\u001b[0m\u001b[0;34m)\u001b[0m\u001b[0;34m\u001b[0m\u001b[0;34m\u001b[0m\u001b[0m\n\u001b[0m\u001b[1;32m     34\u001b[0m             \u001b[0mimg_res\u001b[0m \u001b[0;34m=\u001b[0m \u001b[0mimg_resize_plot\u001b[0m\u001b[0;34m(\u001b[0m\u001b[0mimg\u001b[0m\u001b[0;34m)\u001b[0m\u001b[0;34m\u001b[0m\u001b[0;34m\u001b[0m\u001b[0m\n\u001b[1;32m     35\u001b[0m             \u001b[0mimages_plot\u001b[0m\u001b[0;34m.\u001b[0m\u001b[0mappend\u001b[0m\u001b[0;34m(\u001b[0m\u001b[0mimg_res\u001b[0m\u001b[0;34m)\u001b[0m\u001b[0;34m\u001b[0m\u001b[0;34m\u001b[0m\u001b[0m\n",
      "\u001b[0;32m~/anaconda3/envs/help/lib/python3.7/site-packages/matplotlib/image.py\u001b[0m in \u001b[0;36mimread\u001b[0;34m(fname, format)\u001b[0m\n\u001b[1;32m   1415\u001b[0m                              \u001b[0;34m'with Pillow installed matplotlib can handle '\u001b[0m\u001b[0;34m\u001b[0m\u001b[0;34m\u001b[0m\u001b[0m\n\u001b[1;32m   1416\u001b[0m                              'more images' % list(handlers))\n\u001b[0;32m-> 1417\u001b[0;31m         \u001b[0;32mwith\u001b[0m \u001b[0mImage\u001b[0m\u001b[0;34m.\u001b[0m\u001b[0mopen\u001b[0m\u001b[0;34m(\u001b[0m\u001b[0mfname\u001b[0m\u001b[0;34m)\u001b[0m \u001b[0;32mas\u001b[0m \u001b[0mimage\u001b[0m\u001b[0;34m:\u001b[0m\u001b[0;34m\u001b[0m\u001b[0;34m\u001b[0m\u001b[0m\n\u001b[0m\u001b[1;32m   1418\u001b[0m             \u001b[0;32mreturn\u001b[0m \u001b[0mpil_to_array\u001b[0m\u001b[0;34m(\u001b[0m\u001b[0mimage\u001b[0m\u001b[0;34m)\u001b[0m\u001b[0;34m\u001b[0m\u001b[0;34m\u001b[0m\u001b[0m\n\u001b[1;32m   1419\u001b[0m \u001b[0;34m\u001b[0m\u001b[0m\n",
      "\u001b[0;32m~/anaconda3/envs/help/lib/python3.7/site-packages/PIL/Image.py\u001b[0m in \u001b[0;36mopen\u001b[0;34m(fp, mode)\u001b[0m\n\u001b[1;32m   2841\u001b[0m \u001b[0;34m\u001b[0m\u001b[0m\n\u001b[1;32m   2842\u001b[0m     \u001b[0;32mif\u001b[0m \u001b[0mfilename\u001b[0m\u001b[0;34m:\u001b[0m\u001b[0;34m\u001b[0m\u001b[0;34m\u001b[0m\u001b[0m\n\u001b[0;32m-> 2843\u001b[0;31m         \u001b[0mfp\u001b[0m \u001b[0;34m=\u001b[0m \u001b[0mbuiltins\u001b[0m\u001b[0;34m.\u001b[0m\u001b[0mopen\u001b[0m\u001b[0;34m(\u001b[0m\u001b[0mfilename\u001b[0m\u001b[0;34m,\u001b[0m \u001b[0;34m\"rb\"\u001b[0m\u001b[0;34m)\u001b[0m\u001b[0;34m\u001b[0m\u001b[0;34m\u001b[0m\u001b[0m\n\u001b[0m\u001b[1;32m   2844\u001b[0m         \u001b[0mexclusive_fp\u001b[0m \u001b[0;34m=\u001b[0m \u001b[0;32mTrue\u001b[0m\u001b[0;34m\u001b[0m\u001b[0;34m\u001b[0m\u001b[0m\n\u001b[1;32m   2845\u001b[0m \u001b[0;34m\u001b[0m\u001b[0m\n",
      "\u001b[0;31mFileNotFoundError\u001b[0m: [Errno 2] No such file or directory: '../00_data/01_demo/boris-smokrovic-DPXytK8Z59Y-unsplash.jpg'"
     ]
    }
   ],
   "source": [
    "demo_mnm.demo_mix_n_match(\"/Users/Tianwang/IRONHACK/GIT/06_color_mix_match/00_data/02_target_image\",\"photo-1516048015710-7a3b4c86be43.jpeg\", \"demo_knn.dat\", 4)"
   ]
  },
  {
   "cell_type": "code",
   "execution_count": null,
   "metadata": {},
   "outputs": [],
   "source": []
  }
 ],
 "metadata": {
  "kernelspec": {
   "display_name": "Python 3",
   "language": "python",
   "name": "python3"
  },
  "language_info": {
   "codemirror_mode": {
    "name": "ipython",
    "version": 3
   },
   "file_extension": ".py",
   "mimetype": "text/x-python",
   "name": "python",
   "nbconvert_exporter": "python",
   "pygments_lexer": "ipython3",
   "version": "3.7.7"
  }
 },
 "nbformat": 4,
 "nbformat_minor": 4
}
