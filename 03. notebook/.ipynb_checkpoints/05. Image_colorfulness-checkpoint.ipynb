{
 "cells": [
  {
   "cell_type": "markdown",
   "metadata": {},
   "source": [
    "# 05. Image_colorfulness"
   ]
  },
  {
   "cell_type": "markdown",
   "metadata": {},
   "source": [
    "Theory (Hasler and Süsstrunk paper)\n",
    "\n",
    "They found through these experiments that a simple opponent color space representation along with the mean and standard deviations of these values correlates to 95.3% of the survey data.\n",
    "\n",
    "We now derive their image colorfulness metric:\n",
    "\n",
    "$$rg = R - G$$\n",
    "\n",
    "$$yb = \\frac{1}{2}(R + G) - B$$\n",
    "\n",
    "The above two equations show the opponent color space representation where R is Red, G is Green, and B is Blue. In the first equation, rg is the difference of the Red channel and the Green channel. In the second equation, yb is represents half of the sum of the Red and Green channels minus the Blue channel.\n",
    "\n",
    "Next, the standard deviation (\\sigma_{rgyb}) and mean (\\mu_{rgyb}) are computed before calculating the final colorfulness metric, C.\n",
    "\n",
    "$$\\sigma_{rgyb} = \\sqrt{\\sigma_{rg}^2 + \\sigma_{yb}^2}$$\n",
    "\n",
    "$$\\mu_{rgyb} = \\sqrt{\\mu_{rg}^2 + \\mu_{yb}^2}$$\n",
    "\n",
    "$$C = \\sigma_{rgyb} + 0.3 * \\mu_{rgyb}$$\n",
    "\n",
    "Source: https://www.pyimagesearch.com/2017/06/05/computing-image-colorfulness-with-opencv-and-python/"
   ]
  },
  {
   "cell_type": "code",
   "execution_count": 1,
   "metadata": {},
   "outputs": [],
   "source": [
    "import numpy as np\n",
    "import cv2"
   ]
  },
  {
   "cell_type": "code",
   "execution_count": 23,
   "metadata": {},
   "outputs": [],
   "source": [
    "img = cv2.imread(\"../00_data/00_test_pic/test.jpg\")"
   ]
  },
  {
   "cell_type": "code",
   "execution_count": 24,
   "metadata": {},
   "outputs": [],
   "source": [
    "(B, G, R) = cv2.split(img.astype(\"float\"))"
   ]
  },
  {
   "cell_type": "code",
   "execution_count": 25,
   "metadata": {},
   "outputs": [
    {
     "data": {
      "text/plain": [
       "(2208, 1242, 3)"
      ]
     },
     "execution_count": 25,
     "metadata": {},
     "output_type": "execute_result"
    }
   ],
   "source": [
    "img.shape"
   ]
  },
  {
   "cell_type": "code",
   "execution_count": 26,
   "metadata": {},
   "outputs": [
    {
     "data": {
      "text/plain": [
       "(2208, 1242)"
      ]
     },
     "execution_count": 26,
     "metadata": {},
     "output_type": "execute_result"
    }
   ],
   "source": [
    "B.shape"
   ]
  },
  {
   "cell_type": "code",
   "execution_count": 27,
   "metadata": {},
   "outputs": [],
   "source": [
    "rg = np.absolute(R-G)"
   ]
  },
  {
   "cell_type": "code",
   "execution_count": 28,
   "metadata": {},
   "outputs": [],
   "source": [
    "yb = np.absolute(0.5*(R + G) - B)"
   ]
  },
  {
   "cell_type": "code",
   "execution_count": 29,
   "metadata": {},
   "outputs": [],
   "source": [
    "(rbMean, rbStd) = (np.mean(rg), np.std(rg))\n",
    "(ybMean, ybStd) = (np.mean(yb), np.std(yb))"
   ]
  },
  {
   "cell_type": "code",
   "execution_count": 30,
   "metadata": {},
   "outputs": [],
   "source": [
    "stdRoot = np.sqrt((rbStd ** 2) + (ybStd ** 2))\n",
    "meanRoot = np.sqrt((rbMean ** 2) + (ybMean ** 2))"
   ]
  },
  {
   "cell_type": "code",
   "execution_count": 31,
   "metadata": {},
   "outputs": [],
   "source": [
    "c_metric = stdRoot + (0.3 * meanRoot)"
   ]
  },
  {
   "cell_type": "code",
   "execution_count": 32,
   "metadata": {},
   "outputs": [
    {
     "data": {
      "text/plain": [
       "8.641569933540675"
      ]
     },
     "execution_count": 32,
     "metadata": {},
     "output_type": "execute_result"
    }
   ],
   "source": [
    "c_metric"
   ]
  },
  {
   "cell_type": "markdown",
   "metadata": {},
   "source": [
    "## Wrap it into a function"
   ]
  },
  {
   "cell_type": "code",
   "execution_count": 42,
   "metadata": {},
   "outputs": [],
   "source": [
    "from os.path import isfile, join\n",
    "from os import listdir\n",
    " \n",
    "def get_colorfulness (path_to_library):\n",
    "    \n",
    "    result_colorfulness = []\n",
    "    \n",
    "    file_list = [f for f in listdir(path_to_library) if isfile(join(path_to_library, f))] \n",
    "    \n",
    "    for file_path in file_list: \n",
    "        image = cv2.imread(path_to_library + \"/\" + file_path) # CV2 reads the array in BGR! \n",
    "        \n",
    "        if image is None: \n",
    "            print(f\"The image {file_path} is not readable.\")\n",
    "            \n",
    "        else: \n",
    "            (B, G, R) = cv2.split(image.astype(\"float\"))\n",
    "\n",
    "            rg = np.absolute(R-G)\n",
    "            yb = np.absolute(0.5*(R + G) - B)\n",
    "            \n",
    "            (rbMean, rbStd) = (np.mean(rg), np.std(rg))\n",
    "            (ybMean, ybStd) = (np.mean(yb), np.std(yb))\n",
    "            \n",
    "            stdRoot = np.sqrt((rbStd ** 2) + (ybStd ** 2))\n",
    "            meanRoot = np.sqrt((rbMean ** 2) + (ybMean ** 2))\n",
    "            c_metric = stdRoot + (0.3 * meanRoot) \n",
    "    \n",
    "            temp_result = list([file_path]) + list([c_metric])\n",
    "            result_colorfulness.append(temp_result)\n",
    "    \n",
    "    return result_colorfulness"
   ]
  },
  {
   "cell_type": "code",
   "execution_count": 43,
   "metadata": {},
   "outputs": [
    {
     "name": "stdout",
     "output_type": "stream",
     "text": [
      "The image .DS_Store is not readable.\n"
     ]
    },
    {
     "data": {
      "text/plain": [
       "[['frog_2.jpg', 51.30482972553679],\n",
       " ['test.jpg', 8.641569933540675],\n",
       " ['airplane.jpg', 74.30207655764968],\n",
       " ['red.jpg', 70.37376640956614]]"
      ]
     },
     "execution_count": 43,
     "metadata": {},
     "output_type": "execute_result"
    }
   ],
   "source": [
    "get_colorfulness (\"../00_data/00_test_pic/\")"
   ]
  },
  {
   "cell_type": "code",
   "execution_count": null,
   "metadata": {},
   "outputs": [],
   "source": []
  }
 ],
 "metadata": {
  "kernelspec": {
   "display_name": "Python 3",
   "language": "python",
   "name": "python3"
  },
  "language_info": {
   "codemirror_mode": {
    "name": "ipython",
    "version": 3
   },
   "file_extension": ".py",
   "mimetype": "text/x-python",
   "name": "python",
   "nbconvert_exporter": "python",
   "pygments_lexer": "ipython3",
   "version": "3.7.7"
  }
 },
 "nbformat": 4,
 "nbformat_minor": 4
}
