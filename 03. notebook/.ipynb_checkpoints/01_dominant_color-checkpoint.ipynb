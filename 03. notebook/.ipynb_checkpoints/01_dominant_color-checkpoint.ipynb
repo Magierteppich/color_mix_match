{
 "cells": [
  {
   "cell_type": "code",
   "execution_count": 1,
   "metadata": {},
   "outputs": [],
   "source": [
    "#attention: written in the old mix_match_environment \n",
    "#need update\n",
    "\n",
    "import matplotlib\n",
    "import PIL\n",
    "from PIL import Image\n",
    "import scipy \n",
    "from matplotlib import image as img\n",
    "from matplotlib import pyplot as plt\n",
    "from mpl_toolkits.mplot3d import Axes3D\n",
    "import pandas as pd\n",
    "from sklearn.cluster import KMeans\n",
    "from sklearn.preprocessing import StandardScaler\n",
    "import numpy as np\n",
    "import cv2\n",
    "from os.path import isfile, join\n",
    "from os import listdir\n"
   ]
  },
  {
   "cell_type": "code",
   "execution_count": 2,
   "metadata": {},
   "outputs": [],
   "source": [
    "# read the image first \n",
    "# image is a 3D arrage (M x N x 3) - M and N are the dimensions of the image \n",
    "\n",
    "# img = Image.open(\"../00_data/00_test_pic/frog_2.jpg\")\n",
    "image = cv2.imread(\"../00_data/00_test_pic/test.jpg\")"
   ]
  },
  {
   "cell_type": "code",
   "execution_count": 3,
   "metadata": {},
   "outputs": [],
   "source": [
    "# covert image into RGB values. \n",
    "# each pixel is a list fo 3 numbers, which describes Red, Green and Blue for the specific pixel\n",
    "# the code decomposes each pixel and store the into respective list (red, green, blue)\n",
    "\n",
    "b = []\n",
    "g = []\n",
    "r = []\n",
    "\n",
    "for line in image:\n",
    "    for pixel in line:\n",
    "        temp_b, temp_g, temp_r = pixel\n",
    "        b.append(temp_b)\n",
    "        g.append(temp_g)\n",
    "        r.append(temp_r)\n"
   ]
  },
  {
   "cell_type": "code",
   "execution_count": 4,
   "metadata": {},
   "outputs": [],
   "source": [
    "df = pd.DataFrame({\"blue\" : b, \"green\" : g, \"red\" : r})"
   ]
  },
  {
   "cell_type": "code",
   "execution_count": 5,
   "metadata": {},
   "outputs": [
    {
     "data": {
      "text/html": [
       "<div>\n",
       "<style scoped>\n",
       "    .dataframe tbody tr th:only-of-type {\n",
       "        vertical-align: middle;\n",
       "    }\n",
       "\n",
       "    .dataframe tbody tr th {\n",
       "        vertical-align: top;\n",
       "    }\n",
       "\n",
       "    .dataframe thead th {\n",
       "        text-align: right;\n",
       "    }\n",
       "</style>\n",
       "<table border=\"1\" class=\"dataframe\">\n",
       "  <thead>\n",
       "    <tr style=\"text-align: right;\">\n",
       "      <th></th>\n",
       "      <th>blue</th>\n",
       "      <th>green</th>\n",
       "      <th>red</th>\n",
       "    </tr>\n",
       "  </thead>\n",
       "  <tbody>\n",
       "    <tr>\n",
       "      <th>0</th>\n",
       "      <td>255</td>\n",
       "      <td>255</td>\n",
       "      <td>255</td>\n",
       "    </tr>\n",
       "    <tr>\n",
       "      <th>1</th>\n",
       "      <td>255</td>\n",
       "      <td>255</td>\n",
       "      <td>255</td>\n",
       "    </tr>\n",
       "    <tr>\n",
       "      <th>2</th>\n",
       "      <td>255</td>\n",
       "      <td>255</td>\n",
       "      <td>255</td>\n",
       "    </tr>\n",
       "    <tr>\n",
       "      <th>3</th>\n",
       "      <td>255</td>\n",
       "      <td>255</td>\n",
       "      <td>255</td>\n",
       "    </tr>\n",
       "    <tr>\n",
       "      <th>4</th>\n",
       "      <td>255</td>\n",
       "      <td>255</td>\n",
       "      <td>255</td>\n",
       "    </tr>\n",
       "    <tr>\n",
       "      <th>...</th>\n",
       "      <td>...</td>\n",
       "      <td>...</td>\n",
       "      <td>...</td>\n",
       "    </tr>\n",
       "    <tr>\n",
       "      <th>2742331</th>\n",
       "      <td>72</td>\n",
       "      <td>67</td>\n",
       "      <td>66</td>\n",
       "    </tr>\n",
       "    <tr>\n",
       "      <th>2742332</th>\n",
       "      <td>68</td>\n",
       "      <td>63</td>\n",
       "      <td>62</td>\n",
       "    </tr>\n",
       "    <tr>\n",
       "      <th>2742333</th>\n",
       "      <td>75</td>\n",
       "      <td>70</td>\n",
       "      <td>69</td>\n",
       "    </tr>\n",
       "    <tr>\n",
       "      <th>2742334</th>\n",
       "      <td>74</td>\n",
       "      <td>69</td>\n",
       "      <td>68</td>\n",
       "    </tr>\n",
       "    <tr>\n",
       "      <th>2742335</th>\n",
       "      <td>75</td>\n",
       "      <td>70</td>\n",
       "      <td>69</td>\n",
       "    </tr>\n",
       "  </tbody>\n",
       "</table>\n",
       "<p>2742336 rows × 3 columns</p>\n",
       "</div>"
      ],
      "text/plain": [
       "         blue  green  red\n",
       "0         255    255  255\n",
       "1         255    255  255\n",
       "2         255    255  255\n",
       "3         255    255  255\n",
       "4         255    255  255\n",
       "...       ...    ...  ...\n",
       "2742331    72     67   66\n",
       "2742332    68     63   62\n",
       "2742333    75     70   69\n",
       "2742334    74     69   68\n",
       "2742335    75     70   69\n",
       "\n",
       "[2742336 rows x 3 columns]"
      ]
     },
     "execution_count": 5,
     "metadata": {},
     "output_type": "execute_result"
    }
   ],
   "source": [
    "df"
   ]
  },
  {
   "cell_type": "code",
   "execution_count": 6,
   "metadata": {},
   "outputs": [],
   "source": [
    "model = KMeans(n_clusters=3, init=\"random\")\n",
    "clusters = model.fit(df)"
   ]
  },
  {
   "cell_type": "code",
   "execution_count": 7,
   "metadata": {},
   "outputs": [
    {
     "data": {
      "text/plain": [
       "KMeans(algorithm='auto', copy_x=True, init='random', max_iter=300, n_clusters=3,\n",
       "       n_init=10, n_jobs=None, precompute_distances='auto', random_state=None,\n",
       "       tol=0.0001, verbose=0)"
      ]
     },
     "execution_count": 7,
     "metadata": {},
     "output_type": "execute_result"
    }
   ],
   "source": [
    "clusters"
   ]
  },
  {
   "cell_type": "code",
   "execution_count": 8,
   "metadata": {},
   "outputs": [],
   "source": [
    "df[\"cluster\"] = clusters.predict(df)"
   ]
  },
  {
   "cell_type": "code",
   "execution_count": 9,
   "metadata": {},
   "outputs": [
    {
     "data": {
      "text/plain": [
       "2    1610695\n",
       "1     738544\n",
       "0     393097\n",
       "Name: cluster, dtype: int64"
      ]
     },
     "execution_count": 9,
     "metadata": {},
     "output_type": "execute_result"
    }
   ],
   "source": [
    "df[\"cluster\"].value_counts()"
   ]
  },
  {
   "cell_type": "code",
   "execution_count": 10,
   "metadata": {},
   "outputs": [
    {
     "data": {
      "text/plain": [
       "array([[ 31.28776728,  27.1066207 ,  26.12230942],\n",
       "       [104.91399016, 100.35486186,  99.91892005],\n",
       "       [248.13305118, 248.05587212, 247.9494467 ]])"
      ]
     },
     "execution_count": 10,
     "metadata": {},
     "output_type": "execute_result"
    }
   ],
   "source": [
    "clusters.cluster_centers_"
   ]
  },
  {
   "cell_type": "code",
   "execution_count": 11,
   "metadata": {},
   "outputs": [
    {
     "data": {
      "image/png": "[encoded data removed]",
      "text/plain": [
       "<Figure size 432x288 with 1 Axes>"
      ]
     },
     "metadata": {
      "needs_background": "light"
     },
     "output_type": "display_data"
    }
   ],
   "source": [
    "colors = []\n",
    "\n",
    "for cluster_center in clusters.cluster_centers_:\n",
    "    scaled_b, scaled_g, scaled_r = cluster_center\n",
    "    colors.append((\n",
    "                    scaled_b / 255,\n",
    "                    scaled_g / 255,\n",
    "                    scaled_r / 255\n",
    "                  ))\n",
    "    \n",
    "plt.imshow([colors])\n",
    "plt.show()"
   ]
  },
  {
   "cell_type": "code",
   "execution_count": 14,
   "metadata": {},
   "outputs": [
    {
     "data": {
      "text/plain": [
       "[(0.12269712657156422, 0.10630047335062803, 0.10244042911182138),\n",
       " (0.411427412376049, 0.39354847787376845, 0.3918389021681732),\n",
       " (0.9730707889244702, 0.9727681259685137, 0.9723507713644556)]"
      ]
     },
     "execution_count": 14,
     "metadata": {},
     "output_type": "execute_result"
    }
   ],
   "source": [
    "colors"
   ]
  },
  {
   "cell_type": "code",
   "execution_count": 16,
   "metadata": {},
   "outputs": [
    {
     "data": {
      "image/png": "[encoded data removed]",
      "text/plain": [
       "<Figure size 432x288 with 1 Axes>"
      ]
     },
     "metadata": {
      "needs_background": "light"
     },
     "output_type": "display_data"
    }
   ],
   "source": [
    "test = [(0.12269712657156422, 0.10630047335062803, 0.10244042911182138)]\n",
    "plt.imshow([test])\n",
    "plt.show()"
   ]
  },
  {
   "cell_type": "code",
   "execution_count": 17,
   "metadata": {},
   "outputs": [
    {
     "name": "stdout",
     "output_type": "stream",
     "text": [
      "31.287767275748877 27.106620704410147 26.12230942351445\n",
      "104.9139901558925 100.35486185781096 99.91892005288416\n",
      "248.1330511757399 248.055872121971 247.94944669793617\n"
     ]
    }
   ],
   "source": [
    "# just a test to sea the variables\n",
    "\n",
    "for cluster_center in clusters.cluster_centers_:\n",
    "    scaled_r, scaled_g, scaled_b = cluster_center\n",
    "    print(scaled_r, scaled_g, scaled_b)"
   ]
  },
  {
   "cell_type": "code",
   "execution_count": null,
   "metadata": {},
   "outputs": [],
   "source": [
    "# The example used scipy instead of Sklearn\n",
    "# Example code also standardized the scale for each column of df"
   ]
  },
  {
   "cell_type": "code",
   "execution_count": null,
   "metadata": {},
   "outputs": [],
   "source": [
    "# Try re-do the results inkl. standardization"
   ]
  },
  {
   "cell_type": "code",
   "execution_count": 18,
   "metadata": {},
   "outputs": [],
   "source": [
    "df_2 = df.drop(\"cluster\", axis=1).copy()"
   ]
  },
  {
   "cell_type": "code",
   "execution_count": 19,
   "metadata": {},
   "outputs": [
    {
     "data": {
      "text/html": [
       "<div>\n",
       "<style scoped>\n",
       "    .dataframe tbody tr th:only-of-type {\n",
       "        vertical-align: middle;\n",
       "    }\n",
       "\n",
       "    .dataframe tbody tr th {\n",
       "        vertical-align: top;\n",
       "    }\n",
       "\n",
       "    .dataframe thead th {\n",
       "        text-align: right;\n",
       "    }\n",
       "</style>\n",
       "<table border=\"1\" class=\"dataframe\">\n",
       "  <thead>\n",
       "    <tr style=\"text-align: right;\">\n",
       "      <th></th>\n",
       "      <th>blue</th>\n",
       "      <th>green</th>\n",
       "      <th>red</th>\n",
       "    </tr>\n",
       "  </thead>\n",
       "  <tbody>\n",
       "    <tr>\n",
       "      <th>0</th>\n",
       "      <td>255</td>\n",
       "      <td>255</td>\n",
       "      <td>255</td>\n",
       "    </tr>\n",
       "    <tr>\n",
       "      <th>1</th>\n",
       "      <td>255</td>\n",
       "      <td>255</td>\n",
       "      <td>255</td>\n",
       "    </tr>\n",
       "    <tr>\n",
       "      <th>2</th>\n",
       "      <td>255</td>\n",
       "      <td>255</td>\n",
       "      <td>255</td>\n",
       "    </tr>\n",
       "    <tr>\n",
       "      <th>3</th>\n",
       "      <td>255</td>\n",
       "      <td>255</td>\n",
       "      <td>255</td>\n",
       "    </tr>\n",
       "    <tr>\n",
       "      <th>4</th>\n",
       "      <td>255</td>\n",
       "      <td>255</td>\n",
       "      <td>255</td>\n",
       "    </tr>\n",
       "    <tr>\n",
       "      <th>...</th>\n",
       "      <td>...</td>\n",
       "      <td>...</td>\n",
       "      <td>...</td>\n",
       "    </tr>\n",
       "    <tr>\n",
       "      <th>2742331</th>\n",
       "      <td>72</td>\n",
       "      <td>67</td>\n",
       "      <td>66</td>\n",
       "    </tr>\n",
       "    <tr>\n",
       "      <th>2742332</th>\n",
       "      <td>68</td>\n",
       "      <td>63</td>\n",
       "      <td>62</td>\n",
       "    </tr>\n",
       "    <tr>\n",
       "      <th>2742333</th>\n",
       "      <td>75</td>\n",
       "      <td>70</td>\n",
       "      <td>69</td>\n",
       "    </tr>\n",
       "    <tr>\n",
       "      <th>2742334</th>\n",
       "      <td>74</td>\n",
       "      <td>69</td>\n",
       "      <td>68</td>\n",
       "    </tr>\n",
       "    <tr>\n",
       "      <th>2742335</th>\n",
       "      <td>75</td>\n",
       "      <td>70</td>\n",
       "      <td>69</td>\n",
       "    </tr>\n",
       "  </tbody>\n",
       "</table>\n",
       "<p>2742336 rows × 3 columns</p>\n",
       "</div>"
      ],
      "text/plain": [
       "         blue  green  red\n",
       "0         255    255  255\n",
       "1         255    255  255\n",
       "2         255    255  255\n",
       "3         255    255  255\n",
       "4         255    255  255\n",
       "...       ...    ...  ...\n",
       "2742331    72     67   66\n",
       "2742332    68     63   62\n",
       "2742333    75     70   69\n",
       "2742334    74     69   68\n",
       "2742335    75     70   69\n",
       "\n",
       "[2742336 rows x 3 columns]"
      ]
     },
     "execution_count": 19,
     "metadata": {},
     "output_type": "execute_result"
    }
   ],
   "source": [
    "df_2"
   ]
  },
  {
   "cell_type": "code",
   "execution_count": null,
   "metadata": {},
   "outputs": [],
   "source": [
    "# the exmample shows the scipy whiten function. However, it didn't work here.\n",
    "# However, the whiten function suppose to divide each array by its stdv. So I will calculate it manually"
   ]
  },
  {
   "cell_type": "code",
   "execution_count": 20,
   "metadata": {},
   "outputs": [],
   "source": [
    "b_std, g_std, r_std = df_2[['blue', 'green', 'red']].std() "
   ]
  },
  {
   "cell_type": "code",
   "execution_count": 21,
   "metadata": {},
   "outputs": [],
   "source": [
    "df_2 = df_2.assign(b_scaled = df_2[\"blue\"] / b_std )\n",
    "df_2 = df_2.assign(g_scaled = df_2[\"green\"] / g_std )\n",
    "df_2 = df_2.assign(r_scaled = df_2[\"red\"] / r_std )"
   ]
  },
  {
   "cell_type": "code",
   "execution_count": 22,
   "metadata": {},
   "outputs": [
    {
     "data": {
      "text/html": [
       "<div>\n",
       "<style scoped>\n",
       "    .dataframe tbody tr th:only-of-type {\n",
       "        vertical-align: middle;\n",
       "    }\n",
       "\n",
       "    .dataframe tbody tr th {\n",
       "        vertical-align: top;\n",
       "    }\n",
       "\n",
       "    .dataframe thead th {\n",
       "        text-align: right;\n",
       "    }\n",
       "</style>\n",
       "<table border=\"1\" class=\"dataframe\">\n",
       "  <thead>\n",
       "    <tr style=\"text-align: right;\">\n",
       "      <th></th>\n",
       "      <th>blue</th>\n",
       "      <th>green</th>\n",
       "      <th>red</th>\n",
       "      <th>b_scaled</th>\n",
       "      <th>g_scaled</th>\n",
       "      <th>r_scaled</th>\n",
       "    </tr>\n",
       "  </thead>\n",
       "  <tbody>\n",
       "    <tr>\n",
       "      <th>0</th>\n",
       "      <td>255</td>\n",
       "      <td>255</td>\n",
       "      <td>255</td>\n",
       "      <td>2.890637</td>\n",
       "      <td>2.824433</td>\n",
       "      <td>2.812386</td>\n",
       "    </tr>\n",
       "    <tr>\n",
       "      <th>1</th>\n",
       "      <td>255</td>\n",
       "      <td>255</td>\n",
       "      <td>255</td>\n",
       "      <td>2.890637</td>\n",
       "      <td>2.824433</td>\n",
       "      <td>2.812386</td>\n",
       "    </tr>\n",
       "    <tr>\n",
       "      <th>2</th>\n",
       "      <td>255</td>\n",
       "      <td>255</td>\n",
       "      <td>255</td>\n",
       "      <td>2.890637</td>\n",
       "      <td>2.824433</td>\n",
       "      <td>2.812386</td>\n",
       "    </tr>\n",
       "    <tr>\n",
       "      <th>3</th>\n",
       "      <td>255</td>\n",
       "      <td>255</td>\n",
       "      <td>255</td>\n",
       "      <td>2.890637</td>\n",
       "      <td>2.824433</td>\n",
       "      <td>2.812386</td>\n",
       "    </tr>\n",
       "    <tr>\n",
       "      <th>4</th>\n",
       "      <td>255</td>\n",
       "      <td>255</td>\n",
       "      <td>255</td>\n",
       "      <td>2.890637</td>\n",
       "      <td>2.824433</td>\n",
       "      <td>2.812386</td>\n",
       "    </tr>\n",
       "  </tbody>\n",
       "</table>\n",
       "</div>"
      ],
      "text/plain": [
       "   blue  green  red  b_scaled  g_scaled  r_scaled\n",
       "0   255    255  255  2.890637  2.824433  2.812386\n",
       "1   255    255  255  2.890637  2.824433  2.812386\n",
       "2   255    255  255  2.890637  2.824433  2.812386\n",
       "3   255    255  255  2.890637  2.824433  2.812386\n",
       "4   255    255  255  2.890637  2.824433  2.812386"
      ]
     },
     "execution_count": 22,
     "metadata": {},
     "output_type": "execute_result"
    }
   ],
   "source": [
    "df_2.head()"
   ]
  },
  {
   "cell_type": "code",
   "execution_count": 23,
   "metadata": {},
   "outputs": [],
   "source": [
    "df_2 = df_2.drop([\"blue\", \"green\", \"red\"], axis = 1).copy()"
   ]
  },
  {
   "cell_type": "code",
   "execution_count": 24,
   "metadata": {},
   "outputs": [
    {
     "data": {
      "text/html": [
       "<div>\n",
       "<style scoped>\n",
       "    .dataframe tbody tr th:only-of-type {\n",
       "        vertical-align: middle;\n",
       "    }\n",
       "\n",
       "    .dataframe tbody tr th {\n",
       "        vertical-align: top;\n",
       "    }\n",
       "\n",
       "    .dataframe thead th {\n",
       "        text-align: right;\n",
       "    }\n",
       "</style>\n",
       "<table border=\"1\" class=\"dataframe\">\n",
       "  <thead>\n",
       "    <tr style=\"text-align: right;\">\n",
       "      <th></th>\n",
       "      <th>b_scaled</th>\n",
       "      <th>g_scaled</th>\n",
       "      <th>r_scaled</th>\n",
       "    </tr>\n",
       "  </thead>\n",
       "  <tbody>\n",
       "    <tr>\n",
       "      <th>0</th>\n",
       "      <td>2.890637</td>\n",
       "      <td>2.824433</td>\n",
       "      <td>2.812386</td>\n",
       "    </tr>\n",
       "    <tr>\n",
       "      <th>1</th>\n",
       "      <td>2.890637</td>\n",
       "      <td>2.824433</td>\n",
       "      <td>2.812386</td>\n",
       "    </tr>\n",
       "    <tr>\n",
       "      <th>2</th>\n",
       "      <td>2.890637</td>\n",
       "      <td>2.824433</td>\n",
       "      <td>2.812386</td>\n",
       "    </tr>\n",
       "    <tr>\n",
       "      <th>3</th>\n",
       "      <td>2.890637</td>\n",
       "      <td>2.824433</td>\n",
       "      <td>2.812386</td>\n",
       "    </tr>\n",
       "    <tr>\n",
       "      <th>4</th>\n",
       "      <td>2.890637</td>\n",
       "      <td>2.824433</td>\n",
       "      <td>2.812386</td>\n",
       "    </tr>\n",
       "    <tr>\n",
       "      <th>...</th>\n",
       "      <td>...</td>\n",
       "      <td>...</td>\n",
       "      <td>...</td>\n",
       "    </tr>\n",
       "    <tr>\n",
       "      <th>2742331</th>\n",
       "      <td>0.816180</td>\n",
       "      <td>0.742106</td>\n",
       "      <td>0.727912</td>\n",
       "    </tr>\n",
       "    <tr>\n",
       "      <th>2742332</th>\n",
       "      <td>0.770837</td>\n",
       "      <td>0.697801</td>\n",
       "      <td>0.683796</td>\n",
       "    </tr>\n",
       "    <tr>\n",
       "      <th>2742333</th>\n",
       "      <td>0.850187</td>\n",
       "      <td>0.775335</td>\n",
       "      <td>0.760998</td>\n",
       "    </tr>\n",
       "    <tr>\n",
       "      <th>2742334</th>\n",
       "      <td>0.838852</td>\n",
       "      <td>0.764258</td>\n",
       "      <td>0.749969</td>\n",
       "    </tr>\n",
       "    <tr>\n",
       "      <th>2742335</th>\n",
       "      <td>0.850187</td>\n",
       "      <td>0.775335</td>\n",
       "      <td>0.760998</td>\n",
       "    </tr>\n",
       "  </tbody>\n",
       "</table>\n",
       "<p>2742336 rows × 3 columns</p>\n",
       "</div>"
      ],
      "text/plain": [
       "         b_scaled  g_scaled  r_scaled\n",
       "0        2.890637  2.824433  2.812386\n",
       "1        2.890637  2.824433  2.812386\n",
       "2        2.890637  2.824433  2.812386\n",
       "3        2.890637  2.824433  2.812386\n",
       "4        2.890637  2.824433  2.812386\n",
       "...           ...       ...       ...\n",
       "2742331  0.816180  0.742106  0.727912\n",
       "2742332  0.770837  0.697801  0.683796\n",
       "2742333  0.850187  0.775335  0.760998\n",
       "2742334  0.838852  0.764258  0.749969\n",
       "2742335  0.850187  0.775335  0.760998\n",
       "\n",
       "[2742336 rows x 3 columns]"
      ]
     },
     "execution_count": 24,
     "metadata": {},
     "output_type": "execute_result"
    }
   ],
   "source": [
    "df_2"
   ]
  },
  {
   "cell_type": "code",
   "execution_count": 25,
   "metadata": {},
   "outputs": [],
   "source": [
    "model_2 = KMeans(n_clusters=3, init=\"random\")\n",
    "clusters_2 = model_2.fit(df_2)\n",
    "df_2[\"cluster\"] = clusters_2.predict(df_2)"
   ]
  },
  {
   "cell_type": "code",
   "execution_count": 26,
   "metadata": {},
   "outputs": [
    {
     "data": {
      "text/plain": [
       "1    1610692\n",
       "0     738446\n",
       "2     393198\n",
       "Name: cluster, dtype: int64"
      ]
     },
     "execution_count": 26,
     "metadata": {},
     "output_type": "execute_result"
    }
   ],
   "source": [
    "df_2.cluster.value_counts()"
   ]
  },
  {
   "cell_type": "code",
   "execution_count": 27,
   "metadata": {},
   "outputs": [
    {
     "data": {
      "text/plain": [
       "array([[1.1893306 , 1.11159452, 1.10199287],\n",
       "       [2.81279754, 2.74752134, 2.73462597],\n",
       "       [0.35467831, 0.3002412 , 0.2882118 ]])"
      ]
     },
     "execution_count": 27,
     "metadata": {},
     "output_type": "execute_result"
    }
   ],
   "source": [
    "clusters_2.cluster_centers_"
   ]
  },
  {
   "cell_type": "code",
   "execution_count": 28,
   "metadata": {},
   "outputs": [
    {
     "data": {
      "image/png": "[encoded data removed]",
      "text/plain": [
       "<Figure size 432x288 with 1 Axes>"
      ]
     },
     "metadata": {
      "needs_background": "light"
     },
     "output_type": "display_data"
    }
   ],
   "source": [
    "colors_2 = []\n",
    "\n",
    "for cluster_center in clusters_2.cluster_centers_:\n",
    "    scaled_b, scaled_g, scaled_r = cluster_center\n",
    "    colors_2.append((\n",
    "                    (scaled_b * b_std / 255),\n",
    "                    (scaled_g * g_std / 255),\n",
    "                    (scaled_r * r_std / 255)\n",
    "                  ))\n",
    "\n",
    "plt.imshow([colors_2])\n",
    "plt.show()"
   ]
  },
  {
   "cell_type": "code",
   "execution_count": 29,
   "metadata": {},
   "outputs": [
    {
     "data": {
      "text/plain": [
       "[(0.4114423233441126, 0.39356375517985814, 0.3918356271728474),\n",
       " (0.9730717032456544, 0.9727691101267253, 0.9723510119101846),\n",
       " (0.12269899262671721, 0.10630140055427577, 0.10247947643770514)]"
      ]
     },
     "execution_count": 29,
     "metadata": {},
     "output_type": "execute_result"
    }
   ],
   "source": [
    "colors_2"
   ]
  },
  {
   "cell_type": "code",
   "execution_count": 30,
   "metadata": {},
   "outputs": [],
   "source": [
    "color_1_r, color_1_g, color_1_b = colors_2[0]\n",
    "color_2_r, color_2_g, color_2_b = colors_2[1]\n",
    "color_3_r, color_3_g, color_3_b = colors_2[2]"
   ]
  },
  {
   "cell_type": "markdown",
   "metadata": {},
   "source": [
    "#### --> both appraoches deliver very similar results. Therefore, use the more simple one moving forward"
   ]
  },
  {
   "cell_type": "markdown",
   "metadata": {},
   "source": [
    "## Write a function, which takes in a folder and returns a dataframe with 9 columns for the dominant colors. "
   ]
  },
  {
   "cell_type": "code",
   "execution_count": null,
   "metadata": {},
   "outputs": [],
   "source": [
    "def dominant_color (path_to_library):\n",
    "    \n",
    "    b = []\n",
    "    g = []\n",
    "    r = []\n",
    "    colors = []\n",
    "    result_df = pd.DataFrame.from_dict({\"file_path\" : [],\n",
    "                                        \"color_1_r\" : [],\n",
    "                                        \"color_1_g\" : [],\n",
    "                                        \"color_1_b\" : [],\n",
    "                                        \"color_2_r\" : [],\n",
    "                                        \"color_2_g\" : [],\n",
    "                                        \"color_2_b\" : [],\n",
    "                                        \"color_3_r\" : [],\n",
    "                                        \"color_3_g\" : [],\n",
    "                                        \"color_3_b\" : [],\n",
    "                                       })\n",
    "    \n",
    "    file_list = [f for f in listdir(path_to_library) if isfile(join(path_to_library, f))] \n",
    "\n",
    "    for file_path in file_list: \n",
    "        image = cv2.imread(path_to_library + \"/\" + file_path)\n",
    "       \n",
    "        if image is None: \n",
    "            print(f\"The image {file_path} is not readable.\")\n",
    "        else: \n",
    "            for line in image:\n",
    "                for pixel in line:\n",
    "                    temp_b, temp_g, temp_r = pixel\n",
    "                    b.append(temp_b)\n",
    "                    g.append(temp_g)\n",
    "                    r.append(temp_r)\n",
    "        \n",
    "                    df_temp = pd.DataFrame({\"blue\" : b, \"green\" : g, \"red\" : r})\n",
    "            \n",
    "           # Applying KMeans to find the 3 clusters. \n",
    "        \n",
    "            model = KMeans(n_clusters=3, init=\"random\")\n",
    "            clusters = model.fit(df_temp)\n",
    "            df_temp[\"cluster\"] = clusters.predict(df_temp)\n",
    "            \n",
    "           # Identify the cluster_center of each cluster. The cluster_center is a tuple consisting of b,g,r value.\n",
    "           \n",
    "            for cluster_center in clusters.cluster_centers_:\n",
    "                scaled_b, scaled_g, scaled_r = cluster_center\n",
    "                colors.append((\n",
    "                                 scaled_b / 255,\n",
    "                                 scaled_g / 255,\n",
    "                                 scaled_r / 255\n",
    "                               ))\n",
    "             \n",
    "           # returning the value of the 3 cluster_centers: \n",
    "            color_1_r, color_1_g, color_1_b = colors[0]\n",
    "            color_2_r, color_2_g, color_2_b = colors[1]\n",
    "            color_3_r, color_3_g, color_3_b = colors[2]\n",
    "           \n",
    "           # Putting all results together into a dataframe\n",
    "            result_df = result_df.append({\"file_path\" : [file_path],\n",
    "                                            \"color_1_r\" : [color_1_r],\n",
    "                                            \"color_1_g\" : [color_1_g],\n",
    "                                            \"color_1_b\" : [color_1_b],\n",
    "                                            \"color_2_r\" : [color_2_r],\n",
    "                                            \"color_2_g\" : [color_2_g],\n",
    "                                            \"color_2_b\" : [color_2_b],\n",
    "                                            \"color_3_r\" : [color_3_r],\n",
    "                                            \"color_3_g\" : [color_3_g],\n",
    "                                            \"color_3_b\" : [color_3_b],\n",
    "                                           })\n",
    "            \n",
    "    return result_df"
   ]
  },
  {
   "cell_type": "code",
   "execution_count": null,
   "metadata": {},
   "outputs": [],
   "source": [
    "# dominant_color(\"../00_data/00_test_pic\")"
   ]
  },
  {
   "cell_type": "markdown",
   "metadata": {},
   "source": [
    "### The script takes way to long to run. --> alternative is needed! "
   ]
  },
  {
   "cell_type": "markdown",
   "metadata": {},
   "source": [
    "--> New approach 01a_dominant_color"
   ]
  }
 ],
 "metadata": {
  "kernelspec": {
   "display_name": "Python 3",
   "language": "python",
   "name": "python3"
  },
  "language_info": {
   "codemirror_mode": {
    "name": "ipython",
    "version": 3
   },
   "file_extension": ".py",
   "mimetype": "text/x-python",
   "name": "python",
   "nbconvert_exporter": "python",
   "pygments_lexer": "ipython3",
   "version": "3.7.7"
  }
 },
 "nbformat": 4,
 "nbformat_minor": 4
}
