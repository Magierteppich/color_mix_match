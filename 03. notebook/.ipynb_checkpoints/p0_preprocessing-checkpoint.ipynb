{
 "cells": [
  {
   "cell_type": "markdown",
   "metadata": {},
   "source": [
    "# 0. Image preprocessing\n",
    "\n",
    "- write functions, which retrieve the images and get them prepared for the feature extraction.\n",
    "\n",
    "Sources: https://towardsdatascience.com/image-pre-processing-c1aec0be3edf"
   ]
  },
  {
   "cell_type": "markdown",
   "metadata": {},
   "source": [
    "## Retrieving pictures"
   ]
  },
  {
   "cell_type": "code",
   "execution_count": 1,
   "metadata": {},
   "outputs": [],
   "source": [
    "import cv2\n",
    "import numpy as np\n",
    "import matplotlib.pyplot as plt\n",
    "from os.path import isfile, join\n",
    "from os import listdir"
   ]
  },
  {
   "cell_type": "code",
   "execution_count": 2,
   "metadata": {},
   "outputs": [],
   "source": [
    "def get_file_path (path_to_library):\n",
    "    \n",
    "    file_list = [path_to_library + \"/\" + f for f in listdir(path_to_library) if isfile(join(path_to_library, f))]\n",
    "    return file_list"
   ]
  },
  {
   "cell_type": "code",
   "execution_count": 3,
   "metadata": {},
   "outputs": [
    {
     "data": {
      "text/plain": [
       "['../00_data/00_test_pic/.DS_Store',\n",
       " '../00_data/00_test_pic/frog_2.jpg',\n",
       " '../00_data/00_test_pic/test.jpg',\n",
       " '../00_data/00_test_pic/red.jpg']"
      ]
     },
     "execution_count": 3,
     "metadata": {},
     "output_type": "execute_result"
    }
   ],
   "source": [
    "get_file_path (\"../00_data/00_test_pic\")"
   ]
  },
  {
   "cell_type": "markdown",
   "metadata": {},
   "source": [
    "## Preprocessing"
   ]
  },
  {
   "cell_type": "code",
   "execution_count": 16,
   "metadata": {},
   "outputs": [
    {
     "data": {
      "text/plain": [
       "['../00_data/00_test_pic/.DS_Store',\n",
       " '../00_data/00_test_pic/frog_2.jpg',\n",
       " '../00_data/00_test_pic/test.jpg',\n",
       " '../00_data/00_test_pic/red.jpg']"
      ]
     },
     "execution_count": 16,
     "metadata": {},
     "output_type": "execute_result"
    }
   ],
   "source": [
    "file_list = get_file_path (\"../00_data/00_test_pic\")"
   ]
  },
  {
   "cell_type": "markdown",
   "metadata": {},
   "source": [
    "### 0. Reading images"
   ]
  },
  {
   "cell_type": "code",
   "execution_count": 42,
   "metadata": {},
   "outputs": [],
   "source": [
    "def image_read(file_list):\n",
    "    \n",
    "    img_list = []        \n",
    "\n",
    "    for file_path in file_list: \n",
    "  \n",
    "    # read all images and put the image-array into the img_list\n",
    "        \n",
    "        img = cv2.imread(file_path) # CV2 reads in BGR! \n",
    "    \n",
    "        if img is None: \n",
    "            print(f\"File {file_path} is not readable.\")      \n",
    "        else:\n",
    "            img_list.append(img)\n",
    "        \n",
    "    return img_list"
   ]
  },
  {
   "cell_type": "code",
   "execution_count": 51,
   "metadata": {},
   "outputs": [
    {
     "name": "stdout",
     "output_type": "stream",
     "text": [
      "File ../00_data/00_test_pic/.DS_Store is not readable.\n"
     ]
    },
    {
     "data": {
      "text/plain": [
       "(2208, 1242, 3)"
      ]
     },
     "execution_count": 51,
     "metadata": {},
     "output_type": "execute_result"
    }
   ],
   "source": [
    "img_list = image_read(file_list)\n",
    "img_list[1].shape"
   ]
  },
  {
   "cell_type": "markdown",
   "metadata": {},
   "source": [
    "### 1. Resizing"
   ]
  },
  {
   "cell_type": "code",
   "execution_count": 44,
   "metadata": {},
   "outputs": [],
   "source": [
    "def image_resize (img_list, height = 220, width = 220):\n",
    "    \n",
    "    dim = (width, height)\n",
    "    res_img = []\n",
    "    \n",
    "    for i in range(len(img_list)):\n",
    "        res = cv2.resize(img_list[i], dim, interpolation = cv2.INTER_LINEAR)\n",
    "        res_img.append(res)\n",
    "    \n",
    "    return res_img "
   ]
  },
  {
   "cell_type": "code",
   "execution_count": 52,
   "metadata": {},
   "outputs": [
    {
     "data": {
      "text/plain": [
       "(220, 220, 3)"
      ]
     },
     "execution_count": 52,
     "metadata": {},
     "output_type": "execute_result"
    }
   ],
   "source": [
    "res_img = image_resize (img_list)\n",
    "res_img[1].shape"
   ]
  },
  {
   "cell_type": "markdown",
   "metadata": {},
   "source": [
    "### 2. Denoise"
   ]
  },
  {
   "cell_type": "code",
   "execution_count": 53,
   "metadata": {},
   "outputs": [],
   "source": [
    "def image_denoise (res_img):\n",
    "    \n",
    "    img_denoise = []\n",
    "    for i in range(len(res_img)):\n",
    "        blur = cv2.GaussianBlur(res_img[i], (5,5), 0)\n",
    "        img_denoise.append(blur)\n",
    "        \n",
    "    return img_denoise"
   ]
  },
  {
   "cell_type": "code",
   "execution_count": 54,
   "metadata": {},
   "outputs": [
    {
     "data": {
      "text/plain": [
       "[array([[[ 39,  97,  43],\n",
       "         [ 39,  97,  43],\n",
       "         [ 39,  97,  43],\n",
       "         ...,\n",
       "         [ 22,  62,  23],\n",
       "         [ 24,  60,  24],\n",
       "         [ 25,  60,  25]],\n",
       " \n",
       "        [[ 39,  97,  43],\n",
       "         [ 39,  97,  43],\n",
       "         [ 39,  97,  43],\n",
       "         ...,\n",
       "         [ 22,  62,  23],\n",
       "         [ 24,  60,  24],\n",
       "         [ 25,  60,  25]],\n",
       " \n",
       "        [[ 39,  97,  43],\n",
       "         [ 39,  97,  43],\n",
       "         [ 39,  97,  43],\n",
       "         ...,\n",
       "         [ 22,  62,  23],\n",
       "         [ 24,  60,  24],\n",
       "         [ 26,  60,  25]],\n",
       " \n",
       "        ...,\n",
       " \n",
       "        [[ 15, 112,  37],\n",
       "         [ 15, 112,  37],\n",
       "         [ 15, 113,  37],\n",
       "         ...,\n",
       "         [ 27, 127,  53],\n",
       "         [ 29, 129,  55],\n",
       "         [ 30, 131,  57]],\n",
       " \n",
       "        [[ 15, 111,  37],\n",
       "         [ 15, 111,  37],\n",
       "         [ 14, 111,  37],\n",
       "         ...,\n",
       "         [ 26, 127,  53],\n",
       "         [ 28, 129,  56],\n",
       "         [ 30, 131,  58]],\n",
       " \n",
       "        [[ 15, 110,  36],\n",
       "         [ 15, 111,  36],\n",
       "         [ 14, 111,  36],\n",
       "         ...,\n",
       "         [ 26, 127,  53],\n",
       "         [ 28, 130,  56],\n",
       "         [ 29, 131,  58]]], dtype=uint8),\n",
       " array([[[255, 255, 255],\n",
       "         [255, 255, 255],\n",
       "         [255, 255, 255],\n",
       "         ...,\n",
       "         [255, 255, 255],\n",
       "         [255, 255, 255],\n",
       "         [255, 255, 255]],\n",
       " \n",
       "        [[255, 255, 255],\n",
       "         [255, 255, 255],\n",
       "         [255, 255, 255],\n",
       "         ...,\n",
       "         [255, 255, 255],\n",
       "         [255, 255, 255],\n",
       "         [255, 255, 255]],\n",
       " \n",
       "        [[255, 255, 255],\n",
       "         [255, 255, 255],\n",
       "         [255, 255, 255],\n",
       "         ...,\n",
       "         [255, 255, 255],\n",
       "         [255, 255, 255],\n",
       "         [255, 255, 255]],\n",
       " \n",
       "        ...,\n",
       " \n",
       "        [[ 83,  78,  77],\n",
       "         [ 82,  77,  76],\n",
       "         [ 82,  77,  76],\n",
       "         ...,\n",
       "         [ 75,  70,  69],\n",
       "         [ 76,  71,  70],\n",
       "         [ 76,  71,  70]],\n",
       " \n",
       "        [[ 83,  78,  77],\n",
       "         [ 82,  77,  76],\n",
       "         [ 82,  77,  76],\n",
       "         ...,\n",
       "         [ 77,  72,  71],\n",
       "         [ 77,  72,  71],\n",
       "         [ 77,  72,  71]],\n",
       " \n",
       "        [[ 83,  78,  77],\n",
       "         [ 82,  77,  76],\n",
       "         [ 82,  77,  76],\n",
       "         ...,\n",
       "         [ 78,  73,  72],\n",
       "         [ 79,  74,  73],\n",
       "         [ 79,  74,  73]]], dtype=uint8),\n",
       " array([[[ 65,  40, 129],\n",
       "         [ 65,  40, 131],\n",
       "         [ 64,  38, 131],\n",
       "         ...,\n",
       "         [ 57,  39, 132],\n",
       "         [ 51,  34, 126],\n",
       "         [ 47,  31, 122]],\n",
       " \n",
       "        [[ 64,  40, 129],\n",
       "         [ 64,  39, 130],\n",
       "         [ 62,  36, 129],\n",
       "         ...,\n",
       "         [ 61,  44, 136],\n",
       "         [ 56,  39, 131],\n",
       "         [ 53,  37, 128]],\n",
       " \n",
       "        [[ 62,  37, 128],\n",
       "         [ 61,  35, 128],\n",
       "         [ 57,  31, 126],\n",
       "         ...,\n",
       "         [ 65,  48, 138],\n",
       "         [ 63,  46, 137],\n",
       "         [ 62,  45, 137]],\n",
       " \n",
       "        ...,\n",
       " \n",
       "        [[ 28,  11, 104],\n",
       "         [ 30,  13, 104],\n",
       "         [ 33,  17, 105],\n",
       "         ...,\n",
       "         [ 17,  14,  50],\n",
       "         [ 16,  14,  42],\n",
       "         [ 14,  14,  37]],\n",
       " \n",
       "        [[ 26,  10, 100],\n",
       "         [ 26,  11, 100],\n",
       "         [ 27,  12,  99],\n",
       "         ...,\n",
       "         [ 19,  16,  50],\n",
       "         [ 16,  15,  39],\n",
       "         [ 14,  14,  33]],\n",
       " \n",
       "        [[ 26,  10, 100],\n",
       "         [ 26,  10,  99],\n",
       "         [ 25,  10,  98],\n",
       "         ...,\n",
       "         [ 21,  18,  50],\n",
       "         [ 17,  16,  38],\n",
       "         [ 15,  15,  33]]], dtype=uint8)]"
      ]
     },
     "execution_count": 54,
     "metadata": {},
     "output_type": "execute_result"
    }
   ],
   "source": [
    "image_denoise (res_img)"
   ]
  },
  {
   "cell_type": "markdown",
   "metadata": {},
   "source": [
    "## Combine all functions into 1 module - image_preprocessing"
   ]
  },
  {
   "cell_type": "code",
   "execution_count": null,
   "metadata": {},
   "outputs": [],
   "source": [
    "from os.path import isfile, join\n",
    "from os import listdir\n",
    "import cv2\n",
    "\n",
    "\n",
    "def image_ready(path_to_library): \n",
    "\n",
    "    img_ready = image_denoise(image_resize(read_image(get_file_path(path_to_library, height = 220, width = 220))))\n",
    "    return img_ready\n",
    "\n",
    "\n",
    "def get_file_path (path_to_library):\n",
    "    \n",
    "    file_list = [path_to_library + \"/\" + f for f in listdir(path_to_library) if isfile(join(path_to_library, f))] \n",
    "    return file_list\n",
    "\n",
    "def image_read (file_list):\n",
    "    \n",
    "    img_list = []        \n",
    "\n",
    "    for file_path in file_list: \n",
    "  \n",
    "    # read all images and put the image-array into the img_list\n",
    "        \n",
    "        img = cv2.imread(file_path) # CV2 reads in BGR! \n",
    "    \n",
    "        if img is None: \n",
    "            print(f\"File {file_path} is not readable.\")      \n",
    "        else:\n",
    "            img_list.append(img)\n",
    "        \n",
    "    return img_list\n",
    "\n",
    "\n",
    "def image_resize (img_list, height = 220, width = 220):\n",
    "    \n",
    "    dim = (width, height)\n",
    "    res_img = []\n",
    "    \n",
    "    for i in range(len(img_list)):\n",
    "        res = cv2.resize(img_list[i], dim, interpolation = cv2.INTER_LINEAR)\n",
    "        res_img.append(res)\n",
    "    \n",
    "    return res_img \n",
    "\n",
    "def image_denoise (res_img):\n",
    "    \n",
    "    img_denoise = []\n",
    "    for i in range(len(res_img)):\n",
    "        blur = cv2.GaussianBlur(res_img[i], (5,5), 0)\n",
    "        img.denoise = img_denoise.append(blur)\n",
    "\n",
    "        \n",
    "    return img_denoise\n"
   ]
  }
 ],
 "metadata": {
  "kernelspec": {
   "display_name": "Python 3",
   "language": "python",
   "name": "python3"
  },
  "language_info": {
   "codemirror_mode": {
    "name": "ipython",
    "version": 3
   },
   "file_extension": ".py",
   "mimetype": "text/x-python",
   "name": "python",
   "nbconvert_exporter": "python",
   "pygments_lexer": "ipython3",
   "version": "3.7.7"
  }
 },
 "nbformat": 4,
 "nbformat_minor": 4
}
