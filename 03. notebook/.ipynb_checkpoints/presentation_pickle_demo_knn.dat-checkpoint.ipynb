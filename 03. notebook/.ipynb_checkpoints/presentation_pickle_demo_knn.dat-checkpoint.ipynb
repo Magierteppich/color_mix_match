{
 "cells": [
  {
   "cell_type": "markdown",
   "metadata": {},
   "source": [
    "### 1. Run KNN model with 100 existing pictures.  \n",
    "\n",
    "And pickle the results for further usage. "
   ]
  },
  {
   "cell_type": "code",
   "execution_count": 5,
   "metadata": {},
   "outputs": [],
   "source": [
    "from img_preprocess import *\n",
    "from img_feature import *\n",
    "from img_knn import *"
   ]
  },
  {
   "cell_type": "code",
   "execution_count": 6,
   "metadata": {},
   "outputs": [
    {
     "name": "stdout",
     "output_type": "stream",
     "text": [
      "File ../00_data/01_demo/.DS_Store is not readable.\n"
     ]
    }
   ],
   "source": [
    "image_ready, valid_path = img_ready(\"/Users/Tianwang/IRONHACK/GIT/06_color_mix_match/00_data/01_demo/boris-smokrovic-DPXytK8Z59Y-unsplash.jpg/00_data/01_demo\")"
   ]
  },
  {
   "cell_type": "code",
   "execution_count": 7,
   "metadata": {},
   "outputs": [],
   "source": [
    "features, feature_list = img_get_feature(image_ready, valid_path)\n"
   ]
  },
  {
   "cell_type": "code",
   "execution_count": 8,
   "metadata": {},
   "outputs": [],
   "source": [
    "import pickle"
   ]
  },
  {
   "cell_type": "code",
   "execution_count": 10,
   "metadata": {},
   "outputs": [],
   "source": [
    "file_name_outfile = \"demo_knn.dat\"\n",
    "for_pickle = [image_ready, valid_path, features, feature_list]\n",
    "\n",
    "outfile = open(file_name_outfile, \"wb\") \n",
    "pickle.dump(for_pickle, outfile)\n",
    "outfile.close()\n",
    "\n",
    "\n",
    "# pickled the img_ready, valid_path, features, feature_list to a pickle file. "
   ]
  },
  {
   "cell_type": "code",
   "execution_count": null,
   "metadata": {},
   "outputs": [],
   "source": []
  }
 ],
 "metadata": {
  "kernelspec": {
   "display_name": "Python 3",
   "language": "python",
   "name": "python3"
  },
  "language_info": {
   "codemirror_mode": {
    "name": "ipython",
    "version": 3
   },
   "file_extension": ".py",
   "mimetype": "text/x-python",
   "name": "python",
   "nbconvert_exporter": "python",
   "pygments_lexer": "ipython3",
   "version": "3.7.7"
  }
 },
 "nbformat": 4,
 "nbformat_minor": 4
}
