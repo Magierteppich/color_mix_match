{
 "cells": [
  {
   "cell_type": "markdown",
   "metadata": {},
   "source": [
    "# 0. Image preprocessing\n",
    "\n",
    "- write functions, which retrieve the images and get them prepared for the feature extraction.\n",
    "\n",
    "Sources: https://towardsdatascience.com/image-pre-processing-c1aec0be3edf"
   ]
  },
  {
   "cell_type": "markdown",
   "metadata": {},
   "source": [
    "## Retrieving pictures"
   ]
  },
  {
   "cell_type": "code",
   "execution_count": 1,
   "metadata": {},
   "outputs": [],
   "source": [
    "import cv2\n",
    "import numpy as np\n",
    "import matplotlib.pyplot as plt\n",
    "from os.path import isfile, join\n",
    "from os import listdir"
   ]
  },
  {
   "cell_type": "code",
   "execution_count": 22,
   "metadata": {},
   "outputs": [],
   "source": [
    "def get_file_path (path_to_library):\n",
    "    \n",
    "    file_list = [path_to_library + \"/\" + f for f in listdir(path_to_library) if isfile(join(path_to_library, f))]\n",
    "    return file_list"
   ]
  },
  {
   "cell_type": "code",
   "execution_count": 23,
   "metadata": {},
   "outputs": [
    {
     "data": {
      "text/plain": [
       "['../00_data/00_test_pic/.DS_Store',\n",
       " '../00_data/00_test_pic/frog_2.jpg',\n",
       " '../00_data/00_test_pic/test.jpg',\n",
       " '../00_data/00_test_pic/red.jpg']"
      ]
     },
     "execution_count": 23,
     "metadata": {},
     "output_type": "execute_result"
    }
   ],
   "source": [
    "get_file_path (\"../00_data/00_test_pic\")"
   ]
  },
  {
   "cell_type": "markdown",
   "metadata": {},
   "source": [
    "## Preprocessing"
   ]
  },
  {
   "cell_type": "markdown",
   "metadata": {},
   "source": [
    "### 1. Resizing"
   ]
  },
  {
   "cell_type": "code",
   "execution_count": 25,
   "metadata": {},
   "outputs": [],
   "source": [
    "file_list = get_file_path (\"../00_data/00_test_pic\")"
   ]
  },
  {
   "cell_type": "code",
   "execution_count": 26,
   "metadata": {},
   "outputs": [],
   "source": [
    "def image_resize (file_list, height = 220, width = 220):\n",
    "        \n",
    "    for file_path in file_list: \n",
    "        \n",
    "        # read all images and put the image-array into the image_list\n",
    "        img_list = []\n",
    "        img = cv2.imread(file_path) # CV2 reads the array in BGR! \n",
    "            \n",
    "        if img is None: \n",
    "            print(f\"File {file_path} is not readable.\")      \n",
    "        else:\n",
    "            img_list.append(img)\n",
    "    \n",
    "    dim = (width, height)\n",
    "    res_img = []\n",
    "    \n",
    "\n",
    "    for i in range(len(image_list)):\n",
    "        res = cv2.resize(img_list[i], dim, interpolation = cv2.INTER_LINEAR)\n",
    "        res_img.append(res)\n",
    "    \n",
    "    return res_img "
   ]
  },
  {
   "cell_type": "code",
   "execution_count": 17,
   "metadata": {},
   "outputs": [
    {
     "name": "stdout",
     "output_type": "stream",
     "text": [
      "File ../00_data/00_test_pic/.DS_Store is not readable.\n"
     ]
    }
   ],
   "source": [
    "res_img = image_resize (file_list)"
   ]
  },
  {
   "cell_type": "markdown",
   "metadata": {},
   "source": [
    "### 2. Denoise"
   ]
  },
  {
   "cell_type": "code",
   "execution_count": 18,
   "metadata": {},
   "outputs": [],
   "source": [
    "def image_denoise (res_img):\n",
    "    \n",
    "    img_denoise = []\n",
    "    for i in range(len(res_img)):\n",
    "        blur = cv2.GaussianBlur(res_img[i], (5,5), 0)\n",
    "        img_denoise.append(blur)\n",
    "        \n",
    "    return img_denoise"
   ]
  },
  {
   "cell_type": "code",
   "execution_count": 19,
   "metadata": {},
   "outputs": [
    {
     "data": {
      "text/plain": [
       "[array([[[ 65,  40, 129],\n",
       "         [ 65,  40, 131],\n",
       "         [ 64,  38, 131],\n",
       "         ...,\n",
       "         [ 57,  39, 132],\n",
       "         [ 51,  34, 126],\n",
       "         [ 47,  31, 122]],\n",
       " \n",
       "        [[ 64,  40, 129],\n",
       "         [ 64,  39, 130],\n",
       "         [ 62,  36, 129],\n",
       "         ...,\n",
       "         [ 61,  44, 136],\n",
       "         [ 56,  39, 131],\n",
       "         [ 53,  37, 128]],\n",
       " \n",
       "        [[ 62,  37, 128],\n",
       "         [ 61,  35, 128],\n",
       "         [ 57,  31, 126],\n",
       "         ...,\n",
       "         [ 65,  48, 138],\n",
       "         [ 63,  46, 137],\n",
       "         [ 62,  45, 137]],\n",
       " \n",
       "        ...,\n",
       " \n",
       "        [[ 28,  11, 104],\n",
       "         [ 30,  13, 104],\n",
       "         [ 33,  17, 105],\n",
       "         ...,\n",
       "         [ 17,  14,  50],\n",
       "         [ 16,  14,  42],\n",
       "         [ 14,  14,  37]],\n",
       " \n",
       "        [[ 26,  10, 100],\n",
       "         [ 26,  11, 100],\n",
       "         [ 27,  12,  99],\n",
       "         ...,\n",
       "         [ 19,  16,  50],\n",
       "         [ 16,  15,  39],\n",
       "         [ 14,  14,  33]],\n",
       " \n",
       "        [[ 26,  10, 100],\n",
       "         [ 26,  10,  99],\n",
       "         [ 25,  10,  98],\n",
       "         ...,\n",
       "         [ 21,  18,  50],\n",
       "         [ 17,  16,  38],\n",
       "         [ 15,  15,  33]]], dtype=uint8)]"
      ]
     },
     "execution_count": 19,
     "metadata": {},
     "output_type": "execute_result"
    }
   ],
   "source": [
    "image_denoise (res_img)"
   ]
  },
  {
   "cell_type": "markdown",
   "metadata": {},
   "source": [
    "## Combine all functions into 1 module - image_preprocessing"
   ]
  },
  {
   "cell_type": "code",
   "execution_count": null,
   "metadata": {},
   "outputs": [],
   "source": [
    "## Module image_preprocessing.py\n",
    "\n",
    "from os.path import isfile, join\n",
    "from os import listdir\n",
    "import cv2\n",
    "\n",
    "\n",
    "def image_ready(path_to_library): \n",
    "\n",
    "    img_ready = image_denoise(image_resize(get_file_path(path_to_library)))\n",
    "    \n",
    "    return img_ready\n",
    "\n",
    "\n",
    "def get_file_path (path_to_library):\n",
    "    \n",
    "    file_list = [path_to_library + \"/\" + f for f in listdir(path_to_library) if isfile(join(path_to_library, f))] \n",
    "\n",
    "    return file_list\n",
    "\n",
    "\n",
    "def image_resize (file_list, height = 220, width = 220):\n",
    "    \n",
    "    for file_path in file_list: \n",
    "   \n",
    "    # read all images and put the image-array into the image_list\n",
    "    img_list = []\n",
    "    img = cv2.imread(file_path) # CV2 reads the array in BGR! \n",
    "        \n",
    "    if img is None: \n",
    "        print(f\"File {file_path} is not readable.\")      \n",
    "    else:\n",
    "        img_list.append(img)\n",
    "\n",
    "    dim = (width, height)\n",
    "    res_img = []\n",
    "    \n",
    "    for i in range(len(img_list)):\n",
    "        res = cv2.resize(img_list[i], dim, interpolation = cv2.INTER_LINEAR)\n",
    "        res_img.append(res)\n",
    "    \n",
    "    return res_img \n",
    "    \n",
    "    \n",
    "def image_denoise (res_img):\n",
    "    \n",
    "    img_denoise = []\n",
    "    for i in range(len(res_img)):\n",
    "        blur = cv2.GaussianBlur(res_img[i], (5,5), 0)\n",
    "        img_denoise.append(blur)\n",
    "        \n",
    "    return img_denoise\n"
   ]
  },
  {
   "cell_type": "code",
   "execution_count": 11,
   "metadata": {},
   "outputs": [],
   "source": [
    "# test the module\n",
    "\n",
    "import image_preprocessing as ip"
   ]
  },
  {
   "cell_type": "code",
   "execution_count": 12,
   "metadata": {},
   "outputs": [
    {
     "name": "stdout",
     "output_type": "stream",
     "text": [
      "File ../00_data/00_test_pic/.DS_Store is not readable.\n"
     ]
    },
    {
     "data": {
      "text/plain": [
       "[array([[[ 65,  40, 129],\n",
       "         [ 65,  40, 131],\n",
       "         [ 64,  38, 131],\n",
       "         ...,\n",
       "         [ 57,  39, 132],\n",
       "         [ 51,  34, 126],\n",
       "         [ 47,  31, 122]],\n",
       " \n",
       "        [[ 64,  40, 129],\n",
       "         [ 64,  39, 130],\n",
       "         [ 62,  36, 129],\n",
       "         ...,\n",
       "         [ 61,  44, 136],\n",
       "         [ 56,  39, 131],\n",
       "         [ 53,  37, 128]],\n",
       " \n",
       "        [[ 62,  37, 128],\n",
       "         [ 61,  35, 128],\n",
       "         [ 57,  31, 126],\n",
       "         ...,\n",
       "         [ 65,  48, 138],\n",
       "         [ 63,  46, 137],\n",
       "         [ 62,  45, 137]],\n",
       " \n",
       "        ...,\n",
       " \n",
       "        [[ 28,  11, 104],\n",
       "         [ 30,  13, 104],\n",
       "         [ 33,  17, 105],\n",
       "         ...,\n",
       "         [ 17,  14,  50],\n",
       "         [ 16,  14,  42],\n",
       "         [ 14,  14,  37]],\n",
       " \n",
       "        [[ 26,  10, 100],\n",
       "         [ 26,  11, 100],\n",
       "         [ 27,  12,  99],\n",
       "         ...,\n",
       "         [ 19,  16,  50],\n",
       "         [ 16,  15,  39],\n",
       "         [ 14,  14,  33]],\n",
       " \n",
       "        [[ 26,  10, 100],\n",
       "         [ 26,  10,  99],\n",
       "         [ 25,  10,  98],\n",
       "         ...,\n",
       "         [ 21,  18,  50],\n",
       "         [ 17,  16,  38],\n",
       "         [ 15,  15,  33]]], dtype=uint8)]"
      ]
     },
     "execution_count": 12,
     "metadata": {},
     "output_type": "execute_result"
    }
   ],
   "source": [
    "ip.image_ready(\"../00_data/00_test_pic\")"
   ]
  }
 ],
 "metadata": {
  "kernelspec": {
   "display_name": "Python 3",
   "language": "python",
   "name": "python3"
  },
  "language_info": {
   "codemirror_mode": {
    "name": "ipython",
    "version": 3
   },
   "file_extension": ".py",
   "mimetype": "text/x-python",
   "name": "python",
   "nbconvert_exporter": "python",
   "pygments_lexer": "ipython3",
   "version": "3.7.7"
  }
 },
 "nbformat": 4,
 "nbformat_minor": 4
}
